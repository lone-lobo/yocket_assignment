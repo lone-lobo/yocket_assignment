{
 "cells": [
  {
   "cell_type": "code",
   "execution_count": 367,
   "id": "ff687fb3",
   "metadata": {},
   "outputs": [],
   "source": [
    "import time\n",
    "from selenium import webdriver\n",
    "from random import randint, choice, uniform\n",
    "from selenium.webdriver.common.by import By\n",
    "from selenium.webdriver.common.keys import Keys\n",
    "from selenium.webdriver.support.ui import Select\n",
    "from selenium.webdriver.chrome.options import Options\n",
    "from selenium.webdriver.chrome.service import Service\n",
    "from selenium.webdriver.support.ui import WebDriverWait\n",
    "from webdriver_manager.chrome import ChromeDriverManager\n",
    "from selenium.webdriver.support import expected_conditions as EC\n",
    "from selenium.common.exceptions import TimeoutException, NoSuchElementException, NoSuchFrameException, ElementClickInterceptedException"
   ]
  },
  {
   "cell_type": "code",
   "execution_count": 432,
   "id": "aab714d8",
   "metadata": {},
   "outputs": [
    {
     "name": "stderr",
     "output_type": "stream",
     "text": [
      "\n",
      "\n",
      "====== WebDriver manager ======\n",
      "Current google-chrome version is 100.0.4896\n",
      "Get LATEST chromedriver version for 100.0.4896 google-chrome\n",
      "Driver [C:\\Users\\Living Room\\.wdm\\drivers\\chromedriver\\win32\\100.0.4896.60\\chromedriver.exe] found in cache\n",
      "C:\\Windows\\Temp\\ipykernel_768\\244793957.py:4: DeprecationWarning: use options instead of chrome_options\n",
      "  driver = webdriver.Chrome(service=Service(ChromeDriverManager().install()),chrome_options=options)\n"
     ]
    }
   ],
   "source": [
    "options = Options()\n",
    "# chrome_options.add_argument(\"--headless\")\n",
    "options.add_argument(\"--start-maximized\")\n",
    "driver = webdriver.Chrome(service=Service(ChromeDriverManager().install()),chrome_options=options)"
   ]
  },
  {
   "cell_type": "code",
   "execution_count": 283,
   "id": "dbe239b0",
   "metadata": {},
   "outputs": [],
   "source": [
    "def sign_up_for_yocket():\n",
    "    driver.get('https://yocket.com/login')"
   ]
  },
  {
   "cell_type": "code",
   "execution_count": 408,
   "id": "6c88eaa8",
   "metadata": {},
   "outputs": [],
   "source": [
    "def tap_and_select_random_option(base_locator,drop_locator_index,input_string=None):\n",
    "    try:\n",
    "        drop_down_locator = '#vs' + str(drop_locator_index) + '__listbox'\n",
    "        drop_list_locator = '#vs' + str(drop_locator_index) + '__combobox > div.vs__selected-options > input'\n",
    "        WebDriverWait(driver, 20).until(EC.element_to_be_clickable((By.CSS_SELECTOR, base_locator))).click()\n",
    "        if input_string :\n",
    "            driver.find_element(By.CSS_SELECTOR,drop_list_locator).clear()\n",
    "            driver.find_element(By.CSS_SELECTOR,drop_list_locator).send_keys(input_string)\n",
    "            time.sleep(2)\n",
    "        WebDriverWait(driver, 20).until(EC.visibility_of_element_located((By.CSS_SELECTOR, drop_down_locator)))\n",
    "        drop_down_options = get_all_options_from_dropdown(drop_down_locator)\n",
    "#         print(drop_down_options)\n",
    "        random_value = randint(0, len(drop_down_options[0])-1)\n",
    "        if input_string :\n",
    "            drop_down_options[0] = drop_down_options[0][:-1]\n",
    "            if len(drop_down_options[0]) <=2 :\n",
    "                random_value = randint(0, len(drop_down_options[0])-1)\n",
    "            else : random_value = randint(0, len(drop_down_options[0])-2)\n",
    "        vs_random_locator = '#vs' + str(drop_locator_index) + '__option-' + str(random_value)\n",
    "#         print(vs_random_locator)\n",
    "        WebDriverWait(driver, 20).until(EC.element_to_be_clickable((By.CSS_SELECTOR, vs_random_locator))).click()\n",
    "    except ElementClickInterceptedException:\n",
    "        print(\" cheking if chat_box is open for help \")\n",
    "        if close_the_chat_box() : \n",
    "            print( \" CLOSED SUCCESSFULLY\")\n",
    "            tap_and_select_random_option(base_locator,drop_locator_index,input_string=input_string)\n",
    "        pass"
   ]
  },
  {
   "cell_type": "code",
   "execution_count": 409,
   "id": "aa258d48",
   "metadata": {},
   "outputs": [],
   "source": [
    "def click_to_next_page(step=None):\n",
    "    \"\"\"Click's the next button \n",
    "        present at the bottom \n",
    "        of the page\n",
    "    \"\"\"\n",
    "    try:\n",
    "        next_button = driver.find_element(By.CSS_SELECTOR, '#__layout > div > main > div > div > div > validationobserver > form > div.grid.grid-cols-2.gap-6.pt-12 > div.text-right > button')\n",
    "#         driver.execute_script(\"arguments[0].click();\", next_button)\n",
    "        next_button.click()\n",
    "    except :\n",
    "        if( step == 1): \n",
    "            driver.refresh()\n",
    "            time.sleep(2)\n",
    "            tap_and_select_random_option(\"#country\",'1')\n",
    "        print(\"try completing the required mandatory fields on the page!, refreshing page\")"
   ]
  },
  {
   "cell_type": "code",
   "execution_count": 430,
   "id": "27522b6d",
   "metadata": {},
   "outputs": [],
   "source": [
    "def get_current_step(try_once = 1):\n",
    "    \"\"\"load's the curent step \n",
    "        number on a given page\n",
    "    \"\"\"\n",
    "    try :\n",
    "        try_once -=1\n",
    "        step_info = driver.find_element(By.CSS_SELECTOR , '#__layout > div > main > div > div > div > validationobserver > form > div:nth-child(1) > div.-mx-4.sm\\:-mx-12.border-b-2 > div > div.flex.justify-between.space-x-6.sm\\:mr-12.mt-4.lg\\:mt-0 > div.text-gray-700.hidden.sm\\:block')\n",
    "        print(f\"Currently at step -> {step_info.text.split(' ')[1]}\")\n",
    "        return int(step_info.text.split(' ')[1])\n",
    "    except NoSuchElementException :\n",
    "        print(\"not able to retrieve the step info , retrying after a second\")\n",
    "        time.sleep(1)\n",
    "        if try_once >= 0 : get_current_step(try_once)"
   ]
  },
  {
   "cell_type": "code",
   "execution_count": 411,
   "id": "d2d099e3",
   "metadata": {},
   "outputs": [],
   "source": [
    "def get_all_options_from_dropdown(locator):\n",
    "    \"\"\" Returns all the possible options \n",
    "        under the given dropdown \n",
    "    input : ccs_selector locator for the \n",
    "            required dropdown\n",
    "    output : list of options\n",
    "    \"\"\"\n",
    "    drop_down_options = []\n",
    "    drop_down_list = driver.find_element(By.CSS_SELECTOR, locator)\n",
    "    drop_down_options.append(drop_down_list.text.split('\\n'))\n",
    "#     print(drop_down_list.text)\n",
    "    return drop_down_options"
   ]
  },
  {
   "cell_type": "code",
   "execution_count": 412,
   "id": "d36e02ab",
   "metadata": {},
   "outputs": [],
   "source": [
    "def go_back_a_step():\n",
    "    step_back = driver.find_element(By.CSS_SELECTOR , '#__layout > div > main > div > div > div > validationobserver > form > div.grid.grid-cols-2.gap-6.pt-12 > div:nth-child(1) > button')\n",
    "    step_back.click()"
   ]
  },
  {
   "cell_type": "code",
   "execution_count": 448,
   "id": "374bb273",
   "metadata": {},
   "outputs": [],
   "source": [
    "def close_the_chat_box():\n",
    "    try:\n",
    "        driver.switch_to.frame(\"siqiframe\")\n",
    "        # driver.switch_to.default_content()\n",
    "        WebDriverWait(driver, 20).until(EC.element_to_be_clickable((By.CSS_SELECTOR, 'body > div.win_close.sqico-larrow'))).click()\n",
    "        time.sleep(2)\n",
    "        driver.switch_to.default_content()\n",
    "        print(\"FOUND THE CHAT BOX INTERCEPTING THE MAIN PAGE\")\n",
    "        return True\n",
    "    except (NoSuchFrameException,NoSuchElementException,ElementClickInterceptedException):\n",
    "        driver.switch_to.default_content()\n",
    "        print(\"No such frame , or chat box is colsed already!\")\n",
    "        pass"
   ]
  },
  {
   "cell_type": "code",
   "execution_count": 414,
   "id": "7b535322",
   "metadata": {},
   "outputs": [],
   "source": [
    "def update_the_score(locator, score):\n",
    "    try:\n",
    "        WebDriverWait(driver, 20).until(EC.element_to_be_clickable((By.CSS_SELECTOR, locator))).send_keys(Keys.CONTROL + \"a\")\n",
    "        WebDriverWait(driver, 20).until(EC.element_to_be_clickable((By.CSS_SELECTOR, locator))).send_keys(Keys.DELETE)\n",
    "        WebDriverWait(driver, 2).until(EC.element_to_be_clickable((By.CSS_SELECTOR, locator))).send_keys(score)\n",
    "    except :\n",
    "        print(\"Locator issue!, check the locator asssigned\")"
   ]
  },
  {
   "cell_type": "code",
   "execution_count": 358,
   "id": "d0288b5a",
   "metadata": {},
   "outputs": [],
   "source": [
    "root_page = 'https://yocket.com'\n",
    "base_page  = 'https://yocket.com/college-finder/masters'\n",
    "driver.get(base_page)"
   ]
  },
  {
   "cell_type": "code",
   "execution_count": 359,
   "id": "1b8580a9",
   "metadata": {},
   "outputs": [
    {
     "name": "stdout",
     "output_type": "stream",
     "text": [
      "Currently at step -> 1\n"
     ]
    },
    {
     "data": {
      "text/plain": [
       "1"
      ]
     },
     "execution_count": 359,
     "metadata": {},
     "output_type": "execute_result"
    }
   ],
   "source": [
    "get_current_step()"
   ]
  },
  {
   "cell_type": "code",
   "execution_count": 362,
   "id": "7f0a6da4",
   "metadata": {},
   "outputs": [
    {
     "ename": "TimeoutException",
     "evalue": "Message: \nStacktrace:\nBacktrace:\n\tOrdinal0 [0x01087413+2389011]\n\tOrdinal0 [0x01019F61+1941345]\n\tOrdinal0 [0x00F0C658+837208]\n\tOrdinal0 [0x00F391DD+1020381]\n\tOrdinal0 [0x00F3949B+1021083]\n\tOrdinal0 [0x00F66032+1204274]\n\tOrdinal0 [0x00F54194+1130900]\n\tOrdinal0 [0x00F64302+1196802]\n\tOrdinal0 [0x00F53F66+1130342]\n\tOrdinal0 [0x00F2E546+976198]\n\tOrdinal0 [0x00F2F456+980054]\n\tGetHandleVerifier [0x01239632+1727522]\n\tGetHandleVerifier [0x012EBA4D+2457661]\n\tGetHandleVerifier [0x0111EB81+569713]\n\tGetHandleVerifier [0x0111DD76+566118]\n\tOrdinal0 [0x01020B2B+1968939]\n\tOrdinal0 [0x01025988+1989000]\n\tOrdinal0 [0x01025A75+1989237]\n\tOrdinal0 [0x0102ECB1+2026673]\n\tBaseThreadInitThunk [0x76D26A14+36]\n\tRtlInitializeExceptionChain [0x7758AB2F+143]\n\tRtlInitializeExceptionChain [0x7758AAFA+90]\n",
     "output_type": "error",
     "traceback": [
      "\u001b[1;31m---------------------------------------------------------------------------\u001b[0m",
      "\u001b[1;31mTimeoutException\u001b[0m                          Traceback (most recent call last)",
      "Input \u001b[1;32mIn [362]\u001b[0m, in \u001b[0;36m<cell line: 1>\u001b[1;34m()\u001b[0m\n\u001b[1;32m----> 1\u001b[0m \u001b[43mtap_and_select_random_option\u001b[49m\u001b[43m(\u001b[49m\u001b[38;5;124;43m\"\u001b[39;49m\u001b[38;5;124;43m#country\u001b[39;49m\u001b[38;5;124;43m\"\u001b[39;49m\u001b[43m,\u001b[49m\u001b[38;5;124;43m'\u001b[39;49m\u001b[38;5;124;43m1\u001b[39;49m\u001b[38;5;124;43m'\u001b[39;49m\u001b[43m)\u001b[49m\n",
      "Input \u001b[1;32mIn [351]\u001b[0m, in \u001b[0;36mtap_and_select_random_option\u001b[1;34m(base_locator, drop_locator_index, input_string)\u001b[0m\n\u001b[0;32m      3\u001b[0m drop_down_locator \u001b[38;5;241m=\u001b[39m \u001b[38;5;124m'\u001b[39m\u001b[38;5;124m#vs\u001b[39m\u001b[38;5;124m'\u001b[39m \u001b[38;5;241m+\u001b[39m \u001b[38;5;28mstr\u001b[39m(drop_locator_index) \u001b[38;5;241m+\u001b[39m \u001b[38;5;124m'\u001b[39m\u001b[38;5;124m__listbox\u001b[39m\u001b[38;5;124m'\u001b[39m\n\u001b[0;32m      4\u001b[0m drop_list_locator \u001b[38;5;241m=\u001b[39m \u001b[38;5;124m'\u001b[39m\u001b[38;5;124m#vs\u001b[39m\u001b[38;5;124m'\u001b[39m \u001b[38;5;241m+\u001b[39m \u001b[38;5;28mstr\u001b[39m(drop_locator_index) \u001b[38;5;241m+\u001b[39m \u001b[38;5;124m'\u001b[39m\u001b[38;5;124m__combobox > div.vs__selected-options > input\u001b[39m\u001b[38;5;124m'\u001b[39m\n\u001b[1;32m----> 5\u001b[0m \u001b[43mWebDriverWait\u001b[49m\u001b[43m(\u001b[49m\u001b[43mdriver\u001b[49m\u001b[43m,\u001b[49m\u001b[43m \u001b[49m\u001b[38;5;241;43m20\u001b[39;49m\u001b[43m)\u001b[49m\u001b[38;5;241;43m.\u001b[39;49m\u001b[43muntil\u001b[49m\u001b[43m(\u001b[49m\u001b[43mEC\u001b[49m\u001b[38;5;241;43m.\u001b[39;49m\u001b[43melement_to_be_clickable\u001b[49m\u001b[43m(\u001b[49m\u001b[43m(\u001b[49m\u001b[43mBy\u001b[49m\u001b[38;5;241;43m.\u001b[39;49m\u001b[43mCSS_SELECTOR\u001b[49m\u001b[43m,\u001b[49m\u001b[43m \u001b[49m\u001b[43mbase_locator\u001b[49m\u001b[43m)\u001b[49m\u001b[43m)\u001b[49m\u001b[43m)\u001b[49m\u001b[38;5;241m.\u001b[39mclick()\n\u001b[0;32m      6\u001b[0m \u001b[38;5;28;01mif\u001b[39;00m input_string :\n\u001b[0;32m      7\u001b[0m     driver\u001b[38;5;241m.\u001b[39mfind_element(By\u001b[38;5;241m.\u001b[39mCSS_SELECTOR,drop_list_locator)\u001b[38;5;241m.\u001b[39mclear()\n",
      "File \u001b[1;32m~\\AppData\\Local\\Programs\\Python\\Python310\\lib\\site-packages\\selenium\\webdriver\\support\\wait.py:89\u001b[0m, in \u001b[0;36mWebDriverWait.until\u001b[1;34m(self, method, message)\u001b[0m\n\u001b[0;32m     87\u001b[0m     \u001b[38;5;28;01mif\u001b[39;00m time\u001b[38;5;241m.\u001b[39mtime() \u001b[38;5;241m>\u001b[39m end_time:\n\u001b[0;32m     88\u001b[0m         \u001b[38;5;28;01mbreak\u001b[39;00m\n\u001b[1;32m---> 89\u001b[0m \u001b[38;5;28;01mraise\u001b[39;00m TimeoutException(message, screen, stacktrace)\n",
      "\u001b[1;31mTimeoutException\u001b[0m: Message: \nStacktrace:\nBacktrace:\n\tOrdinal0 [0x01087413+2389011]\n\tOrdinal0 [0x01019F61+1941345]\n\tOrdinal0 [0x00F0C658+837208]\n\tOrdinal0 [0x00F391DD+1020381]\n\tOrdinal0 [0x00F3949B+1021083]\n\tOrdinal0 [0x00F66032+1204274]\n\tOrdinal0 [0x00F54194+1130900]\n\tOrdinal0 [0x00F64302+1196802]\n\tOrdinal0 [0x00F53F66+1130342]\n\tOrdinal0 [0x00F2E546+976198]\n\tOrdinal0 [0x00F2F456+980054]\n\tGetHandleVerifier [0x01239632+1727522]\n\tGetHandleVerifier [0x012EBA4D+2457661]\n\tGetHandleVerifier [0x0111EB81+569713]\n\tGetHandleVerifier [0x0111DD76+566118]\n\tOrdinal0 [0x01020B2B+1968939]\n\tOrdinal0 [0x01025988+1989000]\n\tOrdinal0 [0x01025A75+1989237]\n\tOrdinal0 [0x0102ECB1+2026673]\n\tBaseThreadInitThunk [0x76D26A14+36]\n\tRtlInitializeExceptionChain [0x7758AB2F+143]\n\tRtlInitializeExceptionChain [0x7758AAFA+90]\n"
     ]
    }
   ],
   "source": [
    "tap_and_select_random_option(\"#country\",'1')"
   ]
  },
  {
   "cell_type": "code",
   "execution_count": 385,
   "id": "75bc048f",
   "metadata": {},
   "outputs": [],
   "source": [
    "def check_if_proper_page(desired_step):\n",
    "    if get_current_step() == desired_step :\n",
    "        print(\"Got into proper page for desired step\")\n",
    "        return True\n",
    "    elif get_current_step() > desired_step: \n",
    "        go_back_a_step()\n",
    "        print(\"Stepping a page back\")\n",
    "        check_if_proper_page(desired_step)\n",
    "    else :\n",
    "        print(\"Please complete the mandatory information over current page before navigating to next\")\n",
    "        return False"
   ]
  },
  {
   "cell_type": "code",
   "execution_count": 433,
   "id": "f976e9db",
   "metadata": {},
   "outputs": [],
   "source": [
    "def first_page(max_tries=3):\n",
    "    try:\n",
    "        max_tries -= 1\n",
    "        check_if_proper_page(1)\n",
    "        tap_and_select_random_option(\"#country\",'1')\n",
    "        print(\"Selected random country\")\n",
    "        close_the_chat_box()\n",
    "        tap_and_select_random_option(\"#area_of_study\",'2','eng')\n",
    "        print(\"Selected random aread_of_study\")\n",
    "        close_the_chat_box()\n",
    "        click_to_next_page()\n",
    "        print(\"navigated to next page\")\n",
    "        return True\n",
    "    except TimeoutException :\n",
    "        driver.get(base_page)\n",
    "        if (max_tries >= 0):\n",
    "            first_page(max_tries)\n",
    "        else :\n",
    "            print(\"Maximum tries reached for first page \")"
   ]
  },
  {
   "cell_type": "code",
   "execution_count": 383,
   "id": "5e0af260",
   "metadata": {},
   "outputs": [
    {
     "name": "stdout",
     "output_type": "stream",
     "text": [
      "Currently at step -> 2\n",
      "Currently at step -> 2\n",
      "Stepping a page back\n",
      "Currently at step -> 1\n",
      "Got into proper page and step\n",
      "Currently at step -> 1\n",
      "Got into proper page and step\n",
      "United States\n",
      "Canada\n",
      "Australia & New Zealand\n",
      "United Kingdom\n",
      "European Union\n",
      "#vs1__option-1\n",
      "Selected random country\n",
      "Electrical and Computer Engineering\n",
      "Mechanical Engineering\n",
      "Civil Engineering\n",
      "Industrial Engineering\n",
      "Engineering Management Mem\n",
      "Electrical and Electronics Engineering\n",
      "Aerospace Engineering\n",
      "Civil and Environmental Engineering\n",
      "Biomedical Engineering\n",
      "Software Engineering\n",
      "Mechatronics Robotics and Automation Engineering\n",
      "Manufacturing Engineering\n",
      "Computer Engineering\n",
      "Automotive Engineering\n",
      "Biochemical Engineering\n",
      "Electrical Engineering\n",
      "Engineering Science\n",
      "Construction Engineering\n",
      "Materials Engineering\n",
      "Systems Engineering\n",
      "Petroleum Engineering\n",
      "Mining and Mineral Engineering\n",
      "Engineering General\n",
      "Engineering Design\n",
      "Biological Biosystems Engineering\n",
      "Environmental Engineering Technology\n",
      "English\n",
      "Process Engineering\n",
      "Engineering Physics\n",
      "Chemical and Biological Engineering\n",
      "Energy Systems Engineering\n",
      "Nuclear Engineering Technology\n",
      "Engineering and Technology\n",
      "Financial Engineering\n",
      "Water Resources Engineering\n",
      "Geological Engineering\n",
      "#vs2__option-31\n",
      "Selected random aread_of_study\n",
      "navigated to next page\n"
     ]
    }
   ],
   "source": [
    "first_page()"
   ]
  },
  {
   "cell_type": "code",
   "execution_count": 436,
   "id": "c7c50217",
   "metadata": {},
   "outputs": [],
   "source": [
    "def second_page(max_tries=2):\n",
    "    try:\n",
    "        max_tries -= 1\n",
    "        if not check_if_proper_page(2):\n",
    "            print(\"Filing out the first step first !\")\n",
    "            first_page()\n",
    "        tap_and_select_random_option(\"#college\",'4','tech')\n",
    "        print(\"Selected random college\")\n",
    "        tap_and_select_random_option(\"#major\",'6','Elec')\n",
    "        print(\"Selected random major_of_study\")\n",
    "        driver.find_element(By.CSS_SELECTOR,'#marks').clear()\n",
    "        random_cgpa = round(uniform(5,10), 2)\n",
    "        update_the_score('#marks',random_cgpa)\n",
    "        close_the_chat_box()\n",
    "        click_to_next_page()\n",
    "        print(\"clicked on next button \")\n",
    "        return True\n",
    "    except TimeoutException :\n",
    "        driver.refresh()\n",
    "        time.sleep(2)\n",
    "        if (max_tries >= 0):\n",
    "            second_page(max_tries)\n",
    "        else :\n",
    "            print(\"Maximum tries reached for second page \")"
   ]
  },
  {
   "cell_type": "code",
   "execution_count": 390,
   "id": "7d0fe221",
   "metadata": {},
   "outputs": [
    {
     "name": "stdout",
     "output_type": "stream",
     "text": [
      "Currently at step -> 2\n",
      "Got into proper page for desired step\n",
      "Apex International Institute of Technology\n",
      "Bal Krishna Institute of Technology\n",
      "Gurukul Institute of Engineering & Technology\n",
      "Maharishi Arvind College of Engineering & Technology\n",
      "Maharishi Arvind International Institute of Technology\n",
      "Modi Institute of Technology\n",
      "Sardar Patel College of Technology\n",
      "Shri Balaji Institute of Technology & Mgmt.\n",
      "University Institute of Technology\n",
      "Lakshmi Narain College of Technology\n",
      "tech\n",
      "#vs4__option-7\n",
      "Selected random college\n",
      "Computer Networking and Telecommunications\n",
      "Computer Science Electronics\n",
      "Electrical and Computer Engineering\n",
      "Electrical and Electronics Engineering\n",
      "Electrical and Power Engineering\n",
      "Electrical Electronics and Communications Engineering\n",
      "Electrical Engineering\n",
      "Electrician\n",
      "Electronics and Communication Engineering\n",
      "Electronics Engineering\n",
      "Telecommunication Engineering\n",
      "Telecommunications Engineering and Technology\n",
      "#vs6__option-3\n",
      "Selected random major_of_study\n",
      "clicked to next button \n"
     ]
    },
    {
     "data": {
      "text/plain": [
       "True"
      ]
     },
     "execution_count": 390,
     "metadata": {},
     "output_type": "execute_result"
    }
   ],
   "source": [
    "second_page()    "
   ]
  },
  {
   "cell_type": "code",
   "execution_count": 391,
   "id": "cd79e942",
   "metadata": {},
   "outputs": [],
   "source": [
    "exam_dict = {\n",
    "    'ielts' : '2',\n",
    "    'pte' : '3',\n",
    "    'toefl' : '1'\n",
    "    }"
   ]
  },
  {
   "cell_type": "code",
   "execution_count": 392,
   "id": "7f9f4863",
   "metadata": {},
   "outputs": [],
   "source": [
    "aptitude_dict = {\n",
    "    'gre' : '1',\n",
    "    'gmat' : '2',\n",
    "    'none' : '3'\n",
    "}"
   ]
  },
  {
   "cell_type": "code",
   "execution_count": 393,
   "id": "61e91501",
   "metadata": {},
   "outputs": [],
   "source": [
    "def fill_the_english_test_scores():\n",
    "    english_test_name, english_locator_index = choice(list(exam_dict.items()))\n",
    "    english_locator = ' #__layout > div > main > div > div > div > validationobserver > form > div:nth-child(1) > div:nth-child(2) > div > div.col-span-2.sm\\:col-span-1.sm\\:pr-4 > div.grid.grid-cols-3.sm\\:grid-cols-3.gap-2.justify-center.items-center.pt-2 > div:nth-child(' + str(english_locator_index) + ') > div' \n",
    "    print(english_test_name, english_locator)\n",
    "    WebDriverWait(driver, 20).until(EC.element_to_be_clickable((By.CSS_SELECTOR, english_locator))).click()\n",
    "    english_score = 0\n",
    "    input_value_locator = '#'+ english_test_name + '_overall_score'\n",
    "    print(input_value_locator)\n",
    "    if( english_test_name == 'toefl') :\n",
    "        english_score = randint(60,120)\n",
    "    elif english_test_name == 'pte' :\n",
    "        english_score = randint(45,90)\n",
    "    elif english_test_name == 'ielts' :\n",
    "        english_score = randint(5,9)\n",
    "    else  :\n",
    "        print( \"select the proper exam section ! \")\n",
    "    update_the_score(input_value_locator, english_score)"
   ]
  },
  {
   "cell_type": "code",
   "execution_count": 394,
   "id": "0c6231f4",
   "metadata": {},
   "outputs": [],
   "source": [
    "def fill_the_aptitude_test_scores():\n",
    "    aptitude_test_name, aptitude_locator_index = choice(list(aptitude_dict.items()))\n",
    "    aptitude_locator = '#__layout > div > main > div > div > div > validationobserver > form > div:nth-child(1) > div:nth-child(2) > div > div.col-span-2.sm\\:col-span-1.sm\\:pl-8 > div.pt-2 > div.grid.grid-cols-3.md\\:grid-cols-3.gap-2.justify-center.items-center > div:nth-child(' + str(aptitude_locator_index) + ') > div'\n",
    "    print(aptitude_test_name, aptitude_locator)\n",
    "    WebDriverWait(driver, 20).until(EC.element_to_be_clickable((By.CSS_SELECTOR, aptitude_locator))).click()\n",
    "    if( aptitude_test_name == 'gre') :\n",
    "#         aptitude_score = [randint(85,170),randint(85,170),randint(3,6)]\n",
    "        update_the_score('#verbal_score', randint(130,170))\n",
    "        update_the_score('#quant_score', randint(130,170))\n",
    "        update_the_score('#awa_score', randint(3,6))\n",
    "    elif aptitude_test_name == 'gmat' :\n",
    "        update_the_score('#total_gmat_score', randint(450,800))\n",
    "    elif aptitude_test_name == 'none' :\n",
    "        aptitude_score = None\n",
    "    else  :\n",
    "        print( \"select the proper exam section ! \")"
   ]
  },
  {
   "cell_type": "code",
   "execution_count": 437,
   "id": "1647df9c",
   "metadata": {},
   "outputs": [],
   "source": [
    "def third_page(max_tries=1):\n",
    "    try:\n",
    "        max_tries -= 1\n",
    "        if not check_if_proper_page(3):\n",
    "            print(\"Filing out the second step first !\")\n",
    "            second_page()\n",
    "        fill_the_english_test_scores()\n",
    "        print(\"Filled random scores for random english test\")\n",
    "        fill_the_aptitude_test_scores()\n",
    "        print(\"Filled random aptitude scores\")\n",
    "        close_the_chat_box()\n",
    "        click_to_next_page()\n",
    "        print(\"clicked on next button \")\n",
    "        return True\n",
    "    except TimeoutException :\n",
    "        driver.refresh()\n",
    "        time.sleep(2)\n",
    "        if (max_tries >= 0):\n",
    "            third_page(max_tries)\n",
    "        else :\n",
    "            print(\"Maximum tries reached for third page \")"
   ]
  },
  {
   "cell_type": "code",
   "execution_count": 396,
   "id": "180aaaa2",
   "metadata": {},
   "outputs": [
    {
     "name": "stdout",
     "output_type": "stream",
     "text": [
      "Currently at step -> 3\n",
      "Got into proper page for desired step\n",
      "ielts  #__layout > div > main > div > div > div > validationobserver > form > div:nth-child(1) > div:nth-child(2) > div > div.col-span-2.sm\\:col-span-1.sm\\:pr-4 > div.grid.grid-cols-3.sm\\:grid-cols-3.gap-2.justify-center.items-center.pt-2 > div:nth-child(2) > div\n",
      "#ielts_overall_score\n",
      "Filled random scores for random english test\n",
      "gmat #__layout > div > main > div > div > div > validationobserver > form > div:nth-child(1) > div:nth-child(2) > div > div.col-span-2.sm\\:col-span-1.sm\\:pl-8 > div.pt-2 > div.grid.grid-cols-3.md\\:grid-cols-3.gap-2.justify-center.items-center > div:nth-child(2) > div\n",
      "Filled random aptitude scores\n",
      "clicked to next button \n"
     ]
    },
    {
     "data": {
      "text/plain": [
       "True"
      ]
     },
     "execution_count": 396,
     "metadata": {},
     "output_type": "execute_result"
    }
   ],
   "source": [
    "third_page()"
   ]
  },
  {
   "cell_type": "code",
   "execution_count": 438,
   "id": "0e304d7c",
   "metadata": {},
   "outputs": [],
   "source": [
    "def fourth_page(max_tries=1):\n",
    "    try:\n",
    "        max_tries -= 1\n",
    "        if not check_if_proper_page(4):\n",
    "            print(\"Filing out the third step first !\")\n",
    "            third_page()\n",
    "        update_the_score('#work_exp',randint(5,50))\n",
    "        print(\"entered random scores for work experience\")\n",
    "        update_the_score('#project',randint(0,10))\n",
    "        print(\"entered random project's done\")\n",
    "        close_the_chat_box()\n",
    "        click_to_next_page()\n",
    "        print(\"clicked on next button \")\n",
    "        return True\n",
    "    except TimeoutException :\n",
    "        driver.refresh()\n",
    "        time.sleep(2)\n",
    "        if (max_tries >= 0):\n",
    "            fourth_page(max_tries)\n",
    "        else :\n",
    "            print(\"Maximum tries reached for fourth page \")"
   ]
  },
  {
   "cell_type": "code",
   "execution_count": 400,
   "id": "89c9018a",
   "metadata": {},
   "outputs": [
    {
     "name": "stdout",
     "output_type": "stream",
     "text": [
      "Currently at step -> 4\n",
      "Got into proper page for desired step\n",
      "entered random scores for work experience\n",
      "entered random project's done\n",
      "clicked on next button \n"
     ]
    },
    {
     "data": {
      "text/plain": [
       "True"
      ]
     },
     "execution_count": 400,
     "metadata": {},
     "output_type": "execute_result"
    }
   ],
   "source": [
    "fourth_page()"
   ]
  },
  {
   "cell_type": "code",
   "execution_count": 401,
   "id": "1d930ddc",
   "metadata": {},
   "outputs": [],
   "source": [
    "relevance_dict = {\n",
    "    'relevance' : '0',\n",
    "    'cost' : '1'\n",
    "}"
   ]
  },
  {
   "cell_type": "code",
   "execution_count": 464,
   "id": "c01257f6",
   "metadata": {},
   "outputs": [],
   "source": [
    "def get_list_of_all_universities(locator):\n",
    "    output = []\n",
    "    universities = driver.find_element(By.CSS_SELECTOR, locator)\n",
    "#     print(universities.text)\n",
    "    raw_university = universities.text.split('Shortlist')[1:]\n",
    "    for r in raw_university:\n",
    "        output.append(r.split('\\n')[1:])\n",
    "    return output"
   ]
  },
  {
   "cell_type": "code",
   "execution_count": 485,
   "id": "45429738",
   "metadata": {},
   "outputs": [],
   "source": [
    "def check_if_results_zero(locator):\n",
    "    try : \n",
    "        result = driver.find_element(By.CSS_SELECTOR, locator)\n",
    "        if result.text == 'Uh-oh! That spell didn’t work': return True\n",
    "        else: return False\n",
    "    except :\n",
    "        print ('seomthing wrong with the locator')"
   ]
  },
  {
   "cell_type": "code",
   "execution_count": 484,
   "id": "ebbe5625",
   "metadata": {},
   "outputs": [
    {
     "name": "stdout",
     "output_type": "stream",
     "text": [
      "Uh-oh! That spell didn’t work\n"
     ]
    }
   ],
   "source": [
    "\n"
   ]
  },
  {
   "cell_type": "code",
   "execution_count": 486,
   "id": "88dfd5a9",
   "metadata": {},
   "outputs": [],
   "source": [
    "def scrape_on_50_opacity():\n",
    "    if driver.find_element(By.CSS_SELECTOR, '#__layout > div > main > div > div > div > p').text == \"Ambitious Universities (0)\" :\n",
    "#         error_message = driver.find_element(By.CSS_SELECTOR,'#__layout > div > main > div > div > div > div.text-center.lg\\:text-left.text-gray-700 > div > p.text-xl.text-gray-900.text-opacity-75.font-semibold').text\n",
    "        print(\"Our search couldn't help find a better match ! , here is the message \")\n",
    "#         print(error_message)\n",
    "        print(\"Sorry, we couldn’t find universities under the ambitious category that match your profile.\"\n",
    "              \"Try our Premium plans (spells) and get expert guidance! . checking for any Target Universities\"\n",
    "              \"\\nHere's your other options! TARGET Universities\")\n",
    "    else :\n",
    "        val  = Select(driver.find_element(By.CSS_SELECTOR, '#__layout > div > main > div > div > div > div:nth-child(5) > div.flex.justify-between.items-center > div > select'))\n",
    "        val.select_by_value(relevance_dict['cost'])\n",
    "        ambitious_universities = get_list_of_all_universities('#__layout > div > main > div > div > div > div:nth-child(5) > div.grid.grid-cols-1.sm\\:grid-cols-2.lg\\:grid-cols-3.gap-4.sm\\:gap-6')\n",
    "        print(ambitious_universities)\n",
    "        return ambitious_universities\n",
    "    target_universities = get_list_of_all_universities('#__layout > div > main > div > div > div > div:nth-child(7) > div')\n",
    "#     safe_universities = get_list_of_all_universities('#__layout > div > main > div > div > div > div:nth-child(9) > div > div')\n",
    "    safe_universities = get_list_of_all_universities('#__layout > div > main > div > div > div > div:nth-child(9) > div')\n",
    "    \n",
    "    print(target_universities)\n",
    "    print(\"\\nHere's your other options! Safe Universities\")\n",
    "    print(safe_universities)\n",
    "    return target_universities"
   ]
  },
  {
   "cell_type": "code",
   "execution_count": null,
   "id": "8bef7cdb",
   "metadata": {},
   "outputs": [],
   "source": []
  },
  {
   "cell_type": "code",
   "execution_count": 462,
   "id": "9b442d97",
   "metadata": {},
   "outputs": [],
   "source": [
    "#__layout > div > main > div > div > div > div > p.text-2xl.md\\:text-3xl.text-gray-900.text-opacity-75.font-semibold"
   ]
  },
  {
   "cell_type": "code",
   "execution_count": 488,
   "id": "2ad3f4c7",
   "metadata": {},
   "outputs": [],
   "source": [
    "def final_result(): \n",
    "    if check_if_results_zero('#__layout > div > main > div > div > div > div > p.text-2xl.md\\:text-3xl.text-gray-900.text-opacity-75.font-semibold'):\n",
    "        print(\" FOUND ZERO RESULTS , PROBABLY YOU NEED TO RECONSIDER YUOR CARRER OPTION\")\n",
    "        pass\n",
    "    else : \n",
    "        Ideal_match = scrape_on_50_opacity()\n",
    "        print(\" IDEAL UNIVERSITY FOUND IS {}\".format (Ideal_match[0][1]))"
   ]
  },
  {
   "cell_type": "code",
   "execution_count": 405,
   "id": "a741927c",
   "metadata": {},
   "outputs": [],
   "source": [
    "def get_to_final_page():\n",
    "    driver.get(base_page)\n",
    "    first_page()\n",
    "    second_page()\n",
    "    third_page()\n",
    "    fourth_page()"
   ]
  },
  {
   "cell_type": "code",
   "execution_count": 488,
   "id": "7a4d235d",
   "metadata": {},
   "outputs": [
    {
     "name": "stdout",
     "output_type": "stream",
     "text": [
      "Currently at step -> 1\n",
      "Got into proper page for desired step\n",
      " cheking if chat_box is open for help \n",
      "No such frame , or chat box is colsed already!\n",
      "Selected random country\n",
      "No such frame , or chat box is colsed already!\n",
      " cheking if chat_box is open for help \n",
      "No such frame , or chat box is colsed already!\n",
      "Selected random aread_of_study\n",
      "No such frame , or chat box is colsed already!\n",
      "try completing the required mandatory fields on the page!, refreshing page\n",
      "navigated to next page\n",
      "Currently at step -> 1\n",
      "Currently at step -> 1\n",
      "Please complete the mandatory information over current page before navigating to next\n",
      "Filing out the first step first !\n",
      "Currently at step -> 1\n",
      "Got into proper page for desired step\n",
      " cheking if chat_box is open for help \n",
      "No such frame , or chat box is colsed already!\n",
      "Selected random country\n",
      "No such frame , or chat box is colsed already!\n",
      " cheking if chat_box is open for help \n",
      "No such frame , or chat box is colsed already!\n",
      "Selected random aread_of_study\n",
      "No such frame , or chat box is colsed already!\n",
      "try completing the required mandatory fields on the page!, refreshing page\n",
      "navigated to next page\n",
      "Currently at step -> 1\n",
      "Currently at step -> 1\n",
      "Please complete the mandatory information over current page before navigating to next\n",
      "Filing out the first step first !\n",
      "Currently at step -> 1\n",
      "Got into proper page for desired step\n",
      " cheking if chat_box is open for help \n",
      "No such frame , or chat box is colsed already!\n",
      "Selected random country\n",
      "No such frame , or chat box is colsed already!\n",
      " cheking if chat_box is open for help \n",
      "No such frame , or chat box is colsed already!\n",
      "Selected random aread_of_study\n",
      "No such frame , or chat box is colsed already!\n",
      "try completing the required mandatory fields on the page!, refreshing page\n",
      "navigated to next page\n",
      "Currently at step -> 1\n",
      "Currently at step -> 1\n",
      "Please complete the mandatory information over current page before navigating to next\n",
      "Filing out the first step first !\n",
      "Currently at step -> 1\n",
      "Got into proper page for desired step\n",
      " cheking if chat_box is open for help \n",
      "No such frame , or chat box is colsed already!\n",
      "Selected random country\n",
      "No such frame , or chat box is colsed already!\n",
      " cheking if chat_box is open for help \n",
      "No such frame , or chat box is colsed already!\n",
      "Selected random aread_of_study\n",
      "No such frame , or chat box is colsed already!\n",
      "try completing the required mandatory fields on the page!, refreshing page\n",
      "navigated to next page\n",
      "Maximum tries reached for second page \n",
      "Currently at step -> 1\n",
      "Currently at step -> 1\n",
      "Please complete the mandatory information over current page before navigating to next\n",
      "Filing out the second step first !\n",
      "Currently at step -> 1\n",
      "Currently at step -> 1\n",
      "Please complete the mandatory information over current page before navigating to next\n",
      "Filing out the first step first !\n",
      "Currently at step -> 1\n",
      "Got into proper page for desired step\n",
      " cheking if chat_box is open for help \n",
      "No such frame , or chat box is colsed already!\n",
      "Selected random country\n",
      "No such frame , or chat box is colsed already!\n",
      " cheking if chat_box is open for help \n",
      "No such frame , or chat box is colsed already!\n",
      "Selected random aread_of_study\n",
      "No such frame , or chat box is colsed already!\n",
      "try completing the required mandatory fields on the page!, refreshing page\n",
      "navigated to next page\n",
      "Currently at step -> 1\n",
      "Currently at step -> 1\n",
      "Please complete the mandatory information over current page before navigating to next\n",
      "Filing out the first step first !\n",
      "Currently at step -> 1\n",
      "Got into proper page for desired step\n",
      " cheking if chat_box is open for help \n",
      "No such frame , or chat box is colsed already!\n",
      "Selected random country\n",
      "No such frame , or chat box is colsed already!\n",
      " cheking if chat_box is open for help \n",
      "No such frame , or chat box is colsed already!\n",
      "Selected random aread_of_study\n",
      "No such frame , or chat box is colsed already!\n",
      "try completing the required mandatory fields on the page!, refreshing page\n",
      "navigated to next page\n",
      "Currently at step -> 1\n",
      "Currently at step -> 1\n",
      "Please complete the mandatory information over current page before navigating to next\n",
      "Filing out the first step first !\n",
      "Currently at step -> 1\n",
      "Got into proper page for desired step\n",
      " cheking if chat_box is open for help \n",
      "No such frame , or chat box is colsed already!\n",
      "Selected random country\n",
      "No such frame , or chat box is colsed already!\n",
      " cheking if chat_box is open for help \n",
      "No such frame , or chat box is colsed already!\n",
      "Selected random aread_of_study\n",
      "No such frame , or chat box is colsed already!\n",
      "try completing the required mandatory fields on the page!, refreshing page\n",
      "navigated to next page\n"
     ]
    },
    {
     "ename": "KeyboardInterrupt",
     "evalue": "",
     "output_type": "error",
     "traceback": [
      "\u001b[1;31m---------------------------------------------------------------------------\u001b[0m",
      "\u001b[1;31mTimeoutException\u001b[0m                          Traceback (most recent call last)",
      "Input \u001b[1;32mIn [436]\u001b[0m, in \u001b[0;36msecond_page\u001b[1;34m(max_tries)\u001b[0m\n\u001b[0;32m      6\u001b[0m     first_page()\n\u001b[1;32m----> 7\u001b[0m \u001b[43mtap_and_select_random_option\u001b[49m\u001b[43m(\u001b[49m\u001b[38;5;124;43m\"\u001b[39;49m\u001b[38;5;124;43m#college\u001b[39;49m\u001b[38;5;124;43m\"\u001b[39;49m\u001b[43m,\u001b[49m\u001b[38;5;124;43m'\u001b[39;49m\u001b[38;5;124;43m4\u001b[39;49m\u001b[38;5;124;43m'\u001b[39;49m\u001b[43m,\u001b[49m\u001b[38;5;124;43m'\u001b[39;49m\u001b[38;5;124;43mtech\u001b[39;49m\u001b[38;5;124;43m'\u001b[39;49m\u001b[43m)\u001b[49m\n\u001b[0;32m      8\u001b[0m \u001b[38;5;28mprint\u001b[39m(\u001b[38;5;124m\"\u001b[39m\u001b[38;5;124mSelected random college\u001b[39m\u001b[38;5;124m\"\u001b[39m)\n",
      "Input \u001b[1;32mIn [408]\u001b[0m, in \u001b[0;36mtap_and_select_random_option\u001b[1;34m(base_locator, drop_locator_index, input_string)\u001b[0m\n\u001b[0;32m      4\u001b[0m drop_list_locator \u001b[38;5;241m=\u001b[39m \u001b[38;5;124m'\u001b[39m\u001b[38;5;124m#vs\u001b[39m\u001b[38;5;124m'\u001b[39m \u001b[38;5;241m+\u001b[39m \u001b[38;5;28mstr\u001b[39m(drop_locator_index) \u001b[38;5;241m+\u001b[39m \u001b[38;5;124m'\u001b[39m\u001b[38;5;124m__combobox > div.vs__selected-options > input\u001b[39m\u001b[38;5;124m'\u001b[39m\n\u001b[1;32m----> 5\u001b[0m \u001b[43mWebDriverWait\u001b[49m\u001b[43m(\u001b[49m\u001b[43mdriver\u001b[49m\u001b[43m,\u001b[49m\u001b[43m \u001b[49m\u001b[38;5;241;43m20\u001b[39;49m\u001b[43m)\u001b[49m\u001b[38;5;241;43m.\u001b[39;49m\u001b[43muntil\u001b[49m\u001b[43m(\u001b[49m\u001b[43mEC\u001b[49m\u001b[38;5;241;43m.\u001b[39;49m\u001b[43melement_to_be_clickable\u001b[49m\u001b[43m(\u001b[49m\u001b[43m(\u001b[49m\u001b[43mBy\u001b[49m\u001b[38;5;241;43m.\u001b[39;49m\u001b[43mCSS_SELECTOR\u001b[49m\u001b[43m,\u001b[49m\u001b[43m \u001b[49m\u001b[43mbase_locator\u001b[49m\u001b[43m)\u001b[49m\u001b[43m)\u001b[49m\u001b[43m)\u001b[49m\u001b[38;5;241m.\u001b[39mclick()\n\u001b[0;32m      6\u001b[0m \u001b[38;5;28;01mif\u001b[39;00m input_string :\n",
      "File \u001b[1;32m~\\AppData\\Local\\Programs\\Python\\Python310\\lib\\site-packages\\selenium\\webdriver\\support\\wait.py:89\u001b[0m, in \u001b[0;36mWebDriverWait.until\u001b[1;34m(self, method, message)\u001b[0m\n\u001b[0;32m     88\u001b[0m         \u001b[38;5;28;01mbreak\u001b[39;00m\n\u001b[1;32m---> 89\u001b[0m \u001b[38;5;28;01mraise\u001b[39;00m TimeoutException(message, screen, stacktrace)\n",
      "\u001b[1;31mTimeoutException\u001b[0m: Message: \nStacktrace:\nBacktrace:\n\tOrdinal0 [0x01087413+2389011]\n\tOrdinal0 [0x01019F61+1941345]\n\tOrdinal0 [0x00F0C658+837208]\n\tOrdinal0 [0x00F391DD+1020381]\n\tOrdinal0 [0x00F3949B+1021083]\n\tOrdinal0 [0x00F66032+1204274]\n\tOrdinal0 [0x00F54194+1130900]\n\tOrdinal0 [0x00F64302+1196802]\n\tOrdinal0 [0x00F53F66+1130342]\n\tOrdinal0 [0x00F2E546+976198]\n\tOrdinal0 [0x00F2F456+980054]\n\tGetHandleVerifier [0x01239632+1727522]\n\tGetHandleVerifier [0x012EBA4D+2457661]\n\tGetHandleVerifier [0x0111EB81+569713]\n\tGetHandleVerifier [0x0111DD76+566118]\n\tOrdinal0 [0x01020B2B+1968939]\n\tOrdinal0 [0x01025988+1989000]\n\tOrdinal0 [0x01025A75+1989237]\n\tOrdinal0 [0x0102ECB1+2026673]\n\tBaseThreadInitThunk [0x76D26A14+36]\n\tRtlInitializeExceptionChain [0x7758AB2F+143]\n\tRtlInitializeExceptionChain [0x7758AAFA+90]\n",
      "\nDuring handling of the above exception, another exception occurred:\n",
      "\u001b[1;31mTimeoutException\u001b[0m                          Traceback (most recent call last)",
      "Input \u001b[1;32mIn [436]\u001b[0m, in \u001b[0;36msecond_page\u001b[1;34m(max_tries)\u001b[0m\n\u001b[0;32m      6\u001b[0m     first_page()\n\u001b[1;32m----> 7\u001b[0m \u001b[43mtap_and_select_random_option\u001b[49m\u001b[43m(\u001b[49m\u001b[38;5;124;43m\"\u001b[39;49m\u001b[38;5;124;43m#college\u001b[39;49m\u001b[38;5;124;43m\"\u001b[39;49m\u001b[43m,\u001b[49m\u001b[38;5;124;43m'\u001b[39;49m\u001b[38;5;124;43m4\u001b[39;49m\u001b[38;5;124;43m'\u001b[39;49m\u001b[43m,\u001b[49m\u001b[38;5;124;43m'\u001b[39;49m\u001b[38;5;124;43mtech\u001b[39;49m\u001b[38;5;124;43m'\u001b[39;49m\u001b[43m)\u001b[49m\n\u001b[0;32m      8\u001b[0m \u001b[38;5;28mprint\u001b[39m(\u001b[38;5;124m\"\u001b[39m\u001b[38;5;124mSelected random college\u001b[39m\u001b[38;5;124m\"\u001b[39m)\n",
      "Input \u001b[1;32mIn [408]\u001b[0m, in \u001b[0;36mtap_and_select_random_option\u001b[1;34m(base_locator, drop_locator_index, input_string)\u001b[0m\n\u001b[0;32m      4\u001b[0m drop_list_locator \u001b[38;5;241m=\u001b[39m \u001b[38;5;124m'\u001b[39m\u001b[38;5;124m#vs\u001b[39m\u001b[38;5;124m'\u001b[39m \u001b[38;5;241m+\u001b[39m \u001b[38;5;28mstr\u001b[39m(drop_locator_index) \u001b[38;5;241m+\u001b[39m \u001b[38;5;124m'\u001b[39m\u001b[38;5;124m__combobox > div.vs__selected-options > input\u001b[39m\u001b[38;5;124m'\u001b[39m\n\u001b[1;32m----> 5\u001b[0m \u001b[43mWebDriverWait\u001b[49m\u001b[43m(\u001b[49m\u001b[43mdriver\u001b[49m\u001b[43m,\u001b[49m\u001b[43m \u001b[49m\u001b[38;5;241;43m20\u001b[39;49m\u001b[43m)\u001b[49m\u001b[38;5;241;43m.\u001b[39;49m\u001b[43muntil\u001b[49m\u001b[43m(\u001b[49m\u001b[43mEC\u001b[49m\u001b[38;5;241;43m.\u001b[39;49m\u001b[43melement_to_be_clickable\u001b[49m\u001b[43m(\u001b[49m\u001b[43m(\u001b[49m\u001b[43mBy\u001b[49m\u001b[38;5;241;43m.\u001b[39;49m\u001b[43mCSS_SELECTOR\u001b[49m\u001b[43m,\u001b[49m\u001b[43m \u001b[49m\u001b[43mbase_locator\u001b[49m\u001b[43m)\u001b[49m\u001b[43m)\u001b[49m\u001b[43m)\u001b[49m\u001b[38;5;241m.\u001b[39mclick()\n\u001b[0;32m      6\u001b[0m \u001b[38;5;28;01mif\u001b[39;00m input_string :\n",
      "File \u001b[1;32m~\\AppData\\Local\\Programs\\Python\\Python310\\lib\\site-packages\\selenium\\webdriver\\support\\wait.py:89\u001b[0m, in \u001b[0;36mWebDriverWait.until\u001b[1;34m(self, method, message)\u001b[0m\n\u001b[0;32m     88\u001b[0m         \u001b[38;5;28;01mbreak\u001b[39;00m\n\u001b[1;32m---> 89\u001b[0m \u001b[38;5;28;01mraise\u001b[39;00m TimeoutException(message, screen, stacktrace)\n",
      "\u001b[1;31mTimeoutException\u001b[0m: Message: \nStacktrace:\nBacktrace:\n\tOrdinal0 [0x01087413+2389011]\n\tOrdinal0 [0x01019F61+1941345]\n\tOrdinal0 [0x00F0C658+837208]\n\tOrdinal0 [0x00F391DD+1020381]\n\tOrdinal0 [0x00F3949B+1021083]\n\tOrdinal0 [0x00F66032+1204274]\n\tOrdinal0 [0x00F54194+1130900]\n\tOrdinal0 [0x00F64302+1196802]\n\tOrdinal0 [0x00F53F66+1130342]\n\tOrdinal0 [0x00F2E546+976198]\n\tOrdinal0 [0x00F2F456+980054]\n\tGetHandleVerifier [0x01239632+1727522]\n\tGetHandleVerifier [0x012EBA4D+2457661]\n\tGetHandleVerifier [0x0111EB81+569713]\n\tGetHandleVerifier [0x0111DD76+566118]\n\tOrdinal0 [0x01020B2B+1968939]\n\tOrdinal0 [0x01025988+1989000]\n\tOrdinal0 [0x01025A75+1989237]\n\tOrdinal0 [0x0102ECB1+2026673]\n\tBaseThreadInitThunk [0x76D26A14+36]\n\tRtlInitializeExceptionChain [0x7758AB2F+143]\n\tRtlInitializeExceptionChain [0x7758AAFA+90]\n",
      "\nDuring handling of the above exception, another exception occurred:\n",
      "\u001b[1;31mKeyboardInterrupt\u001b[0m                         Traceback (most recent call last)",
      "Input \u001b[1;32mIn [489]\u001b[0m, in \u001b[0;36m<cell line: 1>\u001b[1;34m()\u001b[0m\n\u001b[1;32m----> 1\u001b[0m \u001b[43mget_to_final_page\u001b[49m\u001b[43m(\u001b[49m\u001b[43m)\u001b[49m\n\u001b[0;32m      2\u001b[0m final_result()\n",
      "Input \u001b[1;32mIn [405]\u001b[0m, in \u001b[0;36mget_to_final_page\u001b[1;34m()\u001b[0m\n\u001b[0;32m      3\u001b[0m first_page()\n\u001b[0;32m      4\u001b[0m second_page()\n\u001b[1;32m----> 5\u001b[0m \u001b[43mthird_page\u001b[49m\u001b[43m(\u001b[49m\u001b[43m)\u001b[49m\n\u001b[0;32m      6\u001b[0m fourth_page()\n",
      "Input \u001b[1;32mIn [437]\u001b[0m, in \u001b[0;36mthird_page\u001b[1;34m(max_tries)\u001b[0m\n\u001b[0;32m      4\u001b[0m \u001b[38;5;28;01mif\u001b[39;00m \u001b[38;5;129;01mnot\u001b[39;00m check_if_proper_page(\u001b[38;5;241m3\u001b[39m):\n\u001b[0;32m      5\u001b[0m     \u001b[38;5;28mprint\u001b[39m(\u001b[38;5;124m\"\u001b[39m\u001b[38;5;124mFiling out the second step first !\u001b[39m\u001b[38;5;124m\"\u001b[39m)\n\u001b[1;32m----> 6\u001b[0m     \u001b[43msecond_page\u001b[49m\u001b[43m(\u001b[49m\u001b[43m)\u001b[49m\n\u001b[0;32m      7\u001b[0m fill_the_english_test_scores()\n\u001b[0;32m      8\u001b[0m \u001b[38;5;28mprint\u001b[39m(\u001b[38;5;124m\"\u001b[39m\u001b[38;5;124mFilled random scores for random english test\u001b[39m\u001b[38;5;124m\"\u001b[39m)\n",
      "Input \u001b[1;32mIn [436]\u001b[0m, in \u001b[0;36msecond_page\u001b[1;34m(max_tries)\u001b[0m\n\u001b[0;32m     20\u001b[0m time\u001b[38;5;241m.\u001b[39msleep(\u001b[38;5;241m2\u001b[39m)\n\u001b[0;32m     21\u001b[0m \u001b[38;5;28;01mif\u001b[39;00m (max_tries \u001b[38;5;241m>\u001b[39m\u001b[38;5;241m=\u001b[39m \u001b[38;5;241m0\u001b[39m):\n\u001b[1;32m---> 22\u001b[0m     \u001b[43msecond_page\u001b[49m\u001b[43m(\u001b[49m\u001b[43mmax_tries\u001b[49m\u001b[43m)\u001b[49m\n\u001b[0;32m     23\u001b[0m \u001b[38;5;28;01melse\u001b[39;00m :\n\u001b[0;32m     24\u001b[0m     \u001b[38;5;28mprint\u001b[39m(\u001b[38;5;124m\"\u001b[39m\u001b[38;5;124mMaximum tries reached for second page \u001b[39m\u001b[38;5;124m\"\u001b[39m)\n",
      "Input \u001b[1;32mIn [436]\u001b[0m, in \u001b[0;36msecond_page\u001b[1;34m(max_tries)\u001b[0m\n\u001b[0;32m     20\u001b[0m time\u001b[38;5;241m.\u001b[39msleep(\u001b[38;5;241m2\u001b[39m)\n\u001b[0;32m     21\u001b[0m \u001b[38;5;28;01mif\u001b[39;00m (max_tries \u001b[38;5;241m>\u001b[39m\u001b[38;5;241m=\u001b[39m \u001b[38;5;241m0\u001b[39m):\n\u001b[1;32m---> 22\u001b[0m     \u001b[43msecond_page\u001b[49m\u001b[43m(\u001b[49m\u001b[43mmax_tries\u001b[49m\u001b[43m)\u001b[49m\n\u001b[0;32m     23\u001b[0m \u001b[38;5;28;01melse\u001b[39;00m :\n\u001b[0;32m     24\u001b[0m     \u001b[38;5;28mprint\u001b[39m(\u001b[38;5;124m\"\u001b[39m\u001b[38;5;124mMaximum tries reached for second page \u001b[39m\u001b[38;5;124m\"\u001b[39m)\n",
      "Input \u001b[1;32mIn [436]\u001b[0m, in \u001b[0;36msecond_page\u001b[1;34m(max_tries)\u001b[0m\n\u001b[0;32m      5\u001b[0m     \u001b[38;5;28mprint\u001b[39m(\u001b[38;5;124m\"\u001b[39m\u001b[38;5;124mFiling out the first step first !\u001b[39m\u001b[38;5;124m\"\u001b[39m)\n\u001b[0;32m      6\u001b[0m     first_page()\n\u001b[1;32m----> 7\u001b[0m \u001b[43mtap_and_select_random_option\u001b[49m\u001b[43m(\u001b[49m\u001b[38;5;124;43m\"\u001b[39;49m\u001b[38;5;124;43m#college\u001b[39;49m\u001b[38;5;124;43m\"\u001b[39;49m\u001b[43m,\u001b[49m\u001b[38;5;124;43m'\u001b[39;49m\u001b[38;5;124;43m4\u001b[39;49m\u001b[38;5;124;43m'\u001b[39;49m\u001b[43m,\u001b[49m\u001b[38;5;124;43m'\u001b[39;49m\u001b[38;5;124;43mtech\u001b[39;49m\u001b[38;5;124;43m'\u001b[39;49m\u001b[43m)\u001b[49m\n\u001b[0;32m      8\u001b[0m \u001b[38;5;28mprint\u001b[39m(\u001b[38;5;124m\"\u001b[39m\u001b[38;5;124mSelected random college\u001b[39m\u001b[38;5;124m\"\u001b[39m)\n\u001b[0;32m      9\u001b[0m tap_and_select_random_option(\u001b[38;5;124m\"\u001b[39m\u001b[38;5;124m#major\u001b[39m\u001b[38;5;124m\"\u001b[39m,\u001b[38;5;124m'\u001b[39m\u001b[38;5;124m6\u001b[39m\u001b[38;5;124m'\u001b[39m,\u001b[38;5;124m'\u001b[39m\u001b[38;5;124mElec\u001b[39m\u001b[38;5;124m'\u001b[39m)\n",
      "Input \u001b[1;32mIn [408]\u001b[0m, in \u001b[0;36mtap_and_select_random_option\u001b[1;34m(base_locator, drop_locator_index, input_string)\u001b[0m\n\u001b[0;32m      3\u001b[0m drop_down_locator \u001b[38;5;241m=\u001b[39m \u001b[38;5;124m'\u001b[39m\u001b[38;5;124m#vs\u001b[39m\u001b[38;5;124m'\u001b[39m \u001b[38;5;241m+\u001b[39m \u001b[38;5;28mstr\u001b[39m(drop_locator_index) \u001b[38;5;241m+\u001b[39m \u001b[38;5;124m'\u001b[39m\u001b[38;5;124m__listbox\u001b[39m\u001b[38;5;124m'\u001b[39m\n\u001b[0;32m      4\u001b[0m drop_list_locator \u001b[38;5;241m=\u001b[39m \u001b[38;5;124m'\u001b[39m\u001b[38;5;124m#vs\u001b[39m\u001b[38;5;124m'\u001b[39m \u001b[38;5;241m+\u001b[39m \u001b[38;5;28mstr\u001b[39m(drop_locator_index) \u001b[38;5;241m+\u001b[39m \u001b[38;5;124m'\u001b[39m\u001b[38;5;124m__combobox > div.vs__selected-options > input\u001b[39m\u001b[38;5;124m'\u001b[39m\n\u001b[1;32m----> 5\u001b[0m \u001b[43mWebDriverWait\u001b[49m\u001b[43m(\u001b[49m\u001b[43mdriver\u001b[49m\u001b[43m,\u001b[49m\u001b[43m \u001b[49m\u001b[38;5;241;43m20\u001b[39;49m\u001b[43m)\u001b[49m\u001b[38;5;241;43m.\u001b[39;49m\u001b[43muntil\u001b[49m\u001b[43m(\u001b[49m\u001b[43mEC\u001b[49m\u001b[38;5;241;43m.\u001b[39;49m\u001b[43melement_to_be_clickable\u001b[49m\u001b[43m(\u001b[49m\u001b[43m(\u001b[49m\u001b[43mBy\u001b[49m\u001b[38;5;241;43m.\u001b[39;49m\u001b[43mCSS_SELECTOR\u001b[49m\u001b[43m,\u001b[49m\u001b[43m \u001b[49m\u001b[43mbase_locator\u001b[49m\u001b[43m)\u001b[49m\u001b[43m)\u001b[49m\u001b[43m)\u001b[49m\u001b[38;5;241m.\u001b[39mclick()\n\u001b[0;32m      6\u001b[0m \u001b[38;5;28;01mif\u001b[39;00m input_string :\n\u001b[0;32m      7\u001b[0m     driver\u001b[38;5;241m.\u001b[39mfind_element(By\u001b[38;5;241m.\u001b[39mCSS_SELECTOR,drop_list_locator)\u001b[38;5;241m.\u001b[39mclear()\n",
      "File \u001b[1;32m~\\AppData\\Local\\Programs\\Python\\Python310\\lib\\site-packages\\selenium\\webdriver\\support\\wait.py:86\u001b[0m, in \u001b[0;36mWebDriverWait.until\u001b[1;34m(self, method, message)\u001b[0m\n\u001b[0;32m     84\u001b[0m     screen \u001b[38;5;241m=\u001b[39m \u001b[38;5;28mgetattr\u001b[39m(exc, \u001b[38;5;124m'\u001b[39m\u001b[38;5;124mscreen\u001b[39m\u001b[38;5;124m'\u001b[39m, \u001b[38;5;28;01mNone\u001b[39;00m)\n\u001b[0;32m     85\u001b[0m     stacktrace \u001b[38;5;241m=\u001b[39m \u001b[38;5;28mgetattr\u001b[39m(exc, \u001b[38;5;124m'\u001b[39m\u001b[38;5;124mstacktrace\u001b[39m\u001b[38;5;124m'\u001b[39m, \u001b[38;5;28;01mNone\u001b[39;00m)\n\u001b[1;32m---> 86\u001b[0m \u001b[43mtime\u001b[49m\u001b[38;5;241;43m.\u001b[39;49m\u001b[43msleep\u001b[49m\u001b[43m(\u001b[49m\u001b[38;5;28;43mself\u001b[39;49m\u001b[38;5;241;43m.\u001b[39;49m\u001b[43m_poll\u001b[49m\u001b[43m)\u001b[49m\n\u001b[0;32m     87\u001b[0m \u001b[38;5;28;01mif\u001b[39;00m time\u001b[38;5;241m.\u001b[39mtime() \u001b[38;5;241m>\u001b[39m end_time:\n\u001b[0;32m     88\u001b[0m     \u001b[38;5;28;01mbreak\u001b[39;00m\n",
      "\u001b[1;31mKeyboardInterrupt\u001b[0m: "
     ]
    },
    {
     "name": "stderr",
     "output_type": "stream",
     "text": [
      "Exception ignored in: Exception ignored in sys.unraisablehook: <built-in function unraisablehook>\n",
      "Traceback (most recent call last):\n",
      "  File \"C:\\Users\\Living Room\\AppData\\Local\\Programs\\Python\\Python310\\lib\\site-packages\\ipykernel\\iostream.py\", line 531, in write\n",
      "    self.pub_thread.schedule(lambda: self._buffer.write(string))\n",
      "  File \"C:\\Users\\Living Room\\AppData\\Local\\Programs\\Python\\Python310\\lib\\site-packages\\ipykernel\\iostream.py\", line 216, in schedule\n",
      "    self._event_pipe.send(b'')\n",
      "  File \"C:\\Users\\Living Room\\AppData\\Local\\Programs\\Python\\Python310\\lib\\site-packages\\zmq\\sugar\\socket.py\", line 547, in send\n",
      "    return super(Socket, self).send(data, flags=flags, copy=copy, track=track)\n",
      "  File \"zmq\\backend\\cython\\socket.pyx\", line 718, in zmq.backend.cython.socket.Socket.send\n",
      "  File \"zmq\\backend\\cython\\socket.pyx\", line 765, in zmq.backend.cython.socket.Socket.send\n",
      "  File \"zmq\\backend\\cython\\socket.pyx\", line 242, in zmq.backend.cython.socket._send_copy\n",
      "  File \"zmq\\backend\\cython\\checkrc.pxd\", line 13, in zmq.backend.cython.checkrc._check_rc\n",
      "KeyboardInterrupt: \n"
     ]
    },
    {
     "ename": "KeyboardInterrupt",
     "evalue": "",
     "output_type": "error",
     "traceback": [
      "\u001b[1;31m---------------------------------------------------------------------------\u001b[0m",
      "\u001b[1;31mKeyboardInterrupt\u001b[0m                         Traceback (most recent call last)",
      "File \u001b[1;32m~\\AppData\\Local\\Programs\\Python\\Python310\\lib\\site-packages\\IPython\\core\\async_helpers.py:129\u001b[0m, in \u001b[0;36m_pseudo_sync_runner\u001b[1;34m(coro)\u001b[0m\n\u001b[0;32m    121\u001b[0m \u001b[38;5;124;03m\"\"\"\u001b[39;00m\n\u001b[0;32m    122\u001b[0m \u001b[38;5;124;03mA runner that does not really allow async execution, and just advance the coroutine.\u001b[39;00m\n\u001b[0;32m    123\u001b[0m \n\u001b[1;32m   (...)\u001b[0m\n\u001b[0;32m    126\u001b[0m \u001b[38;5;124;03mCredit to Nathaniel Smith\u001b[39;00m\n\u001b[0;32m    127\u001b[0m \u001b[38;5;124;03m\"\"\"\u001b[39;00m\n\u001b[0;32m    128\u001b[0m \u001b[38;5;28;01mtry\u001b[39;00m:\n\u001b[1;32m--> 129\u001b[0m     \u001b[43mcoro\u001b[49m\u001b[38;5;241;43m.\u001b[39;49m\u001b[43msend\u001b[49m\u001b[43m(\u001b[49m\u001b[38;5;28;43;01mNone\u001b[39;49;00m\u001b[43m)\u001b[49m\n\u001b[0;32m    130\u001b[0m \u001b[38;5;28;01mexcept\u001b[39;00m \u001b[38;5;167;01mStopIteration\u001b[39;00m \u001b[38;5;28;01mas\u001b[39;00m exc:\n\u001b[0;32m    131\u001b[0m     \u001b[38;5;28;01mreturn\u001b[39;00m exc\u001b[38;5;241m.\u001b[39mvalue\n",
      "File \u001b[1;32m~\\AppData\\Local\\Programs\\Python\\Python310\\lib\\site-packages\\IPython\\core\\interactiveshell.py:3101\u001b[0m, in \u001b[0;36mInteractiveShell.run_cell_async\u001b[1;34m(self, raw_cell, store_history, silent, shell_futures, transformed_cell, preprocessing_exc_tuple)\u001b[0m\n\u001b[0;32m   3096\u001b[0m interactivity \u001b[38;5;241m=\u001b[39m \u001b[38;5;124m\"\u001b[39m\u001b[38;5;124mnone\u001b[39m\u001b[38;5;124m\"\u001b[39m \u001b[38;5;28;01mif\u001b[39;00m silent \u001b[38;5;28;01melse\u001b[39;00m \u001b[38;5;28mself\u001b[39m\u001b[38;5;241m.\u001b[39mast_node_interactivity\n\u001b[0;32m   3098\u001b[0m has_raised \u001b[38;5;241m=\u001b[39m \u001b[38;5;28;01mawait\u001b[39;00m \u001b[38;5;28mself\u001b[39m\u001b[38;5;241m.\u001b[39mrun_ast_nodes(code_ast\u001b[38;5;241m.\u001b[39mbody, cell_name,\n\u001b[0;32m   3099\u001b[0m        interactivity\u001b[38;5;241m=\u001b[39minteractivity, compiler\u001b[38;5;241m=\u001b[39mcompiler, result\u001b[38;5;241m=\u001b[39mresult)\n\u001b[1;32m-> 3101\u001b[0m \u001b[38;5;28mself\u001b[39m\u001b[38;5;241m.\u001b[39mlast_execution_succeeded \u001b[38;5;241m=\u001b[39m \u001b[38;5;129;01mnot\u001b[39;00m has_raised\n\u001b[0;32m   3102\u001b[0m \u001b[38;5;28mself\u001b[39m\u001b[38;5;241m.\u001b[39mlast_execution_result \u001b[38;5;241m=\u001b[39m result\n\u001b[0;32m   3104\u001b[0m \u001b[38;5;66;03m# Reset this so later displayed values do not modify the\u001b[39;00m\n\u001b[0;32m   3105\u001b[0m \u001b[38;5;66;03m# ExecutionResult\u001b[39;00m\n",
      "File \u001b[1;32m~\\AppData\\Local\\Programs\\Python\\Python310\\lib\\site-packages\\traitlets\\traitlets.py:606\u001b[0m, in \u001b[0;36mTraitType.__set__\u001b[1;34m(self, obj, value)\u001b[0m\n\u001b[0;32m    604\u001b[0m     \u001b[38;5;28;01mraise\u001b[39;00m TraitError(\u001b[38;5;124m'\u001b[39m\u001b[38;5;124mThe \u001b[39m\u001b[38;5;124m\"\u001b[39m\u001b[38;5;132;01m%s\u001b[39;00m\u001b[38;5;124m\"\u001b[39m\u001b[38;5;124m trait is read-only.\u001b[39m\u001b[38;5;124m'\u001b[39m \u001b[38;5;241m%\u001b[39m \u001b[38;5;28mself\u001b[39m\u001b[38;5;241m.\u001b[39mname)\n\u001b[0;32m    605\u001b[0m \u001b[38;5;28;01melse\u001b[39;00m:\n\u001b[1;32m--> 606\u001b[0m     \u001b[38;5;28;43mself\u001b[39;49m\u001b[38;5;241;43m.\u001b[39;49m\u001b[43mset\u001b[49m\u001b[43m(\u001b[49m\u001b[43mobj\u001b[49m\u001b[43m,\u001b[49m\u001b[43m \u001b[49m\u001b[43mvalue\u001b[49m\u001b[43m)\u001b[49m\n",
      "File \u001b[1;32m~\\AppData\\Local\\Programs\\Python\\Python310\\lib\\site-packages\\traitlets\\traitlets.py:580\u001b[0m, in \u001b[0;36mTraitType.set\u001b[1;34m(self, obj, value)\u001b[0m\n\u001b[0;32m    579\u001b[0m \u001b[38;5;28;01mdef\u001b[39;00m \u001b[38;5;21mset\u001b[39m(\u001b[38;5;28mself\u001b[39m, obj, value):\n\u001b[1;32m--> 580\u001b[0m     new_value \u001b[38;5;241m=\u001b[39m \u001b[38;5;28;43mself\u001b[39;49m\u001b[38;5;241;43m.\u001b[39;49m\u001b[43m_validate\u001b[49m\u001b[43m(\u001b[49m\u001b[43mobj\u001b[49m\u001b[43m,\u001b[49m\u001b[43m \u001b[49m\u001b[43mvalue\u001b[49m\u001b[43m)\u001b[49m\n\u001b[0;32m    581\u001b[0m     \u001b[38;5;28;01mtry\u001b[39;00m:\n\u001b[0;32m    582\u001b[0m         old_value \u001b[38;5;241m=\u001b[39m obj\u001b[38;5;241m.\u001b[39m_trait_values[\u001b[38;5;28mself\u001b[39m\u001b[38;5;241m.\u001b[39mname]\n",
      "File \u001b[1;32m~\\AppData\\Local\\Programs\\Python\\Python310\\lib\\site-packages\\traitlets\\traitlets.py:612\u001b[0m, in \u001b[0;36mTraitType._validate\u001b[1;34m(self, obj, value)\u001b[0m\n\u001b[0;32m    610\u001b[0m     \u001b[38;5;28;01mreturn\u001b[39;00m value\n\u001b[0;32m    611\u001b[0m \u001b[38;5;28;01mif\u001b[39;00m \u001b[38;5;28mhasattr\u001b[39m(\u001b[38;5;28mself\u001b[39m, \u001b[38;5;124m'\u001b[39m\u001b[38;5;124mvalidate\u001b[39m\u001b[38;5;124m'\u001b[39m):\n\u001b[1;32m--> 612\u001b[0m     value \u001b[38;5;241m=\u001b[39m \u001b[38;5;28;43mself\u001b[39;49m\u001b[38;5;241;43m.\u001b[39;49m\u001b[43mvalidate\u001b[49m\u001b[43m(\u001b[49m\u001b[43mobj\u001b[49m\u001b[43m,\u001b[49m\u001b[43m \u001b[49m\u001b[43mvalue\u001b[49m\u001b[43m)\u001b[49m\n\u001b[0;32m    613\u001b[0m \u001b[38;5;28;01mif\u001b[39;00m obj\u001b[38;5;241m.\u001b[39m_cross_validation_lock \u001b[38;5;129;01mis\u001b[39;00m \u001b[38;5;28;01mFalse\u001b[39;00m:\n\u001b[0;32m    614\u001b[0m     value \u001b[38;5;241m=\u001b[39m \u001b[38;5;28mself\u001b[39m\u001b[38;5;241m.\u001b[39m_cross_validate(obj, value)\n",
      "File \u001b[1;32m~\\AppData\\Local\\Programs\\Python\\Python310\\lib\\site-packages\\traitlets\\traitlets.py:2258\u001b[0m, in \u001b[0;36mBool.validate\u001b[1;34m(self, obj, value)\u001b[0m\n\u001b[0;32m   2257\u001b[0m \u001b[38;5;28;01mdef\u001b[39;00m \u001b[38;5;21mvalidate\u001b[39m(\u001b[38;5;28mself\u001b[39m, obj, value):\n\u001b[1;32m-> 2258\u001b[0m     \u001b[38;5;28;01mif\u001b[39;00m \u001b[38;5;28;43misinstance\u001b[39;49m\u001b[43m(\u001b[49m\u001b[43mvalue\u001b[49m\u001b[43m,\u001b[49m\u001b[43m \u001b[49m\u001b[38;5;28;43mbool\u001b[39;49m\u001b[43m)\u001b[49m:\n\u001b[0;32m   2259\u001b[0m         \u001b[38;5;28;01mreturn\u001b[39;00m value\n\u001b[0;32m   2260\u001b[0m     \u001b[38;5;28;01melif\u001b[39;00m \u001b[38;5;28misinstance\u001b[39m(value, \u001b[38;5;28mint\u001b[39m):\n",
      "\u001b[1;31mKeyboardInterrupt\u001b[0m: "
     ]
    }
   ],
   "source": [
    "get_to_final_page()\n",
    "final_result()"
   ]
  },
  {
   "cell_type": "code",
   "execution_count": null,
   "id": "b0078729",
   "metadata": {},
   "outputs": [],
   "source": []
  },
  {
   "cell_type": "code",
   "execution_count": 345,
   "id": "7fe0aa61",
   "metadata": {
    "scrolled": true
   },
   "outputs": [
    {
     "name": "stdout",
     "output_type": "stream",
     "text": [
      "Electrical and Computer Engineering\n",
      "Mechanical Engineering\n",
      "Civil Engineering\n",
      "Industrial Engineering\n",
      "Engineering Management Mem\n",
      "Electrical and Electronics Engineering\n",
      "Aerospace Engineering\n",
      "Civil and Environmental Engineering\n",
      "Biomedical Engineering\n",
      "Software Engineering\n",
      "Mechatronics Robotics and Automation Engineering\n",
      "Manufacturing Engineering\n",
      "Computer Engineering\n",
      "Automotive Engineering\n",
      "Biochemical Engineering\n",
      "Electrical Engineering\n",
      "Engineering Science\n",
      "Construction Engineering\n",
      "Materials Engineering\n",
      "Systems Engineering\n",
      "Petroleum Engineering\n",
      "Mining and Mineral Engineering\n",
      "Engineering General\n",
      "Engineering Design\n",
      "Biological Biosystems Engineering\n",
      "Environmental Engineering Technology\n",
      "English\n",
      "Process Engineering\n",
      "Engineering Physics\n",
      "Chemical and Biological Engineering\n",
      "Energy Systems Engineering\n",
      "Nuclear Engineering Technology\n",
      "Engineering and Technology\n",
      "Financial Engineering\n",
      "Water Resources Engineering\n",
      "Geological Engineering\n",
      "#vs2__option-22\n"
     ]
    }
   ],
   "source": [
    "tap_and_select_random_option(\"#area_of_study\",'2','eng')"
   ]
  },
  {
   "cell_type": "code",
   "execution_count": null,
   "id": "be4048c2",
   "metadata": {},
   "outputs": [],
   "source": []
  },
  {
   "cell_type": "code",
   "execution_count": null,
   "id": "38c90ead",
   "metadata": {},
   "outputs": [],
   "source": []
  },
  {
   "cell_type": "code",
   "execution_count": 346,
   "id": "109efaa7",
   "metadata": {},
   "outputs": [],
   "source": [
    "click_to_next_page()"
   ]
  },
  {
   "cell_type": "code",
   "execution_count": 349,
   "id": "2db93d4e",
   "metadata": {},
   "outputs": [
    {
     "ename": "TimeoutException",
     "evalue": "Message: \nStacktrace:\nBacktrace:\n\tOrdinal0 [0x01087413+2389011]\n\tOrdinal0 [0x01019F61+1941345]\n\tOrdinal0 [0x00F0C658+837208]\n\tOrdinal0 [0x00F391DD+1020381]\n\tOrdinal0 [0x00F3949B+1021083]\n\tOrdinal0 [0x00F66032+1204274]\n\tOrdinal0 [0x00F54194+1130900]\n\tOrdinal0 [0x00F64302+1196802]\n\tOrdinal0 [0x00F53F66+1130342]\n\tOrdinal0 [0x00F2E546+976198]\n\tOrdinal0 [0x00F2F456+980054]\n\tGetHandleVerifier [0x01239632+1727522]\n\tGetHandleVerifier [0x012EBA4D+2457661]\n\tGetHandleVerifier [0x0111EB81+569713]\n\tGetHandleVerifier [0x0111DD76+566118]\n\tOrdinal0 [0x01020B2B+1968939]\n\tOrdinal0 [0x01025988+1989000]\n\tOrdinal0 [0x01025A75+1989237]\n\tOrdinal0 [0x0102ECB1+2026673]\n\tBaseThreadInitThunk [0x76D26A14+36]\n\tRtlInitializeExceptionChain [0x7758AB2F+143]\n\tRtlInitializeExceptionChain [0x7758AAFA+90]\n",
     "output_type": "error",
     "traceback": [
      "\u001b[1;31m---------------------------------------------------------------------------\u001b[0m",
      "\u001b[1;31mTimeoutException\u001b[0m                          Traceback (most recent call last)",
      "Input \u001b[1;32mIn [349]\u001b[0m, in \u001b[0;36m<cell line: 1>\u001b[1;34m()\u001b[0m\n\u001b[1;32m----> 1\u001b[0m \u001b[43mtap_and_select_random_option\u001b[49m\u001b[43m(\u001b[49m\u001b[38;5;124;43m\"\u001b[39;49m\u001b[38;5;124;43m#college\u001b[39;49m\u001b[38;5;124;43m\"\u001b[39;49m\u001b[43m,\u001b[49m\u001b[38;5;124;43m'\u001b[39;49m\u001b[38;5;124;43m4\u001b[39;49m\u001b[38;5;124;43m'\u001b[39;49m\u001b[43m,\u001b[49m\u001b[38;5;124;43m'\u001b[39;49m\u001b[38;5;124;43mtech\u001b[39;49m\u001b[38;5;124;43m'\u001b[39;49m\u001b[43m)\u001b[49m\n",
      "Input \u001b[1;32mIn [290]\u001b[0m, in \u001b[0;36mtap_and_select_random_option\u001b[1;34m(base_locator, drop_locator_index, input_string)\u001b[0m\n\u001b[0;32m      3\u001b[0m drop_down_locator \u001b[38;5;241m=\u001b[39m \u001b[38;5;124m'\u001b[39m\u001b[38;5;124m#vs\u001b[39m\u001b[38;5;124m'\u001b[39m \u001b[38;5;241m+\u001b[39m \u001b[38;5;28mstr\u001b[39m(drop_locator_index) \u001b[38;5;241m+\u001b[39m \u001b[38;5;124m'\u001b[39m\u001b[38;5;124m__listbox\u001b[39m\u001b[38;5;124m'\u001b[39m\n\u001b[0;32m      4\u001b[0m drop_list_locator \u001b[38;5;241m=\u001b[39m \u001b[38;5;124m'\u001b[39m\u001b[38;5;124m#vs\u001b[39m\u001b[38;5;124m'\u001b[39m \u001b[38;5;241m+\u001b[39m \u001b[38;5;28mstr\u001b[39m(drop_locator_index) \u001b[38;5;241m+\u001b[39m \u001b[38;5;124m'\u001b[39m\u001b[38;5;124m__combobox > div.vs__selected-options > input\u001b[39m\u001b[38;5;124m'\u001b[39m\n\u001b[1;32m----> 5\u001b[0m \u001b[43mWebDriverWait\u001b[49m\u001b[43m(\u001b[49m\u001b[43mdriver\u001b[49m\u001b[43m,\u001b[49m\u001b[43m \u001b[49m\u001b[38;5;241;43m20\u001b[39;49m\u001b[43m)\u001b[49m\u001b[38;5;241;43m.\u001b[39;49m\u001b[43muntil\u001b[49m\u001b[43m(\u001b[49m\u001b[43mEC\u001b[49m\u001b[38;5;241;43m.\u001b[39;49m\u001b[43melement_to_be_clickable\u001b[49m\u001b[43m(\u001b[49m\u001b[43m(\u001b[49m\u001b[43mBy\u001b[49m\u001b[38;5;241;43m.\u001b[39;49m\u001b[43mCSS_SELECTOR\u001b[49m\u001b[43m,\u001b[49m\u001b[43m \u001b[49m\u001b[43mbase_locator\u001b[49m\u001b[43m)\u001b[49m\u001b[43m)\u001b[49m\u001b[43m)\u001b[49m\u001b[38;5;241m.\u001b[39mclick()\n\u001b[0;32m      6\u001b[0m \u001b[38;5;28;01mif\u001b[39;00m input_string :\n\u001b[0;32m      7\u001b[0m     driver\u001b[38;5;241m.\u001b[39mfind_element(By\u001b[38;5;241m.\u001b[39mCSS_SELECTOR,drop_list_locator)\u001b[38;5;241m.\u001b[39mclear()\n",
      "File \u001b[1;32m~\\AppData\\Local\\Programs\\Python\\Python310\\lib\\site-packages\\selenium\\webdriver\\support\\wait.py:89\u001b[0m, in \u001b[0;36mWebDriverWait.until\u001b[1;34m(self, method, message)\u001b[0m\n\u001b[0;32m     87\u001b[0m     \u001b[38;5;28;01mif\u001b[39;00m time\u001b[38;5;241m.\u001b[39mtime() \u001b[38;5;241m>\u001b[39m end_time:\n\u001b[0;32m     88\u001b[0m         \u001b[38;5;28;01mbreak\u001b[39;00m\n\u001b[1;32m---> 89\u001b[0m \u001b[38;5;28;01mraise\u001b[39;00m TimeoutException(message, screen, stacktrace)\n",
      "\u001b[1;31mTimeoutException\u001b[0m: Message: \nStacktrace:\nBacktrace:\n\tOrdinal0 [0x01087413+2389011]\n\tOrdinal0 [0x01019F61+1941345]\n\tOrdinal0 [0x00F0C658+837208]\n\tOrdinal0 [0x00F391DD+1020381]\n\tOrdinal0 [0x00F3949B+1021083]\n\tOrdinal0 [0x00F66032+1204274]\n\tOrdinal0 [0x00F54194+1130900]\n\tOrdinal0 [0x00F64302+1196802]\n\tOrdinal0 [0x00F53F66+1130342]\n\tOrdinal0 [0x00F2E546+976198]\n\tOrdinal0 [0x00F2F456+980054]\n\tGetHandleVerifier [0x01239632+1727522]\n\tGetHandleVerifier [0x012EBA4D+2457661]\n\tGetHandleVerifier [0x0111EB81+569713]\n\tGetHandleVerifier [0x0111DD76+566118]\n\tOrdinal0 [0x01020B2B+1968939]\n\tOrdinal0 [0x01025988+1989000]\n\tOrdinal0 [0x01025A75+1989237]\n\tOrdinal0 [0x0102ECB1+2026673]\n\tBaseThreadInitThunk [0x76D26A14+36]\n\tRtlInitializeExceptionChain [0x7758AB2F+143]\n\tRtlInitializeExceptionChain [0x7758AAFA+90]\n"
     ]
    }
   ],
   "source": [
    "tap_and_select_random_option(\"#college\",'4','tech')"
   ]
  },
  {
   "cell_type": "code",
   "execution_count": 348,
   "id": "f861f95c",
   "metadata": {
    "scrolled": true
   },
   "outputs": [
    {
     "ename": "TimeoutException",
     "evalue": "Message: \nStacktrace:\nBacktrace:\n\tOrdinal0 [0x01087413+2389011]\n\tOrdinal0 [0x01019F61+1941345]\n\tOrdinal0 [0x00F0C658+837208]\n\tOrdinal0 [0x00F391DD+1020381]\n\tOrdinal0 [0x00F3949B+1021083]\n\tOrdinal0 [0x00F66032+1204274]\n\tOrdinal0 [0x00F54194+1130900]\n\tOrdinal0 [0x00F64302+1196802]\n\tOrdinal0 [0x00F53F66+1130342]\n\tOrdinal0 [0x00F2E546+976198]\n\tOrdinal0 [0x00F2F456+980054]\n\tGetHandleVerifier [0x01239632+1727522]\n\tGetHandleVerifier [0x012EBA4D+2457661]\n\tGetHandleVerifier [0x0111EB81+569713]\n\tGetHandleVerifier [0x0111DD76+566118]\n\tOrdinal0 [0x01020B2B+1968939]\n\tOrdinal0 [0x01025988+1989000]\n\tOrdinal0 [0x01025A75+1989237]\n\tOrdinal0 [0x0102ECB1+2026673]\n\tBaseThreadInitThunk [0x76D26A14+36]\n\tRtlInitializeExceptionChain [0x7758AB2F+143]\n\tRtlInitializeExceptionChain [0x7758AAFA+90]\n",
     "output_type": "error",
     "traceback": [
      "\u001b[1;31m---------------------------------------------------------------------------\u001b[0m",
      "\u001b[1;31mTimeoutException\u001b[0m                          Traceback (most recent call last)",
      "Input \u001b[1;32mIn [348]\u001b[0m, in \u001b[0;36m<cell line: 1>\u001b[1;34m()\u001b[0m\n\u001b[1;32m----> 1\u001b[0m \u001b[43mtap_and_select_random_option\u001b[49m\u001b[43m(\u001b[49m\u001b[38;5;124;43m\"\u001b[39;49m\u001b[38;5;124;43m#major\u001b[39;49m\u001b[38;5;124;43m\"\u001b[39;49m\u001b[43m,\u001b[49m\u001b[38;5;124;43m'\u001b[39;49m\u001b[38;5;124;43m6\u001b[39;49m\u001b[38;5;124;43m'\u001b[39;49m\u001b[43m,\u001b[49m\u001b[38;5;124;43m'\u001b[39;49m\u001b[38;5;124;43mElec\u001b[39;49m\u001b[38;5;124;43m'\u001b[39;49m\u001b[43m)\u001b[49m\n",
      "Input \u001b[1;32mIn [290]\u001b[0m, in \u001b[0;36mtap_and_select_random_option\u001b[1;34m(base_locator, drop_locator_index, input_string)\u001b[0m\n\u001b[0;32m      3\u001b[0m drop_down_locator \u001b[38;5;241m=\u001b[39m \u001b[38;5;124m'\u001b[39m\u001b[38;5;124m#vs\u001b[39m\u001b[38;5;124m'\u001b[39m \u001b[38;5;241m+\u001b[39m \u001b[38;5;28mstr\u001b[39m(drop_locator_index) \u001b[38;5;241m+\u001b[39m \u001b[38;5;124m'\u001b[39m\u001b[38;5;124m__listbox\u001b[39m\u001b[38;5;124m'\u001b[39m\n\u001b[0;32m      4\u001b[0m drop_list_locator \u001b[38;5;241m=\u001b[39m \u001b[38;5;124m'\u001b[39m\u001b[38;5;124m#vs\u001b[39m\u001b[38;5;124m'\u001b[39m \u001b[38;5;241m+\u001b[39m \u001b[38;5;28mstr\u001b[39m(drop_locator_index) \u001b[38;5;241m+\u001b[39m \u001b[38;5;124m'\u001b[39m\u001b[38;5;124m__combobox > div.vs__selected-options > input\u001b[39m\u001b[38;5;124m'\u001b[39m\n\u001b[1;32m----> 5\u001b[0m \u001b[43mWebDriverWait\u001b[49m\u001b[43m(\u001b[49m\u001b[43mdriver\u001b[49m\u001b[43m,\u001b[49m\u001b[43m \u001b[49m\u001b[38;5;241;43m20\u001b[39;49m\u001b[43m)\u001b[49m\u001b[38;5;241;43m.\u001b[39;49m\u001b[43muntil\u001b[49m\u001b[43m(\u001b[49m\u001b[43mEC\u001b[49m\u001b[38;5;241;43m.\u001b[39;49m\u001b[43melement_to_be_clickable\u001b[49m\u001b[43m(\u001b[49m\u001b[43m(\u001b[49m\u001b[43mBy\u001b[49m\u001b[38;5;241;43m.\u001b[39;49m\u001b[43mCSS_SELECTOR\u001b[49m\u001b[43m,\u001b[49m\u001b[43m \u001b[49m\u001b[43mbase_locator\u001b[49m\u001b[43m)\u001b[49m\u001b[43m)\u001b[49m\u001b[43m)\u001b[49m\u001b[38;5;241m.\u001b[39mclick()\n\u001b[0;32m      6\u001b[0m \u001b[38;5;28;01mif\u001b[39;00m input_string :\n\u001b[0;32m      7\u001b[0m     driver\u001b[38;5;241m.\u001b[39mfind_element(By\u001b[38;5;241m.\u001b[39mCSS_SELECTOR,drop_list_locator)\u001b[38;5;241m.\u001b[39mclear()\n",
      "File \u001b[1;32m~\\AppData\\Local\\Programs\\Python\\Python310\\lib\\site-packages\\selenium\\webdriver\\support\\wait.py:89\u001b[0m, in \u001b[0;36mWebDriverWait.until\u001b[1;34m(self, method, message)\u001b[0m\n\u001b[0;32m     87\u001b[0m     \u001b[38;5;28;01mif\u001b[39;00m time\u001b[38;5;241m.\u001b[39mtime() \u001b[38;5;241m>\u001b[39m end_time:\n\u001b[0;32m     88\u001b[0m         \u001b[38;5;28;01mbreak\u001b[39;00m\n\u001b[1;32m---> 89\u001b[0m \u001b[38;5;28;01mraise\u001b[39;00m TimeoutException(message, screen, stacktrace)\n",
      "\u001b[1;31mTimeoutException\u001b[0m: Message: \nStacktrace:\nBacktrace:\n\tOrdinal0 [0x01087413+2389011]\n\tOrdinal0 [0x01019F61+1941345]\n\tOrdinal0 [0x00F0C658+837208]\n\tOrdinal0 [0x00F391DD+1020381]\n\tOrdinal0 [0x00F3949B+1021083]\n\tOrdinal0 [0x00F66032+1204274]\n\tOrdinal0 [0x00F54194+1130900]\n\tOrdinal0 [0x00F64302+1196802]\n\tOrdinal0 [0x00F53F66+1130342]\n\tOrdinal0 [0x00F2E546+976198]\n\tOrdinal0 [0x00F2F456+980054]\n\tGetHandleVerifier [0x01239632+1727522]\n\tGetHandleVerifier [0x012EBA4D+2457661]\n\tGetHandleVerifier [0x0111EB81+569713]\n\tGetHandleVerifier [0x0111DD76+566118]\n\tOrdinal0 [0x01020B2B+1968939]\n\tOrdinal0 [0x01025988+1989000]\n\tOrdinal0 [0x01025A75+1989237]\n\tOrdinal0 [0x0102ECB1+2026673]\n\tBaseThreadInitThunk [0x76D26A14+36]\n\tRtlInitializeExceptionChain [0x7758AB2F+143]\n\tRtlInitializeExceptionChain [0x7758AAFA+90]\n"
     ]
    }
   ],
   "source": [
    "tap_and_select_random_option(\"#major\",'6','Elec')"
   ]
  },
  {
   "cell_type": "code",
   "execution_count": null,
   "id": "8653868e",
   "metadata": {},
   "outputs": [],
   "source": [
    "driver.find_element(By.CSS_SELECTOR,'#marks').clear()\n",
    "random_cgpa = round(uniform(5,10), 2)\n",
    "update_the_score('#marks',random_cgpa)"
   ]
  },
  {
   "cell_type": "code",
   "execution_count": null,
   "id": "4f70b793",
   "metadata": {},
   "outputs": [],
   "source": [
    "click_to_next_page()"
   ]
  },
  {
   "cell_type": "code",
   "execution_count": null,
   "id": "3222b2d7",
   "metadata": {},
   "outputs": [],
   "source": [
    "fill_the_english_test_scores()"
   ]
  },
  {
   "cell_type": "code",
   "execution_count": null,
   "id": "9f075386",
   "metadata": {},
   "outputs": [],
   "source": [
    "fill_the_aptitude_test_scores()"
   ]
  },
  {
   "cell_type": "code",
   "execution_count": null,
   "id": "548f83c6",
   "metadata": {},
   "outputs": [],
   "source": [
    "click_to_next_page()"
   ]
  },
  {
   "cell_type": "code",
   "execution_count": null,
   "id": "005de0f8",
   "metadata": {},
   "outputs": [],
   "source": [
    "update_the_score('#work_exp',randint(5,50))"
   ]
  },
  {
   "cell_type": "code",
   "execution_count": null,
   "id": "abe02700",
   "metadata": {},
   "outputs": [],
   "source": [
    "update_the_score('#project',randint(0,10))"
   ]
  },
  {
   "cell_type": "code",
   "execution_count": 443,
   "id": "d9263b62",
   "metadata": {},
   "outputs": [
    {
     "name": "stdout",
     "output_type": "stream",
     "text": [
      "try completing the required mandatory fields on the page!, refreshing page\n"
     ]
    }
   ],
   "source": [
    "click_to_next_page()"
   ]
  },
  {
   "cell_type": "code",
   "execution_count": 444,
   "id": "c557b791",
   "metadata": {},
   "outputs": [],
   "source": [
    "driver.refresh()"
   ]
  },
  {
   "cell_type": "code",
   "execution_count": 341,
   "id": "b2a633ff",
   "metadata": {},
   "outputs": [],
   "source": [
    "driver.execute_script(\"document.body.style.zoom = '40%'\")\n",
    "time.sleep(5)"
   ]
  },
  {
   "cell_type": "code",
   "execution_count": 321,
   "id": "fc1789ee",
   "metadata": {},
   "outputs": [
    {
     "name": "stdout",
     "output_type": "stream",
     "text": [
      "Shortlist\n",
      "University of Technology Sydney\n",
      "Australia\n",
      "Masters Good Manufacturing Practice\n",
      "A$71,520/year\n",
      "24 months\n",
      "See all admits\n",
      "Get Guidance\n",
      "Shortlist\n",
      "University of Melbourne\n",
      "Australia\n",
      "MS Industrial Engineering\n",
      "A$91,709/year\n",
      "24 months\n",
      "See all admits\n",
      "Get Guidance\n",
      "\n",
      "\n",
      "[['University of Technology Sydney', 'Australia', 'Masters Good Manufacturing Practice', 'A$71,520/year', '24 months', 'See all admits', 'Get Guidance', ''], ['University of Melbourne', 'Australia', 'MS Industrial Engineering', 'A$91,709/year', '24 months', 'See all admits', 'Get Guidance']]\n",
      "[]\n",
      "[]\n"
     ]
    }
   ],
   "source": [
    "scrape_on_50_opacity()"
   ]
  },
  {
   "cell_type": "code",
   "execution_count": null,
   "id": "89fc2ab1",
   "metadata": {},
   "outputs": [],
   "source": []
  },
  {
   "cell_type": "code",
   "execution_count": null,
   "id": "54665a0b",
   "metadata": {},
   "outputs": [],
   "source": []
  },
  {
   "cell_type": "code",
   "execution_count": 280,
   "id": "aa857fd0",
   "metadata": {},
   "outputs": [],
   "source": [
    "#__layout > div > main > div > div > div > validationobserver > form > div:nth-child(1) > div.grid.grid-cols-3.gap-6.mt-8 > div:nth-child(2) > div\n",
    "val  = Select(driver.find_element(By.CSS_SELECTOR, '#__layout > div > main > div > div > div > div:nth-child(5) > div.flex.justify-between.items-center > div > select'))\n",
    "val.select_by_value(relevance_dict['cost'])  "
   ]
  },
  {
   "cell_type": "code",
   "execution_count": 64,
   "id": "fc385194",
   "metadata": {},
   "outputs": [],
   "source": [
    "click_to_next_page()"
   ]
  },
  {
   "cell_type": "code",
   "execution_count": 467,
   "id": "fed17dbc",
   "metadata": {},
   "outputs": [
    {
     "name": "stdout",
     "output_type": "stream",
     "text": [
      "United States\n",
      "Canada\n",
      "Australia & New Zealand\n",
      "United Kingdom\n",
      "European Union\n"
     ]
    }
   ],
   "source": [
    "WebDriverWait(driver, 20).until(EC.element_to_be_clickable((By.CSS_SELECTOR, \"#country\"))).click()\n",
    "WebDriverWait(driver, 20).until(EC.visibility_of_element_located((By.CSS_SELECTOR, \"#vs1__listbox\")))\n",
    "country_options = get_all_options_from_dropdown('#vs1__listbox')"
   ]
  },
  {
   "cell_type": "code",
   "execution_count": 182,
   "id": "96fc605e",
   "metadata": {},
   "outputs": [
    {
     "name": "stdout",
     "output_type": "stream",
     "text": [
      "[['United States', 'Canada', 'Australia & New Zealand', 'United Kingdom', 'European Union']]\n"
     ]
    }
   ],
   "source": [
    "print(country_options)"
   ]
  },
  {
   "cell_type": "code",
   "execution_count": 470,
   "id": "b4d9fbfe",
   "metadata": {},
   "outputs": [
    {
     "name": "stdout",
     "output_type": "stream",
     "text": [
      "Data Science and Business Intelligence\n",
      "Data Processing Technology\n"
     ]
    }
   ],
   "source": [
    "WebDriverWait(driver, 20).until(EC.element_to_be_clickable((By.CSS_SELECTOR, \"#area_of_study\"))).click()\n",
    "driver.find_element(By.CSS_SELECTOR,'#vs2__combobox > div.vs__selected-options > input').clear()\n",
    "driver.find_element(By.CSS_SELECTOR,'#vs2__combobox > div.vs__selected-options > input').send_keys('data')\n",
    "# time.sleep(2)\n",
    "WebDriverWait(driver, 20).until(EC.visibility_of_element_located((By.CSS_SELECTOR, \"#vs2__listbox\")))\n",
    "stream_options = get_all_options_from_dropdown('#vs2__listbox')"
   ]
  },
  {
   "cell_type": "code",
   "execution_count": 122,
   "id": "2a714b10",
   "metadata": {},
   "outputs": [
    {
     "name": "stdout",
     "output_type": "stream",
     "text": [
      "[['Data Science and Business Intelligence', 'Data Processing Technology', 'Big Data Analytics Applied Modelling and Quantitative Methods Non Thesis', 'Big Data Analytic and Information Technology']]\n"
     ]
    }
   ],
   "source": [
    "print(stream_options)"
   ]
  },
  {
   "cell_type": "code",
   "execution_count": 468,
   "id": "fcc61288",
   "metadata": {},
   "outputs": [
    {
     "name": "stdout",
     "output_type": "stream",
     "text": [
      "#vs1__option-3\n"
     ]
    }
   ],
   "source": [
    "\n",
    "# print(len(country_options[0]))\n",
    "random_value = randint(0, len(country_options[0])-1)\n",
    "vs_1_locator = '#vs1__option-' + str(random_value)\n",
    "print(vs_1_locator)"
   ]
  },
  {
   "cell_type": "code",
   "execution_count": 471,
   "id": "dae9b9d8",
   "metadata": {},
   "outputs": [
    {
     "name": "stdout",
     "output_type": "stream",
     "text": [
      "#vs2__option-0\n"
     ]
    }
   ],
   "source": [
    "\n",
    "# print(len(country_options[0]))\n",
    "random_value = randint(0, len(stream_options[0])-1)\n",
    "vs_2_locator = '#vs2__option-' + str(random_value)\n",
    "print(vs_2_locator)"
   ]
  },
  {
   "cell_type": "code",
   "execution_count": 469,
   "id": "eeab2c76",
   "metadata": {},
   "outputs": [],
   "source": [
    "WebDriverWait(driver, 20).until(EC.element_to_be_clickable((By.CSS_SELECTOR, vs_1_locator))).click()"
   ]
  },
  {
   "cell_type": "code",
   "execution_count": 472,
   "id": "7b694092",
   "metadata": {},
   "outputs": [],
   "source": [
    "WebDriverWait(driver, 20).until(EC.element_to_be_clickable((By.CSS_SELECTOR, vs_2_locator))).click()"
   ]
  },
  {
   "cell_type": "code",
   "execution_count": 166,
   "id": "3271ac31",
   "metadata": {},
   "outputs": [],
   "source": [
    "WebDriverWait(driver, 20).until(EC.element_to_be_clickable((By.CSS_SELECTOR, 'body > div'))).click()"
   ]
  },
  {
   "cell_type": "code",
   "execution_count": 168,
   "id": "067d7a85",
   "metadata": {},
   "outputs": [
    {
     "ename": "AttributeError",
     "evalue": "'WebDriver' object has no attribute 'switchTo'",
     "output_type": "error",
     "traceback": [
      "\u001b[1;31m---------------------------------------------------------------------------\u001b[0m",
      "\u001b[1;31mAttributeError\u001b[0m                            Traceback (most recent call last)",
      "Input \u001b[1;32mIn [168]\u001b[0m, in \u001b[0;36m<cell line: 1>\u001b[1;34m()\u001b[0m\n\u001b[1;32m----> 1\u001b[0m \u001b[43mdriver\u001b[49m\u001b[38;5;241;43m.\u001b[39;49m\u001b[43mswitchTo\u001b[49m()\u001b[38;5;241m.\u001b[39malert()\u001b[38;5;241m.\u001b[39mdismiss()\n",
      "\u001b[1;31mAttributeError\u001b[0m: 'WebDriver' object has no attribute 'switchTo'"
     ]
    }
   ],
   "source": [
    "driver.switchTo().alert().dismiss();"
   ]
  },
  {
   "cell_type": "code",
   "execution_count": 473,
   "id": "cbc58f87",
   "metadata": {},
   "outputs": [
    {
     "name": "stdout",
     "output_type": "stream",
     "text": [
      "try completing the required mandatory fields on the page!\n"
     ]
    }
   ],
   "source": [
    "click_to_next_page()\n"
   ]
  },
  {
   "cell_type": "markdown",
   "id": "34ef83e3",
   "metadata": {},
   "source": [
    "## second page"
   ]
  },
  {
   "cell_type": "code",
   "execution_count": 215,
   "id": "4bf32b03",
   "metadata": {},
   "outputs": [
    {
     "name": "stdout",
     "output_type": "stream",
     "text": [
      "Apex International Institute of Technology\n",
      "Bal Krishna Institute of Technology\n",
      "Gurukul Institute of Engineering & Technology\n",
      "Maharishi Arvind College of Engineering & Technology\n",
      "Maharishi Arvind International Institute of Technology\n",
      "Modi Institute of Technology\n",
      "Sardar Patel College of Technology\n",
      "Shri Balaji Institute of Technology & Mgmt.\n",
      "University Institute of Technology\n",
      "Lakshmi Narain College of Technology\n",
      "Tech\n"
     ]
    }
   ],
   "source": [
    "WebDriverWait(driver, 20).until(EC.element_to_be_clickable((By.CSS_SELECTOR, \"#college\"))).click()\n",
    "driver.find_element(By.CSS_SELECTOR,'#vs4__combobox > div.vs__selected-options > input').clear()\n",
    "driver.find_element(By.CSS_SELECTOR,'#vs4__combobox > div.vs__selected-options > input').send_keys('Tech')\n",
    "# driver.find_element(By.CSS_SELECTOR,'#vs4__combobox > div.vs__selected-options > input').clear()\n",
    "time.sleep(2)\n",
    "WebDriverWait(driver, 20).until(EC.visibility_of_element_located((By.CSS_SELECTOR, \"#vs4__listbox\")))\n",
    "college_options = get_all_options_from_dropdown('#vs4__listbox')"
   ]
  },
  {
   "cell_type": "code",
   "execution_count": 218,
   "id": "982a2c94",
   "metadata": {},
   "outputs": [
    {
     "name": "stdout",
     "output_type": "stream",
     "text": [
      "['Apex International Institute of Technology', 'Bal Krishna Institute of Technology', 'Gurukul Institute of Engineering & Technology', 'Maharishi Arvind College of Engineering & Technology', 'Maharishi Arvind International Institute of Technology', 'Modi Institute of Technology', 'Sardar Patel College of Technology', 'Shri Balaji Institute of Technology & Mgmt.', 'University Institute of Technology', 'Lakshmi Narain College of Technology']\n"
     ]
    }
   ],
   "source": [
    "print(college_options[0][:-1])"
   ]
  },
  {
   "cell_type": "code",
   "execution_count": 219,
   "id": "ded4ee80",
   "metadata": {},
   "outputs": [
    {
     "name": "stdout",
     "output_type": "stream",
     "text": [
      "#vs4__option-5\n"
     ]
    }
   ],
   "source": [
    "\n",
    "# print(len(country_options[0]))\n",
    "random_value = randint(0, len(college_options[0])-2) ## index -1 due to the fact the entered key is present at last\n",
    "vs_4_locator = '#vs4__option-' + str(random_value)\n",
    "print(vs_4_locator)"
   ]
  },
  {
   "cell_type": "code",
   "execution_count": 220,
   "id": "54b4cfcc",
   "metadata": {},
   "outputs": [],
   "source": [
    "WebDriverWait(driver, 20).until(EC.element_to_be_clickable((By.CSS_SELECTOR, vs_4_locator))).click()"
   ]
  },
  {
   "cell_type": "code",
   "execution_count": null,
   "id": "d77d7d16",
   "metadata": {},
   "outputs": [],
   "source": [
    "#major"
   ]
  },
  {
   "cell_type": "code",
   "execution_count": 221,
   "id": "c03a935d",
   "metadata": {},
   "outputs": [
    {
     "name": "stdout",
     "output_type": "stream",
     "text": [
      "Computer Networking and Telecommunications\n",
      "Computer Science Electronics\n",
      "Electrical and Computer Engineering\n",
      "Electrical and Electronics Engineering\n",
      "Electrical and Power Engineering\n",
      "Electrical Electronics and Communications Engineering\n",
      "Electrical Engineering\n",
      "Electrician\n",
      "Electronics and Communication Engineering\n",
      "Electronics Engineering\n",
      "Telecommunication Engineering\n",
      "Telecommunications Engineering and Technology\n"
     ]
    }
   ],
   "source": [
    "WebDriverWait(driver, 20).until(EC.element_to_be_clickable((By.CSS_SELECTOR, \"#major\"))).click()\n",
    "driver.find_element(By.CSS_SELECTOR,'#vs6__combobox > div.vs__selected-options > input').clear()\n",
    "driver.find_element(By.CSS_SELECTOR,'#vs6__combobox > div.vs__selected-options > input').send_keys('Elec')\n",
    "# driver.find_element(By.CSS_SELECTOR,'#vs4__combobox > div.vs__selected-options > input').clear()\n",
    "time.sleep(2)\n",
    "WebDriverWait(driver, 20).until(EC.visibility_of_element_located((By.CSS_SELECTOR, \"#vs6__listbox\")))\n",
    "major_options = get_all_options_from_dropdown('#vs6__listbox')"
   ]
  },
  {
   "cell_type": "code",
   "execution_count": 222,
   "id": "42a24c01",
   "metadata": {},
   "outputs": [
    {
     "name": "stdout",
     "output_type": "stream",
     "text": [
      "#vs6__option-5\n"
     ]
    }
   ],
   "source": [
    "\n",
    "# print(len(country_options[0]))\n",
    "random_value = randint(0, len(major_options[0])-1) \n",
    "vs_6_locator = '#vs6__option-' + str(random_value)\n",
    "print(vs_6_locator)"
   ]
  },
  {
   "cell_type": "code",
   "execution_count": 223,
   "id": "605311d0",
   "metadata": {},
   "outputs": [],
   "source": [
    "WebDriverWait(driver, 20).until(EC.element_to_be_clickable((By.CSS_SELECTOR, vs_6_locator))).click()"
   ]
  },
  {
   "cell_type": "code",
   "execution_count": null,
   "id": "b58c157b",
   "metadata": {},
   "outputs": [],
   "source": []
  },
  {
   "cell_type": "code",
   "execution_count": 255,
   "id": "cc8356a8",
   "metadata": {},
   "outputs": [],
   "source": []
  },
  {
   "cell_type": "code",
   "execution_count": 264,
   "id": "ce84da14",
   "metadata": {},
   "outputs": [],
   "source": [
    "driver.find_element(By.CSS_SELECTOR,'#marks').clear()\n",
    "# WebDriverWait(driver, 20).until(EC.element_to_be_clickable((By.CSS_SELECTOR, \"#marks\"))).click()\n",
    "# driver.find_element(By.CSS_SELECTOR,'#marks').clear()\n",
    "random_cgpa = round(uniform(5,10), 2)\n",
    "WebDriverWait(driver, 20).until(EC.element_to_be_clickable((By.CSS_SELECTOR, \"#marks\"))).send_keys(Keys.CONTROL + \"a\")\n",
    "WebDriverWait(driver, 20).until(EC.element_to_be_clickable((By.CSS_SELECTOR, \"#marks\"))).send_keys(Keys.DELETE)\n",
    "WebDriverWait(driver, 20).until(EC.element_to_be_clickable((By.CSS_SELECTOR, \"#marks\"))).send_keys(random_cgpa)"
   ]
  },
  {
   "cell_type": "code",
   "execution_count": 265,
   "id": "0c0e4a33",
   "metadata": {},
   "outputs": [],
   "source": [
    "click_to_next_page()"
   ]
  },
  {
   "cell_type": "code",
   "execution_count": null,
   "id": "1ec5362a",
   "metadata": {},
   "outputs": [],
   "source": []
  },
  {
   "cell_type": "markdown",
   "id": "db0b43c0",
   "metadata": {},
   "source": [
    "## Third Page"
   ]
  },
  {
   "cell_type": "code",
   "execution_count": 305,
   "id": "a1659fbe",
   "metadata": {},
   "outputs": [],
   "source": [
    "WebDriverWait(driver, 20).until(EC.element_to_be_clickable((By.CSS_SELECTOR, exam_dict['pte']))).click()"
   ]
  },
  {
   "cell_type": "code",
   "execution_count": 287,
   "id": "0d3c3b0e",
   "metadata": {},
   "outputs": [
    {
     "name": "stdout",
     "output_type": "stream",
     "text": [
      "teofl #__layout > div > main > div > div > div > validationobserver > form > div:nth-child(1) > div:nth-child(2) > div > div.col-span-2.sm\\:col-span-1.sm\\:pr-4 > div.grid.grid-cols-3.sm\\:grid-cols-3.gap-2.justify-center.items-center.pt-2 > div:nth-child(1) > div\n"
     ]
    }
   ],
   "source": []
  },
  {
   "cell_type": "code",
   "execution_count": 335,
   "id": "2276e733",
   "metadata": {},
   "outputs": [
    {
     "name": "stdout",
     "output_type": "stream",
     "text": [
      "toefl #__layout > div > main > div > div > div > validationobserver > form > div:nth-child(1) > div:nth-child(2) > div > div.col-span-2.sm\\:col-span-1.sm\\:pr-4 > div.grid.grid-cols-3.sm\\:grid-cols-3.gap-2.justify-center.items-center.pt-2 > div:nth-child(1) > div\n",
      "#toefl_overall_score\n"
     ]
    }
   ],
   "source": [
    "fill_the_english_test_scores()"
   ]
  },
  {
   "cell_type": "code",
   "execution_count": 343,
   "id": "61d925e8",
   "metadata": {},
   "outputs": [
    {
     "name": "stdout",
     "output_type": "stream",
     "text": [
      "148\n"
     ]
    }
   ],
   "source": [
    "l= [randint(85,170),randint(85,170),randint(3,6)]\n",
    "print(l[0])"
   ]
  },
  {
   "cell_type": "code",
   "execution_count": 366,
   "id": "f986ac5c",
   "metadata": {},
   "outputs": [
    {
     "name": "stdout",
     "output_type": "stream",
     "text": [
      "gmat #__layout > div > main > div > div > div > validationobserver > form > div:nth-child(1) > div:nth-child(2) > div > div.col-span-2.sm\\:col-span-1.sm\\:pl-8 > div.pt-2 > div.grid.grid-cols-3.md\\:grid-cols-3.gap-2.justify-center.items-center > div:nth-child(2) > div\n"
     ]
    }
   ],
   "source": [
    "fill_the_aptitude_test_scores()"
   ]
  },
  {
   "cell_type": "code",
   "execution_count": 367,
   "id": "b5a3d1cb",
   "metadata": {},
   "outputs": [],
   "source": [
    "click_to_next_page()"
   ]
  },
  {
   "cell_type": "code",
   "execution_count": null,
   "id": "53c861e6",
   "metadata": {},
   "outputs": [],
   "source": []
  },
  {
   "cell_type": "markdown",
   "id": "af59bcc6",
   "metadata": {},
   "source": [
    "## fourth page"
   ]
  },
  {
   "cell_type": "code",
   "execution_count": null,
   "id": "e9dee135",
   "metadata": {},
   "outputs": [],
   "source": []
  },
  {
   "cell_type": "code",
   "execution_count": null,
   "id": "37ff84ba",
   "metadata": {},
   "outputs": [],
   "source": []
  },
  {
   "cell_type": "code",
   "execution_count": 371,
   "id": "db43094c",
   "metadata": {},
   "outputs": [],
   "source": [
    "ele = driver.find_element(By.CSS_SELECTOR, '#__layout > div > main > div > div > div > validationobserver > form > div:nth-child(1) > div.grid.grid-cols-3.gap-6.mt-8 > div:nth-child(2) > div')"
   ]
  },
  {
   "cell_type": "markdown",
   "id": "5deb2453",
   "metadata": {},
   "source": [
    "## Final page"
   ]
  },
  {
   "cell_type": "code",
   "execution_count": 279,
   "id": "48bc82cf",
   "metadata": {},
   "outputs": [
    {
     "ename": "NoSuchElementException",
     "evalue": "Message: no such element: Unable to locate element: {\"method\":\"css selector\",\"selector\":\"#__layout > div > div.w-full > div > main > div > div > div > div:nth-child(4) > div.flex.justify-between.items-center > div > select\"}\n  (Session info: chrome=100.0.4896.75)\nStacktrace:\nBacktrace:\n\tOrdinal0 [0x01087413+2389011]\n\tOrdinal0 [0x01019F61+1941345]\n\tOrdinal0 [0x00F0C658+837208]\n\tOrdinal0 [0x00F391DD+1020381]\n\tOrdinal0 [0x00F3949B+1021083]\n\tOrdinal0 [0x00F66032+1204274]\n\tOrdinal0 [0x00F54194+1130900]\n\tOrdinal0 [0x00F64302+1196802]\n\tOrdinal0 [0x00F53F66+1130342]\n\tOrdinal0 [0x00F2E546+976198]\n\tOrdinal0 [0x00F2F456+980054]\n\tGetHandleVerifier [0x01239632+1727522]\n\tGetHandleVerifier [0x012EBA4D+2457661]\n\tGetHandleVerifier [0x0111EB81+569713]\n\tGetHandleVerifier [0x0111DD76+566118]\n\tOrdinal0 [0x01020B2B+1968939]\n\tOrdinal0 [0x01025988+1989000]\n\tOrdinal0 [0x01025A75+1989237]\n\tOrdinal0 [0x0102ECB1+2026673]\n\tBaseThreadInitThunk [0x76D26A14+36]\n\tRtlInitializeExceptionChain [0x7758AB2F+143]\n\tRtlInitializeExceptionChain [0x7758AAFA+90]\n",
     "output_type": "error",
     "traceback": [
      "\u001b[1;31m---------------------------------------------------------------------------\u001b[0m",
      "\u001b[1;31mNoSuchElementException\u001b[0m                    Traceback (most recent call last)",
      "Input \u001b[1;32mIn [279]\u001b[0m, in \u001b[0;36m<cell line: 2>\u001b[1;34m()\u001b[0m\n\u001b[0;32m      1\u001b[0m \u001b[38;5;66;03m#__layout > div > main > div > div > div > div:nth-child(5) > div.flex.justify-between.items-center > div > select\u001b[39;00m\n\u001b[1;32m----> 2\u001b[0m val  \u001b[38;5;241m=\u001b[39m Select(\u001b[43mdriver\u001b[49m\u001b[38;5;241;43m.\u001b[39;49m\u001b[43mfind_element\u001b[49m\u001b[43m(\u001b[49m\u001b[43mBy\u001b[49m\u001b[38;5;241;43m.\u001b[39;49m\u001b[43mCSS_SELECTOR\u001b[49m\u001b[43m,\u001b[49m\u001b[43m \u001b[49m\u001b[38;5;124;43m'\u001b[39;49m\u001b[38;5;124;43m#__layout > div > div.w-full > div > main > div > div > div > div:nth-child(4) > div.flex.justify-between.items-center > div > select\u001b[39;49m\u001b[38;5;124;43m'\u001b[39;49m\u001b[43m)\u001b[49m)\n\u001b[0;32m      3\u001b[0m val\u001b[38;5;241m.\u001b[39mselect_by_value(relevance_dict[\u001b[38;5;124m'\u001b[39m\u001b[38;5;124mcost\u001b[39m\u001b[38;5;124m'\u001b[39m])\n",
      "File \u001b[1;32m~\\AppData\\Local\\Programs\\Python\\Python310\\lib\\site-packages\\selenium\\webdriver\\remote\\webdriver.py:1248\u001b[0m, in \u001b[0;36mWebDriver.find_element\u001b[1;34m(self, by, value)\u001b[0m\n\u001b[0;32m   1245\u001b[0m     by \u001b[38;5;241m=\u001b[39m By\u001b[38;5;241m.\u001b[39mCSS_SELECTOR\n\u001b[0;32m   1246\u001b[0m     value \u001b[38;5;241m=\u001b[39m \u001b[38;5;124m'\u001b[39m\u001b[38;5;124m[name=\u001b[39m\u001b[38;5;124m\"\u001b[39m\u001b[38;5;132;01m%s\u001b[39;00m\u001b[38;5;124m\"\u001b[39m\u001b[38;5;124m]\u001b[39m\u001b[38;5;124m'\u001b[39m \u001b[38;5;241m%\u001b[39m value\n\u001b[1;32m-> 1248\u001b[0m \u001b[38;5;28;01mreturn\u001b[39;00m \u001b[38;5;28;43mself\u001b[39;49m\u001b[38;5;241;43m.\u001b[39;49m\u001b[43mexecute\u001b[49m\u001b[43m(\u001b[49m\u001b[43mCommand\u001b[49m\u001b[38;5;241;43m.\u001b[39;49m\u001b[43mFIND_ELEMENT\u001b[49m\u001b[43m,\u001b[49m\u001b[43m \u001b[49m\u001b[43m{\u001b[49m\n\u001b[0;32m   1249\u001b[0m \u001b[43m    \u001b[49m\u001b[38;5;124;43m'\u001b[39;49m\u001b[38;5;124;43musing\u001b[39;49m\u001b[38;5;124;43m'\u001b[39;49m\u001b[43m:\u001b[49m\u001b[43m \u001b[49m\u001b[43mby\u001b[49m\u001b[43m,\u001b[49m\n\u001b[0;32m   1250\u001b[0m \u001b[43m    \u001b[49m\u001b[38;5;124;43m'\u001b[39;49m\u001b[38;5;124;43mvalue\u001b[39;49m\u001b[38;5;124;43m'\u001b[39;49m\u001b[43m:\u001b[49m\u001b[43m \u001b[49m\u001b[43mvalue\u001b[49m\u001b[43m}\u001b[49m\u001b[43m)\u001b[49m[\u001b[38;5;124m'\u001b[39m\u001b[38;5;124mvalue\u001b[39m\u001b[38;5;124m'\u001b[39m]\n",
      "File \u001b[1;32m~\\AppData\\Local\\Programs\\Python\\Python310\\lib\\site-packages\\selenium\\webdriver\\remote\\webdriver.py:425\u001b[0m, in \u001b[0;36mWebDriver.execute\u001b[1;34m(self, driver_command, params)\u001b[0m\n\u001b[0;32m    423\u001b[0m response \u001b[38;5;241m=\u001b[39m \u001b[38;5;28mself\u001b[39m\u001b[38;5;241m.\u001b[39mcommand_executor\u001b[38;5;241m.\u001b[39mexecute(driver_command, params)\n\u001b[0;32m    424\u001b[0m \u001b[38;5;28;01mif\u001b[39;00m response:\n\u001b[1;32m--> 425\u001b[0m     \u001b[38;5;28;43mself\u001b[39;49m\u001b[38;5;241;43m.\u001b[39;49m\u001b[43merror_handler\u001b[49m\u001b[38;5;241;43m.\u001b[39;49m\u001b[43mcheck_response\u001b[49m\u001b[43m(\u001b[49m\u001b[43mresponse\u001b[49m\u001b[43m)\u001b[49m\n\u001b[0;32m    426\u001b[0m     response[\u001b[38;5;124m'\u001b[39m\u001b[38;5;124mvalue\u001b[39m\u001b[38;5;124m'\u001b[39m] \u001b[38;5;241m=\u001b[39m \u001b[38;5;28mself\u001b[39m\u001b[38;5;241m.\u001b[39m_unwrap_value(\n\u001b[0;32m    427\u001b[0m         response\u001b[38;5;241m.\u001b[39mget(\u001b[38;5;124m'\u001b[39m\u001b[38;5;124mvalue\u001b[39m\u001b[38;5;124m'\u001b[39m, \u001b[38;5;28;01mNone\u001b[39;00m))\n\u001b[0;32m    428\u001b[0m     \u001b[38;5;28;01mreturn\u001b[39;00m response\n",
      "File \u001b[1;32m~\\AppData\\Local\\Programs\\Python\\Python310\\lib\\site-packages\\selenium\\webdriver\\remote\\errorhandler.py:247\u001b[0m, in \u001b[0;36mErrorHandler.check_response\u001b[1;34m(self, response)\u001b[0m\n\u001b[0;32m    245\u001b[0m         alert_text \u001b[38;5;241m=\u001b[39m value[\u001b[38;5;124m'\u001b[39m\u001b[38;5;124malert\u001b[39m\u001b[38;5;124m'\u001b[39m]\u001b[38;5;241m.\u001b[39mget(\u001b[38;5;124m'\u001b[39m\u001b[38;5;124mtext\u001b[39m\u001b[38;5;124m'\u001b[39m)\n\u001b[0;32m    246\u001b[0m     \u001b[38;5;28;01mraise\u001b[39;00m exception_class(message, screen, stacktrace, alert_text)  \u001b[38;5;66;03m# type: ignore[call-arg]  # mypy is not smart enough here\u001b[39;00m\n\u001b[1;32m--> 247\u001b[0m \u001b[38;5;28;01mraise\u001b[39;00m exception_class(message, screen, stacktrace)\n",
      "\u001b[1;31mNoSuchElementException\u001b[0m: Message: no such element: Unable to locate element: {\"method\":\"css selector\",\"selector\":\"#__layout > div > div.w-full > div > main > div > div > div > div:nth-child(4) > div.flex.justify-between.items-center > div > select\"}\n  (Session info: chrome=100.0.4896.75)\nStacktrace:\nBacktrace:\n\tOrdinal0 [0x01087413+2389011]\n\tOrdinal0 [0x01019F61+1941345]\n\tOrdinal0 [0x00F0C658+837208]\n\tOrdinal0 [0x00F391DD+1020381]\n\tOrdinal0 [0x00F3949B+1021083]\n\tOrdinal0 [0x00F66032+1204274]\n\tOrdinal0 [0x00F54194+1130900]\n\tOrdinal0 [0x00F64302+1196802]\n\tOrdinal0 [0x00F53F66+1130342]\n\tOrdinal0 [0x00F2E546+976198]\n\tOrdinal0 [0x00F2F456+980054]\n\tGetHandleVerifier [0x01239632+1727522]\n\tGetHandleVerifier [0x012EBA4D+2457661]\n\tGetHandleVerifier [0x0111EB81+569713]\n\tGetHandleVerifier [0x0111DD76+566118]\n\tOrdinal0 [0x01020B2B+1968939]\n\tOrdinal0 [0x01025988+1989000]\n\tOrdinal0 [0x01025A75+1989237]\n\tOrdinal0 [0x0102ECB1+2026673]\n\tBaseThreadInitThunk [0x76D26A14+36]\n\tRtlInitializeExceptionChain [0x7758AB2F+143]\n\tRtlInitializeExceptionChain [0x7758AAFA+90]\n"
     ]
    }
   ],
   "source": [
    "#__layout > div > main > div > div > div > div:nth-child(5) > div.flex.justify-between.items-center > div > select\n",
    "val  = Select(driver.find_element(By.CSS_SELECTOR, '#__layout > div > div.w-full > div > main > div > div > div > div:nth-child(4) > div.flex.justify-between.items-center > div > select'))\n",
    "val.select_by_value(relevance_dict['cost'])            "
   ]
  },
  {
   "cell_type": "code",
   "execution_count": 419,
   "id": "4a22ce32",
   "metadata": {},
   "outputs": [],
   "source": [
    "ambitious_universities = get_list_of_all_universities('#__layout > div > div.w-full > div > main > div > div > div > div:nth-child(4) > div.grid.grid-cols-1.sm\\:grid-cols-2.lg\\:grid-cols-3.gap-4.sm\\:gap-6')\n",
    "target_universities = get_list_of_all_universities('#__layout > div > div.w-full > div > main > div > div > div > div:nth-child(6) > div')\n",
    "safe_universities = get_list_of_all_universities('#__layout > div > div.w-full > div > main > div > div > div > div:nth-child(8) > div')"
   ]
  },
  {
   "cell_type": "code",
   "execution_count": 420,
   "id": "ce74f41d",
   "metadata": {},
   "outputs": [
    {
     "name": "stdout",
     "output_type": "stream",
     "text": [
      "[['Michigan State University', 'United States', 'Masters Envir & Social System Modeling', 'See all admits', 'Get Guidance', ''], ['University of Iowa', 'United States', 'Masters Informatics', 'See all admits', 'Get Guidance', ''], ['University of Alabama at Birmingham', 'United States', 'MS Computer Science', '$31,980/year', '18 months', 'See all admits', 'Get Guidance', ''], ['Florida State University', 'United States', 'MS Information Technology', '$37,621/year', '18 months', 'See all admits', 'Get Guidance', ''], ['Rutgers University-New Brunswick', 'United States', 'MS Computer Science - Massive Data Analytics', '$37,680/year', '24 months', 'See all admits', 'Get Guidance', ''], ['Rutgers University, Newark', 'United States', 'MS Computer Science', '$38,534/year', '12 months', 'See all admits', 'Get Guidance', ''], ['Rutgers University-New Brunswick', 'United States', 'MS Computer Science', '$46,656/year', '24 months', 'See all admits', 'Get Guidance', ''], ['University of Cincinnati', 'United States', 'MS Information Technology', '$53,288/year', '24 months', 'See all admits', 'Get Guidance']]\n"
     ]
    }
   ],
   "source": [
    "print(target_universities)"
   ]
  },
  {
   "cell_type": "code",
   "execution_count": null,
   "id": "598b0d06",
   "metadata": {},
   "outputs": [],
   "source": []
  },
  {
   "cell_type": "code",
   "execution_count": 436,
   "id": "08f2ec39",
   "metadata": {},
   "outputs": [],
   "source": [
    "def scroll_to_top_of_page():\n",
    "    top = driver.find_element(By.CSS_SELECTOR, '#__layout > div > div.w-full > div > main > div > div > div > div.pb-5.text-center.lg\\:text-left > div')\n",
    "    driver.execute_script(\"return arguments[0].scrollIntoView(true);\", top)"
   ]
  },
  {
   "cell_type": "code",
   "execution_count": 438,
   "id": "8cfc7eae",
   "metadata": {},
   "outputs": [],
   "source": [
    "scroll_to_top_of_page()"
   ]
  },
  {
   "cell_type": "code",
   "execution_count": 490,
   "id": "af4f7e73",
   "metadata": {},
   "outputs": [
    {
     "ename": "NoSuchWindowException",
     "evalue": "Message: no such window: window was already closed\n  (Session info: chrome=100.0.4896.75)\nStacktrace:\nBacktrace:\n\tOrdinal0 [0x01087413+2389011]\n\tOrdinal0 [0x01019F61+1941345]\n\tOrdinal0 [0x00F0C658+837208]\n\tOrdinal0 [0x00F01687+792199]\n\tOrdinal0 [0x00F02752+796498]\n\tOrdinal0 [0x00EFC0D9+770265]\n\tOrdinal0 [0x00F0D9D0+842192]\n\tOrdinal0 [0x00F63AE2+1194722]\n\tOrdinal0 [0x00F53F66+1130342]\n\tOrdinal0 [0x00F2E546+976198]\n\tOrdinal0 [0x00F2F456+980054]\n\tGetHandleVerifier [0x01239632+1727522]\n\tGetHandleVerifier [0x012EBA4D+2457661]\n\tGetHandleVerifier [0x0111EB81+569713]\n\tGetHandleVerifier [0x0111DD76+566118]\n\tOrdinal0 [0x01020B2B+1968939]\n\tOrdinal0 [0x01025988+1989000]\n\tOrdinal0 [0x01025A75+1989237]\n\tOrdinal0 [0x0102ECB1+2026673]\n\tBaseThreadInitThunk [0x76D26A14+36]\n\tRtlInitializeExceptionChain [0x7758AB2F+143]\n\tRtlInitializeExceptionChain [0x7758AAFA+90]\n",
     "output_type": "error",
     "traceback": [
      "\u001b[1;31m---------------------------------------------------------------------------\u001b[0m",
      "\u001b[1;31mNoSuchWindowException\u001b[0m                     Traceback (most recent call last)",
      "Input \u001b[1;32mIn [490]\u001b[0m, in \u001b[0;36m<cell line: 1>\u001b[1;34m()\u001b[0m\n\u001b[1;32m----> 1\u001b[0m \u001b[43mclose_the_chat_box\u001b[49m\u001b[43m(\u001b[49m\u001b[43m)\u001b[49m\n",
      "Input \u001b[1;32mIn [448]\u001b[0m, in \u001b[0;36mclose_the_chat_box\u001b[1;34m()\u001b[0m\n\u001b[0;32m      1\u001b[0m \u001b[38;5;28;01mdef\u001b[39;00m \u001b[38;5;21mclose_the_chat_box\u001b[39m():\n\u001b[0;32m      2\u001b[0m     \u001b[38;5;28;01mtry\u001b[39;00m:\n\u001b[1;32m----> 3\u001b[0m         \u001b[43mdriver\u001b[49m\u001b[38;5;241;43m.\u001b[39;49m\u001b[43mswitch_to\u001b[49m\u001b[38;5;241;43m.\u001b[39;49m\u001b[43mframe\u001b[49m\u001b[43m(\u001b[49m\u001b[38;5;124;43m\"\u001b[39;49m\u001b[38;5;124;43msiqiframe\u001b[39;49m\u001b[38;5;124;43m\"\u001b[39;49m\u001b[43m)\u001b[49m\n\u001b[0;32m      4\u001b[0m         \u001b[38;5;66;03m# driver.switch_to.default_content()\u001b[39;00m\n\u001b[0;32m      5\u001b[0m         WebDriverWait(driver, \u001b[38;5;241m20\u001b[39m)\u001b[38;5;241m.\u001b[39muntil(EC\u001b[38;5;241m.\u001b[39melement_to_be_clickable((By\u001b[38;5;241m.\u001b[39mCSS_SELECTOR, \u001b[38;5;124m'\u001b[39m\u001b[38;5;124mbody > div.win_close.sqico-larrow\u001b[39m\u001b[38;5;124m'\u001b[39m)))\u001b[38;5;241m.\u001b[39mclick()\n",
      "File \u001b[1;32m~\\AppData\\Local\\Programs\\Python\\Python310\\lib\\site-packages\\selenium\\webdriver\\remote\\switch_to.py:87\u001b[0m, in \u001b[0;36mSwitchTo.frame\u001b[1;34m(self, frame_reference)\u001b[0m\n\u001b[0;32m     85\u001b[0m \u001b[38;5;28;01mif\u001b[39;00m \u001b[38;5;28misinstance\u001b[39m(frame_reference, \u001b[38;5;28mstr\u001b[39m):\n\u001b[0;32m     86\u001b[0m     \u001b[38;5;28;01mtry\u001b[39;00m:\n\u001b[1;32m---> 87\u001b[0m         frame_reference \u001b[38;5;241m=\u001b[39m \u001b[38;5;28;43mself\u001b[39;49m\u001b[38;5;241;43m.\u001b[39;49m\u001b[43m_driver\u001b[49m\u001b[38;5;241;43m.\u001b[39;49m\u001b[43mfind_element\u001b[49m\u001b[43m(\u001b[49m\u001b[43mBy\u001b[49m\u001b[38;5;241;43m.\u001b[39;49m\u001b[43mID\u001b[49m\u001b[43m,\u001b[49m\u001b[43m \u001b[49m\u001b[43mframe_reference\u001b[49m\u001b[43m)\u001b[49m\n\u001b[0;32m     88\u001b[0m     \u001b[38;5;28;01mexcept\u001b[39;00m NoSuchElementException:\n\u001b[0;32m     89\u001b[0m         \u001b[38;5;28;01mtry\u001b[39;00m:\n",
      "File \u001b[1;32m~\\AppData\\Local\\Programs\\Python\\Python310\\lib\\site-packages\\selenium\\webdriver\\remote\\webdriver.py:1248\u001b[0m, in \u001b[0;36mWebDriver.find_element\u001b[1;34m(self, by, value)\u001b[0m\n\u001b[0;32m   1245\u001b[0m     by \u001b[38;5;241m=\u001b[39m By\u001b[38;5;241m.\u001b[39mCSS_SELECTOR\n\u001b[0;32m   1246\u001b[0m     value \u001b[38;5;241m=\u001b[39m \u001b[38;5;124m'\u001b[39m\u001b[38;5;124m[name=\u001b[39m\u001b[38;5;124m\"\u001b[39m\u001b[38;5;132;01m%s\u001b[39;00m\u001b[38;5;124m\"\u001b[39m\u001b[38;5;124m]\u001b[39m\u001b[38;5;124m'\u001b[39m \u001b[38;5;241m%\u001b[39m value\n\u001b[1;32m-> 1248\u001b[0m \u001b[38;5;28;01mreturn\u001b[39;00m \u001b[38;5;28;43mself\u001b[39;49m\u001b[38;5;241;43m.\u001b[39;49m\u001b[43mexecute\u001b[49m\u001b[43m(\u001b[49m\u001b[43mCommand\u001b[49m\u001b[38;5;241;43m.\u001b[39;49m\u001b[43mFIND_ELEMENT\u001b[49m\u001b[43m,\u001b[49m\u001b[43m \u001b[49m\u001b[43m{\u001b[49m\n\u001b[0;32m   1249\u001b[0m \u001b[43m    \u001b[49m\u001b[38;5;124;43m'\u001b[39;49m\u001b[38;5;124;43musing\u001b[39;49m\u001b[38;5;124;43m'\u001b[39;49m\u001b[43m:\u001b[49m\u001b[43m \u001b[49m\u001b[43mby\u001b[49m\u001b[43m,\u001b[49m\n\u001b[0;32m   1250\u001b[0m \u001b[43m    \u001b[49m\u001b[38;5;124;43m'\u001b[39;49m\u001b[38;5;124;43mvalue\u001b[39;49m\u001b[38;5;124;43m'\u001b[39;49m\u001b[43m:\u001b[49m\u001b[43m \u001b[49m\u001b[43mvalue\u001b[49m\u001b[43m}\u001b[49m\u001b[43m)\u001b[49m[\u001b[38;5;124m'\u001b[39m\u001b[38;5;124mvalue\u001b[39m\u001b[38;5;124m'\u001b[39m]\n",
      "File \u001b[1;32m~\\AppData\\Local\\Programs\\Python\\Python310\\lib\\site-packages\\selenium\\webdriver\\remote\\webdriver.py:425\u001b[0m, in \u001b[0;36mWebDriver.execute\u001b[1;34m(self, driver_command, params)\u001b[0m\n\u001b[0;32m    423\u001b[0m response \u001b[38;5;241m=\u001b[39m \u001b[38;5;28mself\u001b[39m\u001b[38;5;241m.\u001b[39mcommand_executor\u001b[38;5;241m.\u001b[39mexecute(driver_command, params)\n\u001b[0;32m    424\u001b[0m \u001b[38;5;28;01mif\u001b[39;00m response:\n\u001b[1;32m--> 425\u001b[0m     \u001b[38;5;28;43mself\u001b[39;49m\u001b[38;5;241;43m.\u001b[39;49m\u001b[43merror_handler\u001b[49m\u001b[38;5;241;43m.\u001b[39;49m\u001b[43mcheck_response\u001b[49m\u001b[43m(\u001b[49m\u001b[43mresponse\u001b[49m\u001b[43m)\u001b[49m\n\u001b[0;32m    426\u001b[0m     response[\u001b[38;5;124m'\u001b[39m\u001b[38;5;124mvalue\u001b[39m\u001b[38;5;124m'\u001b[39m] \u001b[38;5;241m=\u001b[39m \u001b[38;5;28mself\u001b[39m\u001b[38;5;241m.\u001b[39m_unwrap_value(\n\u001b[0;32m    427\u001b[0m         response\u001b[38;5;241m.\u001b[39mget(\u001b[38;5;124m'\u001b[39m\u001b[38;5;124mvalue\u001b[39m\u001b[38;5;124m'\u001b[39m, \u001b[38;5;28;01mNone\u001b[39;00m))\n\u001b[0;32m    428\u001b[0m     \u001b[38;5;28;01mreturn\u001b[39;00m response\n",
      "File \u001b[1;32m~\\AppData\\Local\\Programs\\Python\\Python310\\lib\\site-packages\\selenium\\webdriver\\remote\\errorhandler.py:247\u001b[0m, in \u001b[0;36mErrorHandler.check_response\u001b[1;34m(self, response)\u001b[0m\n\u001b[0;32m    245\u001b[0m         alert_text \u001b[38;5;241m=\u001b[39m value[\u001b[38;5;124m'\u001b[39m\u001b[38;5;124malert\u001b[39m\u001b[38;5;124m'\u001b[39m]\u001b[38;5;241m.\u001b[39mget(\u001b[38;5;124m'\u001b[39m\u001b[38;5;124mtext\u001b[39m\u001b[38;5;124m'\u001b[39m)\n\u001b[0;32m    246\u001b[0m     \u001b[38;5;28;01mraise\u001b[39;00m exception_class(message, screen, stacktrace, alert_text)  \u001b[38;5;66;03m# type: ignore[call-arg]  # mypy is not smart enough here\u001b[39;00m\n\u001b[1;32m--> 247\u001b[0m \u001b[38;5;28;01mraise\u001b[39;00m exception_class(message, screen, stacktrace)\n",
      "\u001b[1;31mNoSuchWindowException\u001b[0m: Message: no such window: window was already closed\n  (Session info: chrome=100.0.4896.75)\nStacktrace:\nBacktrace:\n\tOrdinal0 [0x01087413+2389011]\n\tOrdinal0 [0x01019F61+1941345]\n\tOrdinal0 [0x00F0C658+837208]\n\tOrdinal0 [0x00F01687+792199]\n\tOrdinal0 [0x00F02752+796498]\n\tOrdinal0 [0x00EFC0D9+770265]\n\tOrdinal0 [0x00F0D9D0+842192]\n\tOrdinal0 [0x00F63AE2+1194722]\n\tOrdinal0 [0x00F53F66+1130342]\n\tOrdinal0 [0x00F2E546+976198]\n\tOrdinal0 [0x00F2F456+980054]\n\tGetHandleVerifier [0x01239632+1727522]\n\tGetHandleVerifier [0x012EBA4D+2457661]\n\tGetHandleVerifier [0x0111EB81+569713]\n\tGetHandleVerifier [0x0111DD76+566118]\n\tOrdinal0 [0x01020B2B+1968939]\n\tOrdinal0 [0x01025988+1989000]\n\tOrdinal0 [0x01025A75+1989237]\n\tOrdinal0 [0x0102ECB1+2026673]\n\tBaseThreadInitThunk [0x76D26A14+36]\n\tRtlInitializeExceptionChain [0x7758AB2F+143]\n\tRtlInitializeExceptionChain [0x7758AAFA+90]\n"
     ]
    }
   ],
   "source": [
    "close_the_chat_box()"
   ]
  },
  {
   "cell_type": "code",
   "execution_count": null,
   "id": "8af38741",
   "metadata": {},
   "outputs": [],
   "source": [
    "#__layout > div > main > div > div > div > validationobserver > form > div.grid.grid-cols-2.gap-6.pt-12 > div.text-right > button"
   ]
  },
  {
   "cell_type": "code",
   "execution_count": 446,
   "id": "388aa698",
   "metadata": {},
   "outputs": [
    {
     "name": "stdout",
     "output_type": "stream",
     "text": [
      "Step 2 of 4\n"
     ]
    }
   ],
   "source": [
    "top = driver.find_element(By.CSS_SELECTOR, '#__layout > div > main > div > div > div > validationobserver > form > div:nth-child(1) > div.-mx-4.sm\\:-mx-12.border-b-2 > div > div.flex.justify-between.space-x-6.sm\\:mr-12.mt-4.lg\\:mt-0 > div.text-gray-700.hidden.sm\\:block')\n",
    "print(top.text)"
   ]
  },
  {
   "cell_type": "code",
   "execution_count": null,
   "id": "8cab9adf",
   "metadata": {},
   "outputs": [],
   "source": []
  }
 ],
 "metadata": {
  "kernelspec": {
   "display_name": "Python 3 (ipykernel)",
   "language": "python",
   "name": "python3"
  },
  "language_info": {
   "codemirror_mode": {
    "name": "ipython",
    "version": 3
   },
   "file_extension": ".py",
   "mimetype": "text/x-python",
   "name": "python",
   "nbconvert_exporter": "python",
   "pygments_lexer": "ipython3",
   "version": "3.10.2"
  }
 },
 "nbformat": 4,
 "nbformat_minor": 5
}
