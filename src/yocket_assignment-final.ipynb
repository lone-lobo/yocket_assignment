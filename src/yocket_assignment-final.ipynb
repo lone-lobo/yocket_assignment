{
 "cells": [
  {
   "cell_type": "code",
   "execution_count": 1,
   "id": "ff687fb3",
   "metadata": {},
   "outputs": [],
   "source": [
    "import time\n",
    "from selenium import webdriver\n",
    "from random import randint, choice, uniform\n",
    "from selenium.webdriver.common.by import By\n",
    "from selenium.webdriver.common.keys import Keys\n",
    "from selenium.webdriver.support.ui import Select\n",
    "from selenium.webdriver.chrome.options import Options\n",
    "from selenium.webdriver.chrome.service import Service\n",
    "from selenium.webdriver.support.ui import WebDriverWait\n",
    "from webdriver_manager.chrome import ChromeDriverManager\n",
    "from selenium.webdriver.support import expected_conditions as EC\n",
    "from selenium.common.exceptions import TimeoutException, NoSuchElementException, NoSuchFrameException, ElementClickInterceptedException"
   ]
  },
  {
   "cell_type": "code",
   "execution_count": 46,
   "id": "aab714d8",
   "metadata": {},
   "outputs": [
    {
     "ename": "WebDriverException",
     "evalue": "Message: unknown error: Chrome failed to start: exited normally.\n  (chrome not reachable)\n  (The process started from chrome location C:\\Program Files (x86)\\Google\\Chrome\\Application\\chrome.exe is no longer running, so ChromeDriver is assuming that Chrome has crashed.)\nStacktrace:\nBacktrace:\n\tOrdinal0 [0x01087413+2389011]\n\tOrdinal0 [0x01019F61+1941345]\n\tOrdinal0 [0x00F0C658+837208]\n\tOrdinal0 [0x00F29854+956500]\n\tOrdinal0 [0x00F25C51+941137]\n\tOrdinal0 [0x00F58C80+1150080]\n\tOrdinal0 [0x00F588DA+1149146]\n\tOrdinal0 [0x00F53F66+1130342]\n\tOrdinal0 [0x00F2E546+976198]\n\tOrdinal0 [0x00F2F456+980054]\n\tGetHandleVerifier [0x01239632+1727522]\n\tGetHandleVerifier [0x012EBA4D+2457661]\n\tGetHandleVerifier [0x0111EB81+569713]\n\tGetHandleVerifier [0x0111DD76+566118]\n\tOrdinal0 [0x01020B2B+1968939]\n\tOrdinal0 [0x01025988+1989000]\n\tOrdinal0 [0x01025A75+1989237]\n\tOrdinal0 [0x0102ECB1+2026673]\n\tBaseThreadInitThunk [0x76D26A14+36]\n\tRtlInitializeExceptionChain [0x7758AB2F+143]\n\tRtlInitializeExceptionChain [0x7758AAFA+90]\n",
     "output_type": "error",
     "traceback": [
      "\u001b[1;31m---------------------------------------------------------------------------\u001b[0m",
      "\u001b[1;31mWebDriverException\u001b[0m                        Traceback (most recent call last)",
      "Input \u001b[1;32mIn [46]\u001b[0m, in \u001b[0;36m<cell line: 5>\u001b[1;34m()\u001b[0m\n\u001b[0;32m      3\u001b[0m options\u001b[38;5;241m.\u001b[39madd_argument(\u001b[38;5;124m\"\u001b[39m\u001b[38;5;124m--start-maximized\u001b[39m\u001b[38;5;124m\"\u001b[39m)\n\u001b[0;32m      4\u001b[0m \u001b[38;5;66;03m# driver = webdriver.Chrome(service=Service(ChromeDriverManager().install()),chrome_options=options) ##uncomment if starting freshly or if path to chromedriver isn't knwon\u001b[39;00m\n\u001b[1;32m----> 5\u001b[0m driver \u001b[38;5;241m=\u001b[39m \u001b[43mwebdriver\u001b[49m\u001b[38;5;241;43m.\u001b[39;49m\u001b[43mChrome\u001b[49m\u001b[43m(\u001b[49m\u001b[43mservice\u001b[49m\u001b[38;5;241;43m=\u001b[39;49m\u001b[43mService\u001b[49m\u001b[43m(\u001b[49m\u001b[38;5;124;43mr\u001b[39;49m\u001b[38;5;124;43m'\u001b[39;49m\u001b[38;5;124;43mC:\u001b[39;49m\u001b[38;5;124;43m\\\u001b[39;49m\u001b[38;5;124;43mUsers\u001b[39;49m\u001b[38;5;124;43m\\\u001b[39;49m\u001b[38;5;124;43mLiving Room\u001b[39;49m\u001b[38;5;124;43m\\\u001b[39;49m\u001b[38;5;124;43m.wdm\u001b[39;49m\u001b[38;5;124;43m\\\u001b[39;49m\u001b[38;5;124;43mdrivers\u001b[39;49m\u001b[38;5;124;43m\\\u001b[39;49m\u001b[38;5;124;43mchromedriver\u001b[39;49m\u001b[38;5;124;43m\\\u001b[39;49m\u001b[38;5;124;43mwin32\u001b[39;49m\u001b[38;5;124;43m\\\u001b[39;49m\u001b[38;5;124;43m100.0.4896.60\u001b[39;49m\u001b[38;5;124;43m\\\u001b[39;49m\u001b[38;5;124;43mchromedriver.exe\u001b[39;49m\u001b[38;5;124;43m'\u001b[39;49m\u001b[43m)\u001b[49m\u001b[43m,\u001b[49m\u001b[43moptions\u001b[49m\u001b[38;5;241;43m=\u001b[39;49m\u001b[43moptions\u001b[49m\u001b[43m)\u001b[49m\n",
      "File \u001b[1;32m~\\AppData\\Local\\Programs\\Python\\Python310\\lib\\site-packages\\selenium\\webdriver\\chrome\\webdriver.py:70\u001b[0m, in \u001b[0;36mWebDriver.__init__\u001b[1;34m(self, executable_path, port, options, service_args, desired_capabilities, service_log_path, chrome_options, service, keep_alive)\u001b[0m\n\u001b[0;32m     67\u001b[0m \u001b[38;5;28;01mif\u001b[39;00m \u001b[38;5;129;01mnot\u001b[39;00m service:\n\u001b[0;32m     68\u001b[0m     service \u001b[38;5;241m=\u001b[39m Service(executable_path, port, service_args, service_log_path)\n\u001b[1;32m---> 70\u001b[0m \u001b[38;5;28;43msuper\u001b[39;49m\u001b[43m(\u001b[49m\u001b[43mWebDriver\u001b[49m\u001b[43m,\u001b[49m\u001b[43m \u001b[49m\u001b[38;5;28;43mself\u001b[39;49m\u001b[43m)\u001b[49m\u001b[38;5;241;43m.\u001b[39;49m\u001b[38;5;21;43m__init__\u001b[39;49m\u001b[43m(\u001b[49m\u001b[43mDesiredCapabilities\u001b[49m\u001b[38;5;241;43m.\u001b[39;49m\u001b[43mCHROME\u001b[49m\u001b[43m[\u001b[49m\u001b[38;5;124;43m'\u001b[39;49m\u001b[38;5;124;43mbrowserName\u001b[39;49m\u001b[38;5;124;43m'\u001b[39;49m\u001b[43m]\u001b[49m\u001b[43m,\u001b[49m\u001b[43m \u001b[49m\u001b[38;5;124;43m\"\u001b[39;49m\u001b[38;5;124;43mgoog\u001b[39;49m\u001b[38;5;124;43m\"\u001b[39;49m\u001b[43m,\u001b[49m\n\u001b[0;32m     71\u001b[0m \u001b[43m                                \u001b[49m\u001b[43mport\u001b[49m\u001b[43m,\u001b[49m\u001b[43m \u001b[49m\u001b[43moptions\u001b[49m\u001b[43m,\u001b[49m\n\u001b[0;32m     72\u001b[0m \u001b[43m                                \u001b[49m\u001b[43mservice_args\u001b[49m\u001b[43m,\u001b[49m\u001b[43m \u001b[49m\u001b[43mdesired_capabilities\u001b[49m\u001b[43m,\u001b[49m\n\u001b[0;32m     73\u001b[0m \u001b[43m                                \u001b[49m\u001b[43mservice_log_path\u001b[49m\u001b[43m,\u001b[49m\u001b[43m \u001b[49m\u001b[43mservice\u001b[49m\u001b[43m,\u001b[49m\u001b[43m \u001b[49m\u001b[43mkeep_alive\u001b[49m\u001b[43m)\u001b[49m\n",
      "File \u001b[1;32m~\\AppData\\Local\\Programs\\Python\\Python310\\lib\\site-packages\\selenium\\webdriver\\chromium\\webdriver.py:93\u001b[0m, in \u001b[0;36mChromiumDriver.__init__\u001b[1;34m(self, browser_name, vendor_prefix, port, options, service_args, desired_capabilities, service_log_path, service, keep_alive)\u001b[0m\n\u001b[0;32m     90\u001b[0m \u001b[38;5;28mself\u001b[39m\u001b[38;5;241m.\u001b[39mservice\u001b[38;5;241m.\u001b[39mstart()\n\u001b[0;32m     92\u001b[0m \u001b[38;5;28;01mtry\u001b[39;00m:\n\u001b[1;32m---> 93\u001b[0m     \u001b[43mRemoteWebDriver\u001b[49m\u001b[38;5;241;43m.\u001b[39;49m\u001b[38;5;21;43m__init__\u001b[39;49m\u001b[43m(\u001b[49m\n\u001b[0;32m     94\u001b[0m \u001b[43m        \u001b[49m\u001b[38;5;28;43mself\u001b[39;49m\u001b[43m,\u001b[49m\n\u001b[0;32m     95\u001b[0m \u001b[43m        \u001b[49m\u001b[43mcommand_executor\u001b[49m\u001b[38;5;241;43m=\u001b[39;49m\u001b[43mChromiumRemoteConnection\u001b[49m\u001b[43m(\u001b[49m\n\u001b[0;32m     96\u001b[0m \u001b[43m            \u001b[49m\u001b[43mremote_server_addr\u001b[49m\u001b[38;5;241;43m=\u001b[39;49m\u001b[38;5;28;43mself\u001b[39;49m\u001b[38;5;241;43m.\u001b[39;49m\u001b[43mservice\u001b[49m\u001b[38;5;241;43m.\u001b[39;49m\u001b[43mservice_url\u001b[49m\u001b[43m,\u001b[49m\n\u001b[0;32m     97\u001b[0m \u001b[43m            \u001b[49m\u001b[43mbrowser_name\u001b[49m\u001b[38;5;241;43m=\u001b[39;49m\u001b[43mbrowser_name\u001b[49m\u001b[43m,\u001b[49m\u001b[43m \u001b[49m\u001b[43mvendor_prefix\u001b[49m\u001b[38;5;241;43m=\u001b[39;49m\u001b[43mvendor_prefix\u001b[49m\u001b[43m,\u001b[49m\n\u001b[0;32m     98\u001b[0m \u001b[43m            \u001b[49m\u001b[43mkeep_alive\u001b[49m\u001b[38;5;241;43m=\u001b[39;49m\u001b[43mkeep_alive\u001b[49m\u001b[43m,\u001b[49m\u001b[43m \u001b[49m\u001b[43mignore_proxy\u001b[49m\u001b[38;5;241;43m=\u001b[39;49m\u001b[43m_ignore_proxy\u001b[49m\u001b[43m)\u001b[49m\u001b[43m,\u001b[49m\n\u001b[0;32m     99\u001b[0m \u001b[43m        \u001b[49m\u001b[43moptions\u001b[49m\u001b[38;5;241;43m=\u001b[39;49m\u001b[43moptions\u001b[49m\u001b[43m)\u001b[49m\n\u001b[0;32m    100\u001b[0m \u001b[38;5;28;01mexcept\u001b[39;00m \u001b[38;5;167;01mException\u001b[39;00m:\n\u001b[0;32m    101\u001b[0m     \u001b[38;5;28mself\u001b[39m\u001b[38;5;241m.\u001b[39mquit()\n",
      "File \u001b[1;32m~\\AppData\\Local\\Programs\\Python\\Python310\\lib\\site-packages\\selenium\\webdriver\\remote\\webdriver.py:269\u001b[0m, in \u001b[0;36mWebDriver.__init__\u001b[1;34m(self, command_executor, desired_capabilities, browser_profile, proxy, keep_alive, file_detector, options)\u001b[0m\n\u001b[0;32m    267\u001b[0m \u001b[38;5;28mself\u001b[39m\u001b[38;5;241m.\u001b[39mfile_detector \u001b[38;5;241m=\u001b[39m file_detector \u001b[38;5;129;01mor\u001b[39;00m LocalFileDetector()\n\u001b[0;32m    268\u001b[0m \u001b[38;5;28mself\u001b[39m\u001b[38;5;241m.\u001b[39mstart_client()\n\u001b[1;32m--> 269\u001b[0m \u001b[38;5;28;43mself\u001b[39;49m\u001b[38;5;241;43m.\u001b[39;49m\u001b[43mstart_session\u001b[49m\u001b[43m(\u001b[49m\u001b[43mcapabilities\u001b[49m\u001b[43m,\u001b[49m\u001b[43m \u001b[49m\u001b[43mbrowser_profile\u001b[49m\u001b[43m)\u001b[49m\n",
      "File \u001b[1;32m~\\AppData\\Local\\Programs\\Python\\Python310\\lib\\site-packages\\selenium\\webdriver\\remote\\webdriver.py:360\u001b[0m, in \u001b[0;36mWebDriver.start_session\u001b[1;34m(self, capabilities, browser_profile)\u001b[0m\n\u001b[0;32m    357\u001b[0m w3c_caps \u001b[38;5;241m=\u001b[39m _make_w3c_caps(capabilities)\n\u001b[0;32m    358\u001b[0m parameters \u001b[38;5;241m=\u001b[39m {\u001b[38;5;124m\"\u001b[39m\u001b[38;5;124mcapabilities\u001b[39m\u001b[38;5;124m\"\u001b[39m: w3c_caps,\n\u001b[0;32m    359\u001b[0m               \u001b[38;5;124m\"\u001b[39m\u001b[38;5;124mdesiredCapabilities\u001b[39m\u001b[38;5;124m\"\u001b[39m: capabilities}\n\u001b[1;32m--> 360\u001b[0m response \u001b[38;5;241m=\u001b[39m \u001b[38;5;28;43mself\u001b[39;49m\u001b[38;5;241;43m.\u001b[39;49m\u001b[43mexecute\u001b[49m\u001b[43m(\u001b[49m\u001b[43mCommand\u001b[49m\u001b[38;5;241;43m.\u001b[39;49m\u001b[43mNEW_SESSION\u001b[49m\u001b[43m,\u001b[49m\u001b[43m \u001b[49m\u001b[43mparameters\u001b[49m\u001b[43m)\u001b[49m\n\u001b[0;32m    361\u001b[0m \u001b[38;5;28;01mif\u001b[39;00m \u001b[38;5;124m'\u001b[39m\u001b[38;5;124msessionId\u001b[39m\u001b[38;5;124m'\u001b[39m \u001b[38;5;129;01mnot\u001b[39;00m \u001b[38;5;129;01min\u001b[39;00m response:\n\u001b[0;32m    362\u001b[0m     response \u001b[38;5;241m=\u001b[39m response[\u001b[38;5;124m'\u001b[39m\u001b[38;5;124mvalue\u001b[39m\u001b[38;5;124m'\u001b[39m]\n",
      "File \u001b[1;32m~\\AppData\\Local\\Programs\\Python\\Python310\\lib\\site-packages\\selenium\\webdriver\\remote\\webdriver.py:425\u001b[0m, in \u001b[0;36mWebDriver.execute\u001b[1;34m(self, driver_command, params)\u001b[0m\n\u001b[0;32m    423\u001b[0m response \u001b[38;5;241m=\u001b[39m \u001b[38;5;28mself\u001b[39m\u001b[38;5;241m.\u001b[39mcommand_executor\u001b[38;5;241m.\u001b[39mexecute(driver_command, params)\n\u001b[0;32m    424\u001b[0m \u001b[38;5;28;01mif\u001b[39;00m response:\n\u001b[1;32m--> 425\u001b[0m     \u001b[38;5;28;43mself\u001b[39;49m\u001b[38;5;241;43m.\u001b[39;49m\u001b[43merror_handler\u001b[49m\u001b[38;5;241;43m.\u001b[39;49m\u001b[43mcheck_response\u001b[49m\u001b[43m(\u001b[49m\u001b[43mresponse\u001b[49m\u001b[43m)\u001b[49m\n\u001b[0;32m    426\u001b[0m     response[\u001b[38;5;124m'\u001b[39m\u001b[38;5;124mvalue\u001b[39m\u001b[38;5;124m'\u001b[39m] \u001b[38;5;241m=\u001b[39m \u001b[38;5;28mself\u001b[39m\u001b[38;5;241m.\u001b[39m_unwrap_value(\n\u001b[0;32m    427\u001b[0m         response\u001b[38;5;241m.\u001b[39mget(\u001b[38;5;124m'\u001b[39m\u001b[38;5;124mvalue\u001b[39m\u001b[38;5;124m'\u001b[39m, \u001b[38;5;28;01mNone\u001b[39;00m))\n\u001b[0;32m    428\u001b[0m     \u001b[38;5;28;01mreturn\u001b[39;00m response\n",
      "File \u001b[1;32m~\\AppData\\Local\\Programs\\Python\\Python310\\lib\\site-packages\\selenium\\webdriver\\remote\\errorhandler.py:247\u001b[0m, in \u001b[0;36mErrorHandler.check_response\u001b[1;34m(self, response)\u001b[0m\n\u001b[0;32m    245\u001b[0m         alert_text \u001b[38;5;241m=\u001b[39m value[\u001b[38;5;124m'\u001b[39m\u001b[38;5;124malert\u001b[39m\u001b[38;5;124m'\u001b[39m]\u001b[38;5;241m.\u001b[39mget(\u001b[38;5;124m'\u001b[39m\u001b[38;5;124mtext\u001b[39m\u001b[38;5;124m'\u001b[39m)\n\u001b[0;32m    246\u001b[0m     \u001b[38;5;28;01mraise\u001b[39;00m exception_class(message, screen, stacktrace, alert_text)  \u001b[38;5;66;03m# type: ignore[call-arg]  # mypy is not smart enough here\u001b[39;00m\n\u001b[1;32m--> 247\u001b[0m \u001b[38;5;28;01mraise\u001b[39;00m exception_class(message, screen, stacktrace)\n",
      "\u001b[1;31mWebDriverException\u001b[0m: Message: unknown error: Chrome failed to start: exited normally.\n  (chrome not reachable)\n  (The process started from chrome location C:\\Program Files (x86)\\Google\\Chrome\\Application\\chrome.exe is no longer running, so ChromeDriver is assuming that Chrome has crashed.)\nStacktrace:\nBacktrace:\n\tOrdinal0 [0x01087413+2389011]\n\tOrdinal0 [0x01019F61+1941345]\n\tOrdinal0 [0x00F0C658+837208]\n\tOrdinal0 [0x00F29854+956500]\n\tOrdinal0 [0x00F25C51+941137]\n\tOrdinal0 [0x00F58C80+1150080]\n\tOrdinal0 [0x00F588DA+1149146]\n\tOrdinal0 [0x00F53F66+1130342]\n\tOrdinal0 [0x00F2E546+976198]\n\tOrdinal0 [0x00F2F456+980054]\n\tGetHandleVerifier [0x01239632+1727522]\n\tGetHandleVerifier [0x012EBA4D+2457661]\n\tGetHandleVerifier [0x0111EB81+569713]\n\tGetHandleVerifier [0x0111DD76+566118]\n\tOrdinal0 [0x01020B2B+1968939]\n\tOrdinal0 [0x01025988+1989000]\n\tOrdinal0 [0x01025A75+1989237]\n\tOrdinal0 [0x0102ECB1+2026673]\n\tBaseThreadInitThunk [0x76D26A14+36]\n\tRtlInitializeExceptionChain [0x7758AB2F+143]\n\tRtlInitializeExceptionChain [0x7758AAFA+90]\n"
     ]
    }
   ],
   "source": [
    "options = Options()\n",
    "# chrome_options.add_argument(\"--headless\")    ##uncoment to use a headless chrome (fatser performance when compared to with headless)\n",
    "options.add_argument(\"--start-maximized\")\n",
    "# driver = webdriver.Chrome(service=Service(ChromeDriverManager().install()),chrome_options=options) ##uncomment if starting freshly or if path to chromedriver isn't knwon\n",
    "driver = webdriver.Chrome(service=Service(r'C:\\Users\\Living Room\\.wdm\\drivers\\chromedriver\\win32\\100.0.4896.60\\chromedriver.exe'),options=options)"
   ]
  },
  {
   "cell_type": "code",
   "execution_count": 283,
   "id": "dbe239b0",
   "metadata": {},
   "outputs": [],
   "source": [
    "def sign_up_for_yocket():\n",
    "    \"\"\" sign_up on the portal\n",
    "    \"\"\"\n",
    "    driver.get('https://yocket.com/login')"
   ]
  },
  {
   "cell_type": "code",
   "execution_count": 6,
   "id": "6c88eaa8",
   "metadata": {},
   "outputs": [],
   "source": [
    "def tap_and_select_random_option(base_locator,drop_locator_index,input_string=None):\n",
    "    \"\"\" tap on the base_locator to input a string onto input_box \n",
    "        and select a random option from the dropdown list containing\n",
    "        various options \n",
    "    input base_locator : locator to the input dropdownbox\n",
    "    input drop_locator_index : the drop_down_list_index \n",
    "                                {2-> for the first dropbox}\n",
    "    input input_string : string input which needs to be fed \n",
    "                        to the dropbox for loading the default values\n",
    "    returns: None\n",
    "    \"\"\"\n",
    "    try:\n",
    "        drop_down_locator = '#vs' + str(drop_locator_index) + '__listbox'\n",
    "        drop_list_locator = '#vs' + str(drop_locator_index) + '__combobox > div.vs__selected-options > input'\n",
    "        WebDriverWait(driver, 20).until(EC.element_to_be_clickable((By.CSS_SELECTOR, base_locator))).click()\n",
    "        if input_string :\n",
    "            driver.find_element(By.CSS_SELECTOR,drop_list_locator).clear()\n",
    "            driver.find_element(By.CSS_SELECTOR,drop_list_locator).send_keys(input_string)\n",
    "            time.sleep(2)\n",
    "        WebDriverWait(driver, 20).until(EC.visibility_of_element_located((By.CSS_SELECTOR, drop_down_locator)))\n",
    "        drop_down_options = get_all_options_from_dropdown(drop_down_locator)\n",
    "#         print(drop_down_options)                         ##uncomment for drop_down_options\n",
    "        random_value = randint(0, len(drop_down_options[0])-1)           \n",
    "        if input_string :\n",
    "            drop_down_options[0] = drop_down_options[0][:-1]\n",
    "            if len(drop_down_options[0]) <=2 :                         ## fail safe for the dropdown options having only 2 options\n",
    "                random_value = randint(0, len(drop_down_options[0])-1)\n",
    "            else : random_value = randint(0, len(drop_down_options[0])-2)  ## ensuring not selecting the half input text entered\n",
    "        vs_random_locator = '#vs' + str(drop_locator_index) + '__option-' + str(random_value)\n",
    "#         print(vs_random_locator)                         ##uncomment for random vs_combox_locator \n",
    "        WebDriverWait(driver, 20).until(EC.element_to_be_clickable((By.CSS_SELECTOR, vs_random_locator))).click()\n",
    "    except ElementClickInterceptedException:\n",
    "        print(\" cheking if chat_box is open for help \")\n",
    "        if close_the_chat_box() : \n",
    "            print( \" CLOSED SUCCESSFULLY\")\n",
    "            tap_and_select_random_option(base_locator,drop_locator_index,input_string=input_string)\n",
    "        pass"
   ]
  },
  {
   "cell_type": "code",
   "execution_count": 7,
   "id": "aa258d48",
   "metadata": {},
   "outputs": [],
   "source": [
    "def click_to_next_page(step=None):\n",
    "    \"\"\"Click's the next button \n",
    "        present at the bottom \n",
    "        of the page\n",
    "        returns:None\n",
    "    \"\"\"\n",
    "    try:\n",
    "        next_button = driver.find_element(By.CSS_SELECTOR, '#__layout > div > main > div > div > div > validationobserver > form > div.grid.grid-cols-2.gap-6.pt-12 > div.text-right > button')\n",
    "#         driver.execute_script(\"arguments[0].click();\", next_button)     ## could also be used inplace of below line\n",
    "        next_button.click()\n",
    "    except :\n",
    "        if( step == 1):                     # just a fail safe check \n",
    "            driver.refresh()\n",
    "            time.sleep(2)\n",
    "            tap_and_select_random_option(\"#country\",'1')\n",
    "        print(\"try completing the required mandatory fields on the page!, refreshing page\")"
   ]
  },
  {
   "cell_type": "code",
   "execution_count": 8,
   "id": "27522b6d",
   "metadata": {},
   "outputs": [],
   "source": [
    "def get_current_step(try_once = 1):\n",
    "    \"\"\"load's the curent step \n",
    "        number on a given page\n",
    "        input : max_tries untill it fails\n",
    "        returns  : int value of current step\n",
    "    \"\"\"\n",
    "    try :\n",
    "        try_once -=1\n",
    "        step_info = driver.find_element(By.CSS_SELECTOR , '#__layout > div > main > div > div > div > validationobserver > form > div:nth-child(1) > div.-mx-4.sm\\:-mx-12.border-b-2 > div > div.flex.justify-between.space-x-6.sm\\:mr-12.mt-4.lg\\:mt-0 > div.text-gray-700.hidden.sm\\:block')\n",
    "        print(f\"Currently at step -> {step_info.text.split(' ')[1]}\")\n",
    "        return int(step_info.text.split(' ')[1])\n",
    "    except NoSuchElementException :\n",
    "        print(\"not able to retrieve the step info , retrying after a second\")\n",
    "        time.sleep(1)\n",
    "        if try_once >= 0 : get_current_step(try_once)"
   ]
  },
  {
   "cell_type": "code",
   "execution_count": 10,
   "id": "d2d099e3",
   "metadata": {},
   "outputs": [],
   "source": [
    "def get_all_options_from_dropdown(locator):\n",
    "    \"\"\" Returns all the possible options \n",
    "        under the given dropdown \n",
    "    input : ccs_selector locator for the \n",
    "            required dropdown\n",
    "    output : list of options\n",
    "    \"\"\"\n",
    "    drop_down_options = []\n",
    "    drop_down_list = driver.find_element(By.CSS_SELECTOR, locator)\n",
    "    drop_down_options.append(drop_down_list.text.split('\\n'))\n",
    "#     print(drop_down_list.text)                             ##uncomment to print all the drop_down options\n",
    "    return drop_down_options"
   ]
  },
  {
   "cell_type": "code",
   "execution_count": 9,
   "id": "d36e02ab",
   "metadata": {},
   "outputs": [],
   "source": [
    "def go_back_a_step():\n",
    "    \"\"\"navigating back to the previous step\n",
    "    inputs : None\n",
    "    returns : None\n",
    "    \"\"\"\n",
    "    step_back = driver.find_element(By.CSS_SELECTOR , '#__layout > div > main > div > div > div > validationobserver > form > div.grid.grid-cols-2.gap-6.pt-12 > div:nth-child(1) > button')\n",
    "    step_back.click()"
   ]
  },
  {
   "cell_type": "code",
   "execution_count": 11,
   "id": "374bb273",
   "metadata": {},
   "outputs": [],
   "source": [
    "def close_the_chat_box():\n",
    "    \"\"\" tries to minimise the chot_box window\n",
    "    popped up on the left bottom and returns control\n",
    "    back to the  main page\n",
    "    inputs : None\n",
    "    return : True is chatbox is closed\n",
    "    \"\"\"\n",
    "    try:\n",
    "        driver.switch_to.frame(\"siqiframe\")\n",
    "        # driver.switch_to.default_content()\n",
    "        WebDriverWait(driver, 20).until(EC.element_to_be_clickable((By.CSS_SELECTOR, 'body > div.win_close.sqico-larrow'))).click()\n",
    "        time.sleep(2)\n",
    "        driver.switch_to.default_content()\n",
    "        print(\"FOUND THE CHAT BOX INTERCEPTING THE MAIN PAGE\")\n",
    "        return True\n",
    "    except (NoSuchFrameException,NoSuchElementException,ElementClickInterceptedException):\n",
    "        driver.switch_to.default_content()\n",
    "        print(\"No such frame , or chat box is colsed already!\")\n",
    "        pass"
   ]
  },
  {
   "cell_type": "code",
   "execution_count": 12,
   "id": "7b535322",
   "metadata": {},
   "outputs": [],
   "source": [
    "def update_the_score(locator, score):\n",
    "    \"\"\" waits for the locator input box to be clickable\n",
    "        and clear's any previous data entered , enters the data-> score\n",
    "        input : locator to the input box\n",
    "        input : score to be entered into input box\n",
    "        return : None\"\"\"\n",
    "    try:\n",
    "        WebDriverWait(driver, 20).until(EC.element_to_be_clickable((By.CSS_SELECTOR, locator))).send_keys(Keys.CONTROL + \"a\")\n",
    "        WebDriverWait(driver, 20).until(EC.element_to_be_clickable((By.CSS_SELECTOR, locator))).send_keys(Keys.DELETE)\n",
    "        WebDriverWait(driver, 2).until(EC.element_to_be_clickable((By.CSS_SELECTOR, locator))).send_keys(score)\n",
    "    except :\n",
    "        print(\"Locator issue!, check the locator asssigned\")"
   ]
  },
  {
   "cell_type": "code",
   "execution_count": 13,
   "id": "75bc048f",
   "metadata": {},
   "outputs": [],
   "source": [
    "def check_if_proper_page(desired_step):\n",
    "    \"\"\"checks if the current page is on given desired step \n",
    "    input : desired_step number \n",
    "    returns : true if current_step and desired step are same\"\"\"\n",
    "    if get_current_step() == desired_step :\n",
    "        print(\"Got into proper page for desired step\")\n",
    "        return True\n",
    "    elif get_current_step() > desired_step: \n",
    "        go_back_a_step()\n",
    "        print(\"Stepping a page back\")\n",
    "        check_if_proper_page(desired_step)\n",
    "    else :\n",
    "        print(\"Please complete the mandatory information over current page before navigating to next\")\n",
    "        return False"
   ]
  },
  {
   "cell_type": "code",
   "execution_count": 14,
   "id": "f976e9db",
   "metadata": {},
   "outputs": [],
   "source": [
    "def first_page(max_tries=3):\n",
    "    \"\"\" first page actions\n",
    "    input : maximum_tries before it fails\n",
    "    returns : true if successful\n",
    "    \"\"\"\n",
    "    try:\n",
    "        max_tries -= 1\n",
    "        check_if_proper_page(1)\n",
    "        tap_and_select_random_option(\"#country\",'1')\n",
    "        print(\"Selected random country\")\n",
    "        close_the_chat_box()\n",
    "        tap_and_select_random_option(\"#area_of_study\",'2','eng')\n",
    "        print(\"Selected random aread_of_study\")\n",
    "        close_the_chat_box()\n",
    "        click_to_next_page()\n",
    "        print(\"navigated to next page\")\n",
    "        return True\n",
    "    except TimeoutException :\n",
    "        driver.get(base_page)   ## at first fail tries to reload the page\n",
    "        if (max_tries >= 0):\n",
    "            first_page(max_tries)\n",
    "        else :\n",
    "            print(\"Maximum tries reached for first page \")"
   ]
  },
  {
   "cell_type": "code",
   "execution_count": 16,
   "id": "c7c50217",
   "metadata": {},
   "outputs": [],
   "source": [
    "def second_page(max_tries=2):\n",
    "    \"\"\" second page actions\n",
    "    input : maximum_tries before it fails\n",
    "    returns : true if successful\n",
    "    \"\"\"\n",
    "    try:\n",
    "        max_tries -= 1\n",
    "        if not check_if_proper_page(2):\n",
    "            print(\"Filing out the first step first !\")\n",
    "            first_page()\n",
    "        tap_and_select_random_option(\"#college\",'4','tech')\n",
    "        print(\"Selected random college\")\n",
    "        tap_and_select_random_option(\"#major\",'6','Elec')\n",
    "        print(\"Selected random major_of_study\")\n",
    "        driver.find_element(By.CSS_SELECTOR,'#marks').clear()\n",
    "        random_cgpa = round(uniform(5,10), 2)\n",
    "        update_the_score('#marks',random_cgpa)\n",
    "        close_the_chat_box()\n",
    "        click_to_next_page()\n",
    "        print(\"clicked on next button \")\n",
    "        return True\n",
    "    except TimeoutException :\n",
    "        driver.refresh()\n",
    "        time.sleep(2)\n",
    "        if (max_tries >= 0):\n",
    "            second_page(max_tries)\n",
    "        else :\n",
    "            print(\"Maximum tries reached for second page \")"
   ]
  },
  {
   "cell_type": "code",
   "execution_count": 15,
   "id": "61e91501",
   "metadata": {},
   "outputs": [],
   "source": [
    "def fill_the_english_test_scores():\n",
    "    \"\"\" fills the scores on the second page by randomly\n",
    "        selecting the english tests\n",
    "        input : None\n",
    "        returns : None\n",
    "        \"\"\"\n",
    "    english_test_name, english_locator_index = choice(list(exam_dict.items()))\n",
    "    english_locator = ' #__layout > div > main > div > div > div > validationobserver > form > div:nth-child(1) > div:nth-child(2) > div > div.col-span-2.sm\\:col-span-1.sm\\:pr-4 > div.grid.grid-cols-3.sm\\:grid-cols-3.gap-2.justify-center.items-center.pt-2 > div:nth-child(' + str(english_locator_index) + ') > div' \n",
    "    print(english_test_name, english_locator)\n",
    "    WebDriverWait(driver, 20).until(EC.element_to_be_clickable((By.CSS_SELECTOR, english_locator))).click()\n",
    "    english_score = 0\n",
    "    input_value_locator = '#'+ english_test_name + '_overall_score'\n",
    "    print(input_value_locator)\n",
    "    if( english_test_name == 'toefl') :\n",
    "        english_score = randint(60,120)\n",
    "    elif english_test_name == 'pte' :\n",
    "        english_score = randint(45,90)\n",
    "    elif english_test_name == 'ielts' :\n",
    "        english_score = randint(5,9)\n",
    "    else  :\n",
    "        print( \"select the proper exam section ! \")\n",
    "    update_the_score(input_value_locator, english_score)"
   ]
  },
  {
   "cell_type": "code",
   "execution_count": 17,
   "id": "0c6231f4",
   "metadata": {},
   "outputs": [],
   "source": [
    "def fill_the_aptitude_test_scores():\n",
    "    \"\"\" fills the scores for randomly selected aptitude \n",
    "        tests \n",
    "        inputs : None\n",
    "        return : None \n",
    "    \"\"\"\n",
    "    aptitude_test_name, aptitude_locator_index = choice(list(aptitude_dict.items()))\n",
    "    aptitude_locator = '#__layout > div > main > div > div > div > validationobserver > form > div:nth-child(1) > div:nth-child(2) > div > div.col-span-2.sm\\:col-span-1.sm\\:pl-8 > div.pt-2 > div.grid.grid-cols-3.md\\:grid-cols-3.gap-2.justify-center.items-center > div:nth-child(' + str(aptitude_locator_index) + ') > div'\n",
    "    print(aptitude_test_name, aptitude_locator)\n",
    "    WebDriverWait(driver, 20).until(EC.element_to_be_clickable((By.CSS_SELECTOR, aptitude_locator))).click()\n",
    "    if( aptitude_test_name == 'gre') :\n",
    "#         aptitude_score = [randint(85,170),randint(85,170),randint(3,6)]\n",
    "        update_the_score('#verbal_score', randint(130,170))\n",
    "        update_the_score('#quant_score', randint(130,170))\n",
    "        update_the_score('#awa_score', randint(3,6))\n",
    "    elif aptitude_test_name == 'gmat' :\n",
    "        update_the_score('#total_gmat_score', randint(450,800))\n",
    "    elif aptitude_test_name == 'none' :\n",
    "        aptitude_score = None\n",
    "    else  :\n",
    "        print( \"select the proper exam section ! \")"
   ]
  },
  {
   "cell_type": "code",
   "execution_count": 18,
   "id": "d0288b5a",
   "metadata": {},
   "outputs": [],
   "source": [
    "root_page = 'https://yocket.com'\n",
    "base_page  = 'https://yocket.com/college-finder/masters'"
   ]
  },
  {
   "cell_type": "code",
   "execution_count": 19,
   "id": "cd79e942",
   "metadata": {},
   "outputs": [],
   "source": [
    "exam_dict = {\n",
    "    'ielts' : '2',\n",
    "    'pte' : '3',\n",
    "    'toefl' : '1'\n",
    "    }"
   ]
  },
  {
   "cell_type": "code",
   "execution_count": 20,
   "id": "7f9f4863",
   "metadata": {},
   "outputs": [],
   "source": [
    "aptitude_dict = {\n",
    "    'gre' : '1',\n",
    "    'gmat' : '2',\n",
    "    'none' : '3'\n",
    "}"
   ]
  },
  {
   "cell_type": "code",
   "execution_count": 21,
   "id": "1647df9c",
   "metadata": {},
   "outputs": [],
   "source": [
    "def third_page(max_tries=1):\n",
    "    \"\"\" third page actions\n",
    "    input : maximum_tries before it fails\n",
    "    returns : true if successful\n",
    "    \"\"\"\n",
    "    try:\n",
    "        max_tries -= 1\n",
    "        if not check_if_proper_page(3):\n",
    "            print(\"Filing out the second step first !\")\n",
    "            second_page()\n",
    "        fill_the_english_test_scores()\n",
    "        print(\"Filled random scores for random english test\")\n",
    "        fill_the_aptitude_test_scores()\n",
    "        print(\"Filled random aptitude scores\")\n",
    "        close_the_chat_box()\n",
    "        click_to_next_page()\n",
    "        print(\"clicked on next button \")\n",
    "        return True\n",
    "    except TimeoutException :\n",
    "        driver.refresh()\n",
    "        time.sleep(2)\n",
    "        if (max_tries >= 0):\n",
    "            third_page(max_tries)\n",
    "        else :\n",
    "            print(\"Maximum tries reached for third page \")"
   ]
  },
  {
   "cell_type": "code",
   "execution_count": 22,
   "id": "0e304d7c",
   "metadata": {},
   "outputs": [],
   "source": [
    "def fourth_page(max_tries=1):\n",
    "    \"\"\" fourth page actions\n",
    "    input : maximum_tries before it fails\n",
    "    returns : true if successful\n",
    "    \"\"\"\n",
    "    try:\n",
    "        max_tries -= 1\n",
    "        if not check_if_proper_page(4):\n",
    "            print(\"Filing out the third step first !\")\n",
    "            third_page()\n",
    "        update_the_score('#work_exp',randint(5,50))\n",
    "        print(\"entered random scores for work experience\")\n",
    "        update_the_score('#project',randint(0,10))\n",
    "        print(\"entered random project's done\")\n",
    "        close_the_chat_box()\n",
    "        click_to_next_page()\n",
    "        print(\"clicked on next button \")\n",
    "        return True\n",
    "    except TimeoutException :\n",
    "        driver.refresh()\n",
    "        time.sleep(2)\n",
    "        if (max_tries >= 0):\n",
    "            fourth_page(max_tries)\n",
    "        else :\n",
    "            print(\"Maximum tries reached for fourth page \")"
   ]
  },
  {
   "cell_type": "code",
   "execution_count": 23,
   "id": "1d930ddc",
   "metadata": {},
   "outputs": [],
   "source": [
    "relevance_dict = {\n",
    "    'relevance' : '0',\n",
    "    'cost' : '1'\n",
    "}"
   ]
  },
  {
   "cell_type": "code",
   "execution_count": 24,
   "id": "c01257f6",
   "metadata": {},
   "outputs": [],
   "source": [
    "def get_list_of_all_universities(locator):\n",
    "    \"\"\"get all the univeristies from the locator\n",
    "    input : locator to the result \n",
    "    return : list of universities\n",
    "    \"\"\"\n",
    "    output = []\n",
    "    universities = driver.find_element(By.CSS_SELECTOR, locator)\n",
    "#     print(universities.text)\n",
    "    raw_university = universities.text.split('Shortlist')[1:]\n",
    "    for r in raw_university:\n",
    "        output.append(r.split('\\n')[1:])\n",
    "    return output"
   ]
  },
  {
   "cell_type": "code",
   "execution_count": 25,
   "id": "45429738",
   "metadata": {},
   "outputs": [],
   "source": [
    "def check_if_results_zero(locator):\n",
    "    \"\"\"\n",
    "    Check if we have zero results for given \n",
    "    combinations of inputs\n",
    "    returns : True if no universities were matched\n",
    "              Flase if we have matching universities\n",
    "    \"\"\"\n",
    "    try : \n",
    "        result = driver.find_element(By.CSS_SELECTOR, locator)\n",
    "        if result.text == 'Uh-oh! That spell didn’t work': return True\n",
    "        else: return False\n",
    "    except :\n",
    "        print ('seomthing wrong with the locator')"
   ]
  },
  {
   "cell_type": "code",
   "execution_count": 26,
   "id": "88dfd5a9",
   "metadata": {},
   "outputs": [],
   "source": [
    "def scrape_on_50_opacity():\n",
    "    \"\"\"scraping on the output window where the results are hidden \n",
    "         return : ambitiious universites if we have , else  target universities\n",
    "         \"\"\"\n",
    "    try :\n",
    "        if driver.find_element(By.CSS_SELECTOR, '#__layout > div > main > div > div > div > p').text == \"Ambitious Universities (0)\" :\n",
    "    #         error_message = driver.find_element(By.CSS_SELECTOR,'#__layout > div > main > div > div > div > div.text-center.lg\\:text-left.text-gray-700 > div > p.text-xl.text-gray-900.text-opacity-75.font-semibold').text\n",
    "            print(\"Our search couldn't help find a better match ! , here is the message \")\n",
    "    #         print(error_message)\n",
    "            print(\"Sorry, we couldn’t find universities under the ambitious category that match your profile.\"\n",
    "                  \"Try our Premium plans (spells) and get expert guidance! . checking for any Target Universities\"\n",
    "                  \"\\nHere's your other options! TARGET Universities\")\n",
    "        else :\n",
    "            val  = Select(driver.find_element(By.CSS_SELECTOR, '#__layout > div > main > div > div > div > div:nth-child(5) > div.flex.justify-between.items-center > div > select'))\n",
    "            val.select_by_value(relevance_dict['cost'])\n",
    "            ambitious_universities = get_list_of_all_universities('#__layout > div > main > div > div > div > div:nth-child(5) > div.grid.grid-cols-1.sm\\:grid-cols-2.lg\\:grid-cols-3.gap-4.sm\\:gap-6')\n",
    "            print(ambitious_universities)\n",
    "            return ambitious_universities\n",
    "        target_universities = get_list_of_all_universities('#__layout > div > main > div > div > div > div:nth-child(7) > div')\n",
    "    #     safe_universities = get_list_of_all_universities('#__layout > div > main > div > div > div > div:nth-child(9) > div > div')\n",
    "        safe_universities = get_list_of_all_universities('#__layout > div > main > div > div > div > div:nth-child(9) > div')\n",
    "\n",
    "        print(target_universities)\n",
    "        print(\"\\nHere's your other options! Safe Universities\")\n",
    "        print(safe_universities)\n",
    "        return target_universities\n",
    "    except NoSuchElementException :"
   ]
  },
  {
   "cell_type": "code",
   "execution_count": 45,
   "id": "2ad3f4c7",
   "metadata": {},
   "outputs": [],
   "source": [
    "def final_result(): \n",
    "    \"\"\" append all the results found\"\"\"\n",
    "    if check_if_results_zero('#__layout > div > main > div > div > div > div > p.text-2xl.md\\:text-3xl.text-gray-900.text-opacity-75.font-semibold'):\n",
    "        print(\"FOUND ZERO RESULTS , PROBABLY YOU NEED TO RECONSIDER YOUR CARRER OPTION\")\n",
    "        pass\n",
    "    else : \n",
    "        Ideal_match = scrape_on_50_opacity()\n",
    "        print(\"\\n============================================\\nIDEAL UNIVERSITY FOUND IS: {} \\nLOCATED in {}\\nMAJOR in {}\\nFEE {}\".format (Ideal_match[0][0],Ideal_match[0][1],Ideal_match[0][2],Ideal_match[0][3]))"
   ]
  },
  {
   "cell_type": "code",
   "execution_count": 29,
   "id": "a741927c",
   "metadata": {},
   "outputs": [],
   "source": [
    "def get_to_final_page():\n",
    "    \"\"\" stiching all together\n",
    "    \"\"\"\n",
    "    driver.get(base_page)\n",
    "    first_page()\n",
    "    second_page()\n",
    "    third_page()\n",
    "    fourth_page()"
   ]
  },
  {
   "cell_type": "code",
   "execution_count": 44,
   "id": "7a4d235d",
   "metadata": {},
   "outputs": [
    {
     "name": "stdout",
     "output_type": "stream",
     "text": [
      "Currently at step -> 1\n",
      "Got into proper page for desired step\n",
      "Selected random country\n",
      "No such frame , or chat box is colsed already!\n",
      "Selected random aread_of_study\n",
      "No such frame , or chat box is colsed already!\n",
      "navigated to next page\n",
      "Currently at step -> 2\n",
      "Got into proper page for desired step\n",
      "Selected random college\n",
      "Selected random major_of_study\n",
      "No such frame , or chat box is colsed already!\n",
      "clicked on next button \n",
      "Currently at step -> 3\n",
      "Got into proper page for desired step\n",
      "toefl  #__layout > div > main > div > div > div > validationobserver > form > div:nth-child(1) > div:nth-child(2) > div > div.col-span-2.sm\\:col-span-1.sm\\:pr-4 > div.grid.grid-cols-3.sm\\:grid-cols-3.gap-2.justify-center.items-center.pt-2 > div:nth-child(1) > div\n",
      "#toefl_overall_score\n",
      "Filled random scores for random english test\n",
      "none #__layout > div > main > div > div > div > validationobserver > form > div:nth-child(1) > div:nth-child(2) > div > div.col-span-2.sm\\:col-span-1.sm\\:pl-8 > div.pt-2 > div.grid.grid-cols-3.md\\:grid-cols-3.gap-2.justify-center.items-center > div:nth-child(3) > div\n",
      "Filled random aptitude scores\n",
      "No such frame , or chat box is colsed already!\n",
      "clicked on next button \n",
      "Currently at step -> 4\n",
      "Got into proper page for desired step\n",
      "entered random scores for work experience\n",
      "entered random project's done\n",
      "No such frame , or chat box is colsed already!\n",
      "clicked on next button \n",
      "seomthing wrong with the locator\n",
      "[['University of Auckland', 'New Zealand', 'MS Energy', 'NZ$46,752/year', '12 months', 'See all admits', 'Get Guidance', ''], ['Monash University, Melbourne', 'Australia', 'MS Civil Engineering', 'A$48,000/year', '12 months', 'See all admits', 'Get Guidance', ''], ['The University of Queensland', 'Australia', 'Masters Sustainable Energy', 'A$67,680/year', '18 months', 'See all admits', 'Get Guidance']]\n",
      "\n",
      "============================================\n",
      " IDEAL UNIVERSITY FOUND IS University of Auckland \n",
      "LOCATED in New Zealand\n",
      "MAJOR in MS Energy\n",
      "FEE NZ$46,752/year\n"
     ]
    }
   ],
   "source": [
    "get_to_final_page()\n",
    "time.sleep(1)\n",
    "final_result()"
   ]
  },
  {
   "cell_type": "code",
   "execution_count": null,
   "id": "b0078729",
   "metadata": {},
   "outputs": [],
   "source": []
  },
  {
   "cell_type": "markdown",
   "id": "6f618746",
   "metadata": {},
   "source": [
    "### experimental "
   ]
  },
  {
   "cell_type": "code",
   "execution_count": 436,
   "id": "08f2ec39",
   "metadata": {},
   "outputs": [],
   "source": [
    "def scroll_to_top_of_page():\n",
    "    top = driver.find_element(By.CSS_SELECTOR, '#__layout > div > div.w-full > div > main > div > div > div > div.pb-5.text-center.lg\\:text-left > div')\n",
    "    driver.execute_script(\"return arguments[0].scrollIntoView(true);\", top)"
   ]
  },
  {
   "cell_type": "code",
   "execution_count": 438,
   "id": "8cfc7eae",
   "metadata": {},
   "outputs": [],
   "source": [
    "scroll_to_top_of_page()"
   ]
  },
  {
   "cell_type": "code",
   "execution_count": 31,
   "id": "8cab9adf",
   "metadata": {},
   "outputs": [
    {
     "data": {
      "text/plain": [
       "'Ambitious Universities (6)'"
      ]
     },
     "execution_count": 31,
     "metadata": {},
     "output_type": "execute_result"
    }
   ],
   "source": [
    "driver.find_element(By.CSS_SELECTOR,'#__layout > div > main > div > div > div > p').text"
   ]
  },
  {
   "cell_type": "code",
   "execution_count": 34,
   "id": "1a454b9d",
   "metadata": {},
   "outputs": [
    {
     "name": "stdout",
     "output_type": "stream",
     "text": [
      "[['Brunel University', 'United Kingdom', 'MSc Advanced Electronic and Electrical Engineering', '£20,450/year', '12 months', 'See all admits', 'Get Guidance', ''], ['University of Sheffield', 'United Kingdom', 'MSc(Eng) Advanced Electrical Machines, Power Electronics and Drives', '£24,950/year', '12 months', 'See all admits', 'Get Guidance', ''], ['University of Birmingham', 'United Kingdom', 'MSc Electrical Power Systems', '£25,740/year', '12 months', 'See all admits', 'Get Guidance']]\n"
     ]
    },
    {
     "data": {
      "text/plain": [
       "[['Brunel University',\n",
       "  'United Kingdom',\n",
       "  'MSc Advanced Electronic and Electrical Engineering',\n",
       "  '£20,450/year',\n",
       "  '12 months',\n",
       "  'See all admits',\n",
       "  'Get Guidance',\n",
       "  ''],\n",
       " ['University of Sheffield',\n",
       "  'United Kingdom',\n",
       "  'MSc(Eng) Advanced Electrical Machines, Power Electronics and Drives',\n",
       "  '£24,950/year',\n",
       "  '12 months',\n",
       "  'See all admits',\n",
       "  'Get Guidance',\n",
       "  ''],\n",
       " ['University of Birmingham',\n",
       "  'United Kingdom',\n",
       "  'MSc Electrical Power Systems',\n",
       "  '£25,740/year',\n",
       "  '12 months',\n",
       "  'See all admits',\n",
       "  'Get Guidance']]"
      ]
     },
     "execution_count": 34,
     "metadata": {},
     "output_type": "execute_result"
    }
   ],
   "source": [
    "scrape_on_50_opacity()"
   ]
  },
  {
   "cell_type": "code",
   "execution_count": 35,
   "id": "40148737",
   "metadata": {},
   "outputs": [
    {
     "name": "stdout",
     "output_type": "stream",
     "text": [
      "seomthing wrong with the locator\n",
      "[['Brunel University', 'United Kingdom', 'MSc Advanced Electronic and Electrical Engineering', '£20,450/year', '12 months', 'See all admits', 'Get Guidance', ''], ['University of Sheffield', 'United Kingdom', 'MSc(Eng) Advanced Electrical Machines, Power Electronics and Drives', '£24,950/year', '12 months', 'See all admits', 'Get Guidance', ''], ['University of Birmingham', 'United Kingdom', 'MSc Electrical Power Systems', '£25,740/year', '12 months', 'See all admits', 'Get Guidance']]\n",
      " IDEAL UNIVERSITY FOUND IS United Kingdom\n"
     ]
    }
   ],
   "source": [
    "final_result()"
   ]
  },
  {
   "cell_type": "code",
   "execution_count": null,
   "id": "4f366bc6",
   "metadata": {},
   "outputs": [],
   "source": []
  }
 ],
 "metadata": {
  "kernelspec": {
   "display_name": "Python 3 (ipykernel)",
   "language": "python",
   "name": "python3"
  },
  "language_info": {
   "codemirror_mode": {
    "name": "ipython",
    "version": 3
   },
   "file_extension": ".py",
   "mimetype": "text/x-python",
   "name": "python",
   "nbconvert_exporter": "python",
   "pygments_lexer": "ipython3",
   "version": "3.10.2"
  }
 },
 "nbformat": 4,
 "nbformat_minor": 5
}
