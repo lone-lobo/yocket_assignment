{
 "cells": [
  {
   "cell_type": "code",
   "execution_count": 475,
   "id": "ff687fb3",
   "metadata": {},
   "outputs": [],
   "source": [
    "import time\n",
    "from selenium import webdriver\n",
    "from random import randint, choice, uniform\n",
    "from selenium.webdriver.common.by import By\n",
    "from selenium.webdriver.common.keys import Keys\n",
    "from selenium.webdriver.support.ui import Select\n",
    "from selenium.webdriver.chrome.service import Service\n",
    "from selenium.webdriver.support.ui import WebDriverWait\n",
    "from webdriver_manager.chrome import ChromeDriverManager\n",
    "from selenium.webdriver.support import expected_conditions as EC\n",
    "from selenium.common.exceptions import NoSuchElementException, NoSuchFrameException, ElementClickInterceptedException"
   ]
  },
  {
   "cell_type": "code",
   "execution_count": 476,
   "id": "f30a31e7",
   "metadata": {},
   "outputs": [
    {
     "name": "stderr",
     "output_type": "stream",
     "text": [
      "\n",
      "\n",
      "====== WebDriver manager ======\n",
      "Current google-chrome version is 100.0.4896\n",
      "Get LATEST chromedriver version for 100.0.4896 google-chrome\n",
      "Driver [C:\\Users\\Living Room\\.wdm\\drivers\\chromedriver\\win32\\100.0.4896.60\\chromedriver.exe] found in cache\n"
     ]
    }
   ],
   "source": [
    "driver = webdriver.Chrome(service=Service(ChromeDriverManager().install()))"
   ]
  },
  {
   "cell_type": "code",
   "execution_count": null,
   "id": "dbe239b0",
   "metadata": {},
   "outputs": [],
   "source": [
    "def sign_up_for_yocket():\n",
    "    driver.get('https://yocket.com/login')"
   ]
  },
  {
   "cell_type": "code",
   "execution_count": 478,
   "id": "aa258d48",
   "metadata": {},
   "outputs": [],
   "source": [
    "def click_to_next_page():\n",
    "    try:\n",
    "        next_button = driver.find_element(By.CSS_SELECTOR, '#__layout > div > main > div > div > div > validationobserver > form > div.grid.grid-cols-2.gap-6.pt-12 > div.text-right > button')\n",
    "#         driver.execute_script(\"arguments[0].click();\", next_button)\n",
    "        next_button.click()\n",
    "    except :\n",
    "        print(\"try completing the required mandatory fields on the page!\")"
   ]
  },
  {
   "cell_type": "code",
   "execution_count": 479,
   "id": "27522b6d",
   "metadata": {},
   "outputs": [],
   "source": [
    "def get_current_step():\n",
    "    step_info = driver.find_element(By.CSS_SELECTOR , '#__layout > div > main > div > div > div > validationobserver > form > div:nth-child(1) > div.-mx-4.sm\\:-mx-12.border-b-2 > div > div.flex.justify-between.space-x-6.sm\\:mr-12.mt-4.lg\\:mt-0 > div.text-gray-700.hidden.sm\\:block')\n",
    "    print(f\"Currently at step -> {step_info.text.split(' ')[1]}\")\n",
    "    return int(step_info.text.split(' ')[1])"
   ]
  },
  {
   "cell_type": "code",
   "execution_count": 477,
   "id": "d0288b5a",
   "metadata": {},
   "outputs": [],
   "source": [
    "root_page = 'https://yocket.com'\n",
    "base_page  = 'https://yocket.com/college-finder/masters'\n",
    "driver.get(base_page)"
   ]
  },
  {
   "cell_type": "code",
   "execution_count": 480,
   "id": "1b8580a9",
   "metadata": {},
   "outputs": [
    {
     "name": "stdout",
     "output_type": "stream",
     "text": [
      "Currently at step -> 1\n"
     ]
    },
    {
     "data": {
      "text/plain": [
       "1"
      ]
     },
     "execution_count": 480,
     "metadata": {},
     "output_type": "execute_result"
    }
   ],
   "source": [
    "get_current_step()"
   ]
  },
  {
   "cell_type": "code",
   "execution_count": 5,
   "id": "a74d4608",
   "metadata": {},
   "outputs": [],
   "source": [
    "country_selector = driver.find_element(By.CSS_SELECTOR,'#country')"
   ]
  },
  {
   "cell_type": "code",
   "execution_count": 157,
   "id": "a0476e9c",
   "metadata": {},
   "outputs": [],
   "source": [
    "\n",
    "WebDriverWait(driver, 20).until(EC.element_to_be_clickable((By.CSS_SELECTOR, \"#country\"))).click()"
   ]
  },
  {
   "cell_type": "code",
   "execution_count": 27,
   "id": "66e55a12",
   "metadata": {},
   "outputs": [],
   "source": [
    " drop_down_list = driver.find_element(By.CSS_SELECTOR,'#vs1__listbox')"
   ]
  },
  {
   "cell_type": "code",
   "execution_count": 28,
   "id": "fc9ff8e3",
   "metadata": {},
   "outputs": [
    {
     "name": "stdout",
     "output_type": "stream",
     "text": [
      "United States\n",
      "Canada\n",
      "Australia & New Zealand\n",
      "United Kingdom\n",
      "European Union\n"
     ]
    }
   ],
   "source": [
    "print(drop_down_list.text)"
   ]
  },
  {
   "cell_type": "code",
   "execution_count": 180,
   "id": "35d7cc05",
   "metadata": {},
   "outputs": [],
   "source": [
    "def get_all_options_from_dropdown(locator):\n",
    "    \"\"\" Returns all the possible options under the given dropdown \n",
    "    input : ccs_selector locator for the required dropdown\n",
    "    output : list of options\n",
    "    \"\"\"\n",
    "    drop_down_options = []\n",
    "    drop_down_list = driver.find_element(By.CSS_SELECTOR, locator)\n",
    "    drop_down_options.append(drop_down_list.text.split('\\n'))\n",
    "    print(drop_down_list.text)\n",
    "    return drop_down_options"
   ]
  },
  {
   "cell_type": "code",
   "execution_count": 484,
   "id": "e8b86282",
   "metadata": {},
   "outputs": [
    {
     "ename": "TimeoutException",
     "evalue": "Message: \nStacktrace:\nBacktrace:\n\tOrdinal0 [0x01087413+2389011]\n\tOrdinal0 [0x01019F61+1941345]\n\tOrdinal0 [0x00F0C658+837208]\n\tOrdinal0 [0x00F391DD+1020381]\n\tOrdinal0 [0x00F3949B+1021083]\n\tOrdinal0 [0x00F66032+1204274]\n\tOrdinal0 [0x00F54194+1130900]\n\tOrdinal0 [0x00F64302+1196802]\n\tOrdinal0 [0x00F53F66+1130342]\n\tOrdinal0 [0x00F2E546+976198]\n\tOrdinal0 [0x00F2F456+980054]\n\tGetHandleVerifier [0x01239632+1727522]\n\tGetHandleVerifier [0x012EBA4D+2457661]\n\tGetHandleVerifier [0x0111EB81+569713]\n\tGetHandleVerifier [0x0111DD76+566118]\n\tOrdinal0 [0x01020B2B+1968939]\n\tOrdinal0 [0x01025988+1989000]\n\tOrdinal0 [0x01025A75+1989237]\n\tOrdinal0 [0x0102ECB1+2026673]\n\tBaseThreadInitThunk [0x76D26A14+36]\n\tRtlInitializeExceptionChain [0x7758AB2F+143]\n\tRtlInitializeExceptionChain [0x7758AAFA+90]\n",
     "output_type": "error",
     "traceback": [
      "\u001b[1;31m---------------------------------------------------------------------------\u001b[0m",
      "\u001b[1;31mTimeoutException\u001b[0m                          Traceback (most recent call last)",
      "Input \u001b[1;32mIn [484]\u001b[0m, in \u001b[0;36m<cell line: 1>\u001b[1;34m()\u001b[0m\n\u001b[1;32m----> 1\u001b[0m \u001b[43mWebDriverWait\u001b[49m\u001b[43m(\u001b[49m\u001b[43mdriver\u001b[49m\u001b[43m,\u001b[49m\u001b[43m \u001b[49m\u001b[38;5;241;43m20\u001b[39;49m\u001b[43m)\u001b[49m\u001b[38;5;241;43m.\u001b[39;49m\u001b[43muntil\u001b[49m\u001b[43m(\u001b[49m\u001b[43mEC\u001b[49m\u001b[38;5;241;43m.\u001b[39;49m\u001b[43melement_to_be_clickable\u001b[49m\u001b[43m(\u001b[49m\u001b[43m(\u001b[49m\u001b[43mBy\u001b[49m\u001b[38;5;241;43m.\u001b[39;49m\u001b[43mCSS_SELECTOR\u001b[49m\u001b[43m,\u001b[49m\u001b[43m \u001b[49m\u001b[38;5;124;43m\"\u001b[39;49m\u001b[38;5;124;43m#country\u001b[39;49m\u001b[38;5;124;43m\"\u001b[39;49m\u001b[43m)\u001b[49m\u001b[43m)\u001b[49m\u001b[43m)\u001b[49m\u001b[38;5;241m.\u001b[39mclick()\n\u001b[0;32m      2\u001b[0m \u001b[38;5;66;03m# time.sleep(1)\u001b[39;00m\n\u001b[0;32m      3\u001b[0m WebDriverWait(driver, \u001b[38;5;241m20\u001b[39m)\u001b[38;5;241m.\u001b[39muntil(EC\u001b[38;5;241m.\u001b[39mvisibility_of_element_located((By\u001b[38;5;241m.\u001b[39mCSS_SELECTOR, \u001b[38;5;124m\"\u001b[39m\u001b[38;5;124m#vs1__listbox\u001b[39m\u001b[38;5;124m\"\u001b[39m)))\n",
      "File \u001b[1;32m~\\AppData\\Local\\Programs\\Python\\Python310\\lib\\site-packages\\selenium\\webdriver\\support\\wait.py:89\u001b[0m, in \u001b[0;36mWebDriverWait.until\u001b[1;34m(self, method, message)\u001b[0m\n\u001b[0;32m     87\u001b[0m     \u001b[38;5;28;01mif\u001b[39;00m time\u001b[38;5;241m.\u001b[39mtime() \u001b[38;5;241m>\u001b[39m end_time:\n\u001b[0;32m     88\u001b[0m         \u001b[38;5;28;01mbreak\u001b[39;00m\n\u001b[1;32m---> 89\u001b[0m \u001b[38;5;28;01mraise\u001b[39;00m TimeoutException(message, screen, stacktrace)\n",
      "\u001b[1;31mTimeoutException\u001b[0m: Message: \nStacktrace:\nBacktrace:\n\tOrdinal0 [0x01087413+2389011]\n\tOrdinal0 [0x01019F61+1941345]\n\tOrdinal0 [0x00F0C658+837208]\n\tOrdinal0 [0x00F391DD+1020381]\n\tOrdinal0 [0x00F3949B+1021083]\n\tOrdinal0 [0x00F66032+1204274]\n\tOrdinal0 [0x00F54194+1130900]\n\tOrdinal0 [0x00F64302+1196802]\n\tOrdinal0 [0x00F53F66+1130342]\n\tOrdinal0 [0x00F2E546+976198]\n\tOrdinal0 [0x00F2F456+980054]\n\tGetHandleVerifier [0x01239632+1727522]\n\tGetHandleVerifier [0x012EBA4D+2457661]\n\tGetHandleVerifier [0x0111EB81+569713]\n\tGetHandleVerifier [0x0111DD76+566118]\n\tOrdinal0 [0x01020B2B+1968939]\n\tOrdinal0 [0x01025988+1989000]\n\tOrdinal0 [0x01025A75+1989237]\n\tOrdinal0 [0x0102ECB1+2026673]\n\tBaseThreadInitThunk [0x76D26A14+36]\n\tRtlInitializeExceptionChain [0x7758AB2F+143]\n\tRtlInitializeExceptionChain [0x7758AAFA+90]\n"
     ]
    }
   ],
   "source": [
    "\n",
    "WebDriverWait(driver, 20).until(EC.element_to_be_clickable((By.CSS_SELECTOR, \"#country\"))).click()\n",
    "# time.sleep(1)\n",
    "WebDriverWait(driver, 20).until(EC.visibility_of_element_located((By.CSS_SELECTOR, \"#vs1__listbox\")))\n",
    "country_options = get_all_options_from_dropdown('#vs1__listbox')"
   ]
  },
  {
   "cell_type": "code",
   "execution_count": 182,
   "id": "08a5c4cb",
   "metadata": {},
   "outputs": [
    {
     "name": "stdout",
     "output_type": "stream",
     "text": [
      "[['United States', 'Canada', 'Australia & New Zealand', 'United Kingdom', 'European Union']]\n"
     ]
    }
   ],
   "source": [
    "print(country_options)"
   ]
  },
  {
   "cell_type": "code",
   "execution_count": 470,
   "id": "e4006dd1",
   "metadata": {},
   "outputs": [
    {
     "name": "stdout",
     "output_type": "stream",
     "text": [
      "Data Science and Business Intelligence\n",
      "Data Processing Technology\n"
     ]
    }
   ],
   "source": [
    "WebDriverWait(driver, 20).until(EC.element_to_be_clickable((By.CSS_SELECTOR, \"#area_of_study\"))).click()\n",
    "driver.find_element(By.CSS_SELECTOR,'#vs2__combobox > div.vs__selected-options > input').clear()\n",
    "driver.find_element(By.CSS_SELECTOR,'#vs2__combobox > div.vs__selected-options > input').send_keys('data')\n",
    "# time.sleep(2)\n",
    "WebDriverWait(driver, 20).until(EC.visibility_of_element_located((By.CSS_SELECTOR, \"#vs2__listbox\")))\n",
    "stream_options = get_all_options_from_dropdown('#vs2__listbox')"
   ]
  },
  {
   "cell_type": "code",
   "execution_count": 122,
   "id": "429f919a",
   "metadata": {},
   "outputs": [
    {
     "name": "stdout",
     "output_type": "stream",
     "text": [
      "[['Data Science and Business Intelligence', 'Data Processing Technology', 'Big Data Analytics Applied Modelling and Quantitative Methods Non Thesis', 'Big Data Analytic and Information Technology']]\n"
     ]
    }
   ],
   "source": [
    "print(stream_options)"
   ]
  },
  {
   "cell_type": "code",
   "execution_count": 468,
   "id": "bf805865",
   "metadata": {},
   "outputs": [
    {
     "name": "stdout",
     "output_type": "stream",
     "text": [
      "#vs1__option-3\n"
     ]
    }
   ],
   "source": [
    "\n",
    "# print(len(country_options[0]))\n",
    "random_value = randint(0, len(country_options[0])-1)\n",
    "vs_1_locator = '#vs1__option-' + str(random_value)\n",
    "print(vs_1_locator)"
   ]
  },
  {
   "cell_type": "code",
   "execution_count": 471,
   "id": "d48a535f",
   "metadata": {},
   "outputs": [
    {
     "name": "stdout",
     "output_type": "stream",
     "text": [
      "#vs2__option-0\n"
     ]
    }
   ],
   "source": [
    "\n",
    "# print(len(country_options[0]))\n",
    "random_value = randint(0, len(stream_options[0])-1)\n",
    "vs_2_locator = '#vs2__option-' + str(random_value)\n",
    "print(vs_2_locator)"
   ]
  },
  {
   "cell_type": "code",
   "execution_count": 469,
   "id": "6dd81db6",
   "metadata": {},
   "outputs": [],
   "source": [
    "WebDriverWait(driver, 20).until(EC.element_to_be_clickable((By.CSS_SELECTOR, vs_1_locator))).click()"
   ]
  },
  {
   "cell_type": "code",
   "execution_count": 472,
   "id": "a070cc47",
   "metadata": {},
   "outputs": [],
   "source": [
    "WebDriverWait(driver, 20).until(EC.element_to_be_clickable((By.CSS_SELECTOR, vs_2_locator))).click()"
   ]
  },
  {
   "cell_type": "code",
   "execution_count": 166,
   "id": "72a8b7c7",
   "metadata": {},
   "outputs": [],
   "source": [
    "WebDriverWait(driver, 20).until(EC.element_to_be_clickable((By.CSS_SELECTOR, 'body > div'))).click()"
   ]
  },
  {
   "cell_type": "code",
   "execution_count": 168,
   "id": "6507465b",
   "metadata": {},
   "outputs": [
    {
     "ename": "AttributeError",
     "evalue": "'WebDriver' object has no attribute 'switchTo'",
     "output_type": "error",
     "traceback": [
      "\u001b[1;31m---------------------------------------------------------------------------\u001b[0m",
      "\u001b[1;31mAttributeError\u001b[0m                            Traceback (most recent call last)",
      "Input \u001b[1;32mIn [168]\u001b[0m, in \u001b[0;36m<cell line: 1>\u001b[1;34m()\u001b[0m\n\u001b[1;32m----> 1\u001b[0m \u001b[43mdriver\u001b[49m\u001b[38;5;241;43m.\u001b[39;49m\u001b[43mswitchTo\u001b[49m()\u001b[38;5;241m.\u001b[39malert()\u001b[38;5;241m.\u001b[39mdismiss()\n",
      "\u001b[1;31mAttributeError\u001b[0m: 'WebDriver' object has no attribute 'switchTo'"
     ]
    }
   ],
   "source": [
    "driver.switchTo().alert().dismiss();"
   ]
  },
  {
   "cell_type": "code",
   "execution_count": 473,
   "id": "034d9ac2",
   "metadata": {},
   "outputs": [
    {
     "name": "stdout",
     "output_type": "stream",
     "text": [
      "try completing the required mandatory fields on the page!\n"
     ]
    }
   ],
   "source": [
    "click_to_next_page()\n"
   ]
  },
  {
   "cell_type": "markdown",
   "id": "20b2b972",
   "metadata": {},
   "source": [
    "## second page"
   ]
  },
  {
   "cell_type": "code",
   "execution_count": 215,
   "id": "59760c2f",
   "metadata": {},
   "outputs": [
    {
     "name": "stdout",
     "output_type": "stream",
     "text": [
      "Apex International Institute of Technology\n",
      "Bal Krishna Institute of Technology\n",
      "Gurukul Institute of Engineering & Technology\n",
      "Maharishi Arvind College of Engineering & Technology\n",
      "Maharishi Arvind International Institute of Technology\n",
      "Modi Institute of Technology\n",
      "Sardar Patel College of Technology\n",
      "Shri Balaji Institute of Technology & Mgmt.\n",
      "University Institute of Technology\n",
      "Lakshmi Narain College of Technology\n",
      "Tech\n"
     ]
    }
   ],
   "source": [
    "WebDriverWait(driver, 20).until(EC.element_to_be_clickable((By.CSS_SELECTOR, \"#college\"))).click()\n",
    "driver.find_element(By.CSS_SELECTOR,'#vs4__combobox > div.vs__selected-options > input').clear()\n",
    "driver.find_element(By.CSS_SELECTOR,'#vs4__combobox > div.vs__selected-options > input').send_keys('Tech')\n",
    "# driver.find_element(By.CSS_SELECTOR,'#vs4__combobox > div.vs__selected-options > input').clear()\n",
    "time.sleep(2)\n",
    "WebDriverWait(driver, 20).until(EC.visibility_of_element_located((By.CSS_SELECTOR, \"#vs4__listbox\")))\n",
    "college_options = get_all_options_from_dropdown('#vs4__listbox')"
   ]
  },
  {
   "cell_type": "code",
   "execution_count": 218,
   "id": "24eae0c7",
   "metadata": {},
   "outputs": [
    {
     "name": "stdout",
     "output_type": "stream",
     "text": [
      "['Apex International Institute of Technology', 'Bal Krishna Institute of Technology', 'Gurukul Institute of Engineering & Technology', 'Maharishi Arvind College of Engineering & Technology', 'Maharishi Arvind International Institute of Technology', 'Modi Institute of Technology', 'Sardar Patel College of Technology', 'Shri Balaji Institute of Technology & Mgmt.', 'University Institute of Technology', 'Lakshmi Narain College of Technology']\n"
     ]
    }
   ],
   "source": [
    "print(college_options[0][:-1])"
   ]
  },
  {
   "cell_type": "code",
   "execution_count": 219,
   "id": "1d1e5cf1",
   "metadata": {},
   "outputs": [
    {
     "name": "stdout",
     "output_type": "stream",
     "text": [
      "#vs4__option-5\n"
     ]
    }
   ],
   "source": [
    "\n",
    "# print(len(country_options[0]))\n",
    "random_value = randint(0, len(college_options[0])-2) ## index -1 due to the fact the entered key is present at last\n",
    "vs_4_locator = '#vs4__option-' + str(random_value)\n",
    "print(vs_4_locator)"
   ]
  },
  {
   "cell_type": "code",
   "execution_count": 220,
   "id": "b6682d8a",
   "metadata": {},
   "outputs": [],
   "source": [
    "WebDriverWait(driver, 20).until(EC.element_to_be_clickable((By.CSS_SELECTOR, vs_4_locator))).click()"
   ]
  },
  {
   "cell_type": "code",
   "execution_count": null,
   "id": "46db4c65",
   "metadata": {},
   "outputs": [],
   "source": [
    "#major"
   ]
  },
  {
   "cell_type": "code",
   "execution_count": 221,
   "id": "787870e0",
   "metadata": {},
   "outputs": [
    {
     "name": "stdout",
     "output_type": "stream",
     "text": [
      "Computer Networking and Telecommunications\n",
      "Computer Science Electronics\n",
      "Electrical and Computer Engineering\n",
      "Electrical and Electronics Engineering\n",
      "Electrical and Power Engineering\n",
      "Electrical Electronics and Communications Engineering\n",
      "Electrical Engineering\n",
      "Electrician\n",
      "Electronics and Communication Engineering\n",
      "Electronics Engineering\n",
      "Telecommunication Engineering\n",
      "Telecommunications Engineering and Technology\n"
     ]
    }
   ],
   "source": [
    "WebDriverWait(driver, 20).until(EC.element_to_be_clickable((By.CSS_SELECTOR, \"#major\"))).click()\n",
    "driver.find_element(By.CSS_SELECTOR,'#vs6__combobox > div.vs__selected-options > input').clear()\n",
    "driver.find_element(By.CSS_SELECTOR,'#vs6__combobox > div.vs__selected-options > input').send_keys('Elec')\n",
    "# driver.find_element(By.CSS_SELECTOR,'#vs4__combobox > div.vs__selected-options > input').clear()\n",
    "time.sleep(2)\n",
    "WebDriverWait(driver, 20).until(EC.visibility_of_element_located((By.CSS_SELECTOR, \"#vs6__listbox\")))\n",
    "major_options = get_all_options_from_dropdown('#vs6__listbox')"
   ]
  },
  {
   "cell_type": "code",
   "execution_count": 222,
   "id": "d8e2cd45",
   "metadata": {},
   "outputs": [
    {
     "name": "stdout",
     "output_type": "stream",
     "text": [
      "#vs6__option-5\n"
     ]
    }
   ],
   "source": [
    "\n",
    "# print(len(country_options[0]))\n",
    "random_value = randint(0, len(major_options[0])-1) \n",
    "vs_6_locator = '#vs6__option-' + str(random_value)\n",
    "print(vs_6_locator)"
   ]
  },
  {
   "cell_type": "code",
   "execution_count": 223,
   "id": "ddd2c41d",
   "metadata": {},
   "outputs": [],
   "source": [
    "WebDriverWait(driver, 20).until(EC.element_to_be_clickable((By.CSS_SELECTOR, vs_6_locator))).click()"
   ]
  },
  {
   "cell_type": "code",
   "execution_count": null,
   "id": "2b268c77",
   "metadata": {},
   "outputs": [],
   "source": []
  },
  {
   "cell_type": "code",
   "execution_count": 255,
   "id": "667934e3",
   "metadata": {},
   "outputs": [],
   "source": []
  },
  {
   "cell_type": "code",
   "execution_count": 264,
   "id": "40eb1f4e",
   "metadata": {},
   "outputs": [],
   "source": [
    "driver.find_element(By.CSS_SELECTOR,'#marks').clear()\n",
    "# WebDriverWait(driver, 20).until(EC.element_to_be_clickable((By.CSS_SELECTOR, \"#marks\"))).click()\n",
    "# driver.find_element(By.CSS_SELECTOR,'#marks').clear()\n",
    "random_cgpa = round(uniform(5,10), 2)\n",
    "WebDriverWait(driver, 20).until(EC.element_to_be_clickable((By.CSS_SELECTOR, \"#marks\"))).send_keys(Keys.CONTROL + \"a\")\n",
    "WebDriverWait(driver, 20).until(EC.element_to_be_clickable((By.CSS_SELECTOR, \"#marks\"))).send_keys(Keys.DELETE)\n",
    "WebDriverWait(driver, 20).until(EC.element_to_be_clickable((By.CSS_SELECTOR, \"#marks\"))).send_keys(random_cgpa)"
   ]
  },
  {
   "cell_type": "code",
   "execution_count": 265,
   "id": "66fa47b5",
   "metadata": {},
   "outputs": [],
   "source": [
    "click_to_next_page()"
   ]
  },
  {
   "cell_type": "code",
   "execution_count": null,
   "id": "6f655ac6",
   "metadata": {},
   "outputs": [],
   "source": []
  },
  {
   "cell_type": "markdown",
   "id": "b8d0260b",
   "metadata": {},
   "source": [
    "## Third Page"
   ]
  },
  {
   "cell_type": "code",
   "execution_count": 306,
   "id": "f4cf341f",
   "metadata": {},
   "outputs": [],
   "source": [
    "\n",
    "exam_dict = {\n",
    "    'ielts' : ' #__layout > div > main > div > div > div > validationobserver > form > div:nth-child(1) > div:nth-child(2) > div > div.col-span-2.sm\\:col-span-1.sm\\:pr-4 > div.grid.grid-cols-3.sm\\:grid-cols-3.gap-2.justify-center.items-center.pt-2 > div:nth-child(2) > div',\n",
    "    'pte' : '#__layout > div > main > div > div > div > validationobserver > form > div:nth-child(1) > div:nth-child(2) > div > div.col-span-2.sm\\:col-span-1.sm\\:pr-4 > div.grid.grid-cols-3.sm\\:grid-cols-3.gap-2.justify-center.items-center.pt-2 > div:nth-child(3) > div',\n",
    "    'toefl' : '#__layout > div > main > div > div > div > validationobserver > form > div:nth-child(1) > div:nth-child(2) > div > div.col-span-2.sm\\:col-span-1.sm\\:pr-4 > div.grid.grid-cols-3.sm\\:grid-cols-3.gap-2.justify-center.items-center.pt-2 > div:nth-child(1) > div'\n",
    "    }"
   ]
  },
  {
   "cell_type": "code",
   "execution_count": 305,
   "id": "67e7c035",
   "metadata": {},
   "outputs": [],
   "source": [
    "WebDriverWait(driver, 20).until(EC.element_to_be_clickable((By.CSS_SELECTOR, exam_dict['pte']))).click()"
   ]
  },
  {
   "cell_type": "code",
   "execution_count": 287,
   "id": "e66f8735",
   "metadata": {},
   "outputs": [
    {
     "name": "stdout",
     "output_type": "stream",
     "text": [
      "teofl #__layout > div > main > div > div > div > validationobserver > form > div:nth-child(1) > div:nth-child(2) > div > div.col-span-2.sm\\:col-span-1.sm\\:pr-4 > div.grid.grid-cols-3.sm\\:grid-cols-3.gap-2.justify-center.items-center.pt-2 > div:nth-child(1) > div\n"
     ]
    }
   ],
   "source": []
  },
  {
   "cell_type": "code",
   "execution_count": 330,
   "id": "6e02fda0",
   "metadata": {},
   "outputs": [],
   "source": [
    "def fill_the_english_test_scores():\n",
    "    english_test_name, english_locator = choice(list(exam_dict.items()))\n",
    "    print(english_test_name, english_locator)\n",
    "    WebDriverWait(driver, 20).until(EC.element_to_be_clickable((By.CSS_SELECTOR, english_locator))).click()\n",
    "    english_score = 0\n",
    "    input_value_locator = '#'+ english_test_name + '_overall_score'\n",
    "    print(input_value_locator)\n",
    "    if( english_test_name == 'toefl') :\n",
    "        english_score = randint(60,120)\n",
    "    elif english_test_name == 'pte' :\n",
    "        english_score = randint(45,90)\n",
    "    elif english_test_name == 'ielts' :\n",
    "        english_score = randint(5,9)\n",
    "    else  :\n",
    "        print( \"select the proper exam section ! \")\n",
    "    WebDriverWait(driver, 20).until(EC.element_to_be_clickable((By.CSS_SELECTOR, input_value_locator))).send_keys(Keys.CONTROL + \"a\")\n",
    "    WebDriverWait(driver, 20).until(EC.element_to_be_clickable((By.CSS_SELECTOR, input_value_locator))).send_keys(Keys.DELETE)\n",
    "    WebDriverWait(driver, 2).until(EC.element_to_be_clickable((By.CSS_SELECTOR, input_value_locator))).send_keys(english_score)"
   ]
  },
  {
   "cell_type": "code",
   "execution_count": 335,
   "id": "adab5f2b",
   "metadata": {},
   "outputs": [
    {
     "name": "stdout",
     "output_type": "stream",
     "text": [
      "toefl #__layout > div > main > div > div > div > validationobserver > form > div:nth-child(1) > div:nth-child(2) > div > div.col-span-2.sm\\:col-span-1.sm\\:pr-4 > div.grid.grid-cols-3.sm\\:grid-cols-3.gap-2.justify-center.items-center.pt-2 > div:nth-child(1) > div\n",
      "#toefl_overall_score\n"
     ]
    }
   ],
   "source": [
    "fill_the_english_test_scores()"
   ]
  },
  {
   "cell_type": "code",
   "execution_count": 337,
   "id": "b3195ea6",
   "metadata": {},
   "outputs": [],
   "source": [
    "aptitude_dict = {\n",
    "    'gre' : '#__layout > div > main > div > div > div > validationobserver > form > div:nth-child(1) > div:nth-child(2) > div > div.col-span-2.sm\\:col-span-1.sm\\:pl-8 > div.pt-2 > div.grid.grid-cols-3.md\\:grid-cols-3.gap-2.justify-center.items-center > div:nth-child(1) > div',\n",
    "    'gmat' : '#__layout > div > main > div > div > div > validationobserver > form > div:nth-child(1) > div:nth-child(2) > div > div.col-span-2.sm\\:col-span-1.sm\\:pl-8 > div.pt-2 > div.grid.grid-cols-3.md\\:grid-cols-3.gap-2.justify-center.items-center > div:nth-child(2) > div',\n",
    "    'none' :  '#__layout > div > main > div > div > div > validationobserver > form > div:nth-child(1) > div:nth-child(2) > div > div.col-span-2.sm\\:col-span-1.sm\\:pl-8 > div.pt-2 > div.grid.grid-cols-3.md\\:grid-cols-3.gap-2.justify-center.items-center > div:nth-child(3) > div'\n",
    "}"
   ]
  },
  {
   "cell_type": "code",
   "execution_count": 362,
   "id": "b4301dd7",
   "metadata": {},
   "outputs": [],
   "source": [
    "def update_the_score(locator, score):\n",
    "    try:\n",
    "        WebDriverWait(driver, 20).until(EC.element_to_be_clickable((By.CSS_SELECTOR, locator))).send_keys(Keys.CONTROL + \"a\")\n",
    "        WebDriverWait(driver, 20).until(EC.element_to_be_clickable((By.CSS_SELECTOR, locator))).send_keys(Keys.DELETE)\n",
    "        WebDriverWait(driver, 2).until(EC.element_to_be_clickable((By.CSS_SELECTOR, locator))).send_keys(score)\n",
    "    except :\n",
    "        print(\"Locator issue!\")\n",
    "\n",
    "\n",
    "def fill_the_aptitude_test_scores():\n",
    "    aptitude_test_name, aptitude_locator = choice(list(aptitude_dict.items()))\n",
    "    print(aptitude_test_name, aptitude_locator)\n",
    "    WebDriverWait(driver, 20).until(EC.element_to_be_clickable((By.CSS_SELECTOR, aptitude_locator))).click()\n",
    "    if( aptitude_test_name == 'gre') :\n",
    "#         aptitude_score = [randint(85,170),randint(85,170),randint(3,6)]\n",
    "        update_the_score('#verbal_score', randint(130,170))\n",
    "        update_the_score('#quant_score', randint(130,170))\n",
    "        update_the_score('#awa_score', randint(3,6))\n",
    "    elif aptitude_test_name == 'gmat' :\n",
    "        update_the_score('#total_gmat_score', randint(450,800))\n",
    "    elif aptitude_test_name == 'none' :\n",
    "        aptitude_score = None\n",
    "    else  :\n",
    "        print( \"select the proper exam section ! \")\n",
    "    \n",
    "#     WebDriverWait(driver, 20).until(EC.element_to_be_clickable((By.CSS_SELECTOR, input_value_locator))).send_keys(Keys.CONTROL + \"a\")\n",
    "#     WebDriverWait(driver, 20).until(EC.element_to_be_clickable((By.CSS_SELECTOR, input_value_locator))).send_keys(Keys.DELETE)\n",
    "#     WebDriverWait(driver, 2).until(EC.element_to_be_clickable((By.CSS_SELECTOR, input_value_locator))).send_keys(aptitude_score)"
   ]
  },
  {
   "cell_type": "code",
   "execution_count": 343,
   "id": "3e27ab7b",
   "metadata": {},
   "outputs": [
    {
     "name": "stdout",
     "output_type": "stream",
     "text": [
      "148\n"
     ]
    }
   ],
   "source": [
    "l= [randint(85,170),randint(85,170),randint(3,6)]\n",
    "print(l[0])"
   ]
  },
  {
   "cell_type": "code",
   "execution_count": 366,
   "id": "f8d9a320",
   "metadata": {},
   "outputs": [
    {
     "name": "stdout",
     "output_type": "stream",
     "text": [
      "gmat #__layout > div > main > div > div > div > validationobserver > form > div:nth-child(1) > div:nth-child(2) > div > div.col-span-2.sm\\:col-span-1.sm\\:pl-8 > div.pt-2 > div.grid.grid-cols-3.md\\:grid-cols-3.gap-2.justify-center.items-center > div:nth-child(2) > div\n"
     ]
    }
   ],
   "source": [
    "fill_the_aptitude_test_scores()"
   ]
  },
  {
   "cell_type": "code",
   "execution_count": 367,
   "id": "fd010ca2",
   "metadata": {},
   "outputs": [],
   "source": [
    "click_to_next_page()"
   ]
  },
  {
   "cell_type": "code",
   "execution_count": null,
   "id": "ff0b1edf",
   "metadata": {},
   "outputs": [],
   "source": []
  },
  {
   "cell_type": "markdown",
   "id": "68a0ee98",
   "metadata": {},
   "source": [
    "## fourth page"
   ]
  },
  {
   "cell_type": "code",
   "execution_count": null,
   "id": "cd33dabd",
   "metadata": {},
   "outputs": [],
   "source": []
  },
  {
   "cell_type": "code",
   "execution_count": 369,
   "id": "e007a81b",
   "metadata": {},
   "outputs": [],
   "source": [
    "update_the_score('#work_exp',randint(5,50))"
   ]
  },
  {
   "cell_type": "code",
   "execution_count": 370,
   "id": "eeeecad2",
   "metadata": {},
   "outputs": [],
   "source": [
    "update_the_score('#project',randint(0,10))"
   ]
  },
  {
   "cell_type": "code",
   "execution_count": null,
   "id": "216d7042",
   "metadata": {},
   "outputs": [],
   "source": [
    "#__layout > div > main > div > div > div > validationobserver > form > div:nth-child(1) > div.grid.grid-cols-3.gap-6.mt-8 > div:nth-child(2) > div"
   ]
  },
  {
   "cell_type": "code",
   "execution_count": 371,
   "id": "7931b18f",
   "metadata": {},
   "outputs": [],
   "source": [
    "ele = driver.find_element(By.CSS_SELECTOR, '#__layout > div > main > div > div > div > validationobserver > form > div:nth-child(1) > div.grid.grid-cols-3.gap-6.mt-8 > div:nth-child(2) > div')"
   ]
  },
  {
   "cell_type": "code",
   "execution_count": 376,
   "id": "1c59ed60",
   "metadata": {},
   "outputs": [],
   "source": [
    "click_to_next_page()"
   ]
  },
  {
   "cell_type": "code",
   "execution_count": null,
   "id": "1d81bccf",
   "metadata": {},
   "outputs": [],
   "source": []
  },
  {
   "cell_type": "markdown",
   "id": "45d16c7a",
   "metadata": {},
   "source": [
    "## Final page"
   ]
  },
  {
   "cell_type": "code",
   "execution_count": 384,
   "id": "b494649e",
   "metadata": {},
   "outputs": [],
   "source": [
    "relevance_dict = {\n",
    "    'relevance' : '0',\n",
    "    'cost' : '1'\n",
    "}"
   ]
  },
  {
   "cell_type": "code",
   "execution_count": 387,
   "id": "1ae5b3c0",
   "metadata": {},
   "outputs": [],
   "source": [
    "\n",
    "val  = Select(driver.find_element(By.CSS_SELECTOR, '#__layout > div > div.w-full > div > main > div > div > div > div:nth-child(4) > div.flex.justify-between.items-center > div > select'))\n",
    "val.select_by_value(relevance_dict['cost'])            "
   ]
  },
  {
   "cell_type": "code",
   "execution_count": 418,
   "id": "95022f25",
   "metadata": {},
   "outputs": [],
   "source": [
    "def get_list_of_all_universities(locator):\n",
    "    output = []\n",
    "    universities = driver.find_element(By.CSS_SELECTOR, locator)\n",
    "    raw_university = universities.text.split('Shortlist')[1:]\n",
    "    for r in raw_university:\n",
    "        output.append(r.split('\\n')[1:])\n",
    "    return output"
   ]
  },
  {
   "cell_type": "code",
   "execution_count": 419,
   "id": "34e14c90",
   "metadata": {},
   "outputs": [],
   "source": [
    "ambitious_universities = get_list_of_all_universities('#__layout > div > div.w-full > div > main > div > div > div > div:nth-child(4) > div.grid.grid-cols-1.sm\\:grid-cols-2.lg\\:grid-cols-3.gap-4.sm\\:gap-6')\n",
    "target_universities = get_list_of_all_universities('#__layout > div > div.w-full > div > main > div > div > div > div:nth-child(6) > div')\n",
    "safe_universities = get_list_of_all_universities('#__layout > div > div.w-full > div > main > div > div > div > div:nth-child(8) > div')"
   ]
  },
  {
   "cell_type": "code",
   "execution_count": 420,
   "id": "7091107f",
   "metadata": {},
   "outputs": [
    {
     "name": "stdout",
     "output_type": "stream",
     "text": [
      "[['Michigan State University', 'United States', 'Masters Envir & Social System Modeling', 'See all admits', 'Get Guidance', ''], ['University of Iowa', 'United States', 'Masters Informatics', 'See all admits', 'Get Guidance', ''], ['University of Alabama at Birmingham', 'United States', 'MS Computer Science', '$31,980/year', '18 months', 'See all admits', 'Get Guidance', ''], ['Florida State University', 'United States', 'MS Information Technology', '$37,621/year', '18 months', 'See all admits', 'Get Guidance', ''], ['Rutgers University-New Brunswick', 'United States', 'MS Computer Science - Massive Data Analytics', '$37,680/year', '24 months', 'See all admits', 'Get Guidance', ''], ['Rutgers University, Newark', 'United States', 'MS Computer Science', '$38,534/year', '12 months', 'See all admits', 'Get Guidance', ''], ['Rutgers University-New Brunswick', 'United States', 'MS Computer Science', '$46,656/year', '24 months', 'See all admits', 'Get Guidance', ''], ['University of Cincinnati', 'United States', 'MS Information Technology', '$53,288/year', '24 months', 'See all admits', 'Get Guidance']]\n"
     ]
    }
   ],
   "source": [
    "print(target_universities)"
   ]
  },
  {
   "cell_type": "code",
   "execution_count": null,
   "id": "e4f89b48",
   "metadata": {},
   "outputs": [],
   "source": []
  },
  {
   "cell_type": "code",
   "execution_count": 436,
   "id": "9009b80d",
   "metadata": {},
   "outputs": [],
   "source": [
    "def scroll_to_top_of_page():\n",
    "    top = driver.find_element(By.CSS_SELECTOR, '#__layout > div > div.w-full > div > main > div > div > div > div.pb-5.text-center.lg\\:text-left > div')\n",
    "    driver.execute_script(\"return arguments[0].scrollIntoView(true);\", top)"
   ]
  },
  {
   "cell_type": "code",
   "execution_count": 438,
   "id": "f1ab0598",
   "metadata": {},
   "outputs": [],
   "source": [
    "scroll_to_top_of_page()"
   ]
  },
  {
   "cell_type": "code",
   "execution_count": 481,
   "id": "277ae9f4",
   "metadata": {},
   "outputs": [],
   "source": [
    "\n",
    "def close_the_chat_box():\n",
    "    try:\n",
    "        driver.switch_to.frame(\"siqiframe\")\n",
    "        # driver.switch_to.default_content()\n",
    "        WebDriverWait(driver, 20).until(EC.element_to_be_clickable((By.CSS_SELECTOR, 'body > div.win_close.sqico-larrow'))).click()\n",
    "#         driver.switch_to.default_content()\n",
    "    except (NoSuchFrameException,NoSuchElementException,ElementClickInterceptedException):\n",
    "        print(\"No such frame , or chat box is colsed already!\")\n",
    "        pass"
   ]
  },
  {
   "cell_type": "code",
   "execution_count": 485,
   "id": "55f69e10",
   "metadata": {},
   "outputs": [
    {
     "name": "stdout",
     "output_type": "stream",
     "text": [
      "No such frame , or chat box is colsed already!\n"
     ]
    }
   ],
   "source": [
    "close_the_chat_box()"
   ]
  },
  {
   "cell_type": "code",
   "execution_count": null,
   "id": "392acadd",
   "metadata": {},
   "outputs": [],
   "source": [
    "#__layout > div > main > div > div > div > validationobserver > form > div.grid.grid-cols-2.gap-6.pt-12 > div.text-right > button"
   ]
  },
  {
   "cell_type": "code",
   "execution_count": null,
   "id": "ce492daf",
   "metadata": {},
   "outputs": [],
   "source": []
  },
  {
   "cell_type": "code",
   "execution_count": null,
   "id": "9bb01e91",
   "metadata": {},
   "outputs": [],
   "source": []
  }
 ],
 "metadata": {
  "kernelspec": {
   "display_name": "Python 3 (ipykernel)",
   "language": "python",
   "name": "python3"
  },
  "language_info": {
   "codemirror_mode": {
    "name": "ipython",
    "version": 3
   },
   "file_extension": ".py",
   "mimetype": "text/x-python",
   "name": "python",
   "nbconvert_exporter": "python",
   "pygments_lexer": "ipython3",
   "version": "3.10.2"
  }
 },
 "nbformat": 4,
 "nbformat_minor": 5
}
